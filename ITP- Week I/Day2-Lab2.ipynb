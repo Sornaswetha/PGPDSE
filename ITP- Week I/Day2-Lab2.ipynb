{
 "cells": [
  {
   "cell_type": "markdown",
   "metadata": {},
   "source": [
    "# Tuples\n",
    "- Sequence of mixed data\n",
    "- Stores elements in indexed order\n",
    "- enclosed in()\n",
    "-  first element is placed at index location \"0\"\n",
    "- They are Immutable"
   ]
  },
  {
   "cell_type": "markdown",
   "metadata": {},
   "source": [
    "##### Tuples of integer"
   ]
  },
  {
   "cell_type": "code",
   "execution_count": 1,
   "metadata": {},
   "outputs": [
    {
     "name": "stdout",
     "output_type": "stream",
     "text": [
      "<class 'tuple'>\n"
     ]
    }
   ],
   "source": [
    "t = (1,2,34,5)\n",
    "print( type(t) )"
   ]
  },
  {
   "cell_type": "markdown",
   "metadata": {},
   "source": [
    "##### Mixed Tuples"
   ]
  },
  {
   "cell_type": "code",
   "execution_count": 4,
   "metadata": {},
   "outputs": [
    {
     "name": "stdout",
     "output_type": "stream",
     "text": [
      "<class 'tuple'>\n"
     ]
    }
   ],
   "source": [
    "a = ( \" chennai\", \"d\",2,4, \"**\")\n",
    "print ( type(a) )"
   ]
  },
  {
   "cell_type": "markdown",
   "metadata": {},
   "source": [
    "##### Single Value Tuple"
   ]
  },
  {
   "cell_type": "code",
   "execution_count": 8,
   "metadata": {},
   "outputs": [
    {
     "name": "stdout",
     "output_type": "stream",
     "text": [
      "<class 'tuple'>\n",
      "<class 'int'>\n",
      "<class 'str'>\n"
     ]
    }
   ],
   "source": [
    "s_t = (2,)  # \" , \" is a must . Else it will consider it just as a parenthesis\n",
    "print( type(s_t) )\n",
    "\n",
    "st=(3)\n",
    "print( type(st) )\n",
    "\n",
    "s=(\"d\")\n",
    "print( type(s) )"
   ]
  },
  {
   "cell_type": "markdown",
   "metadata": {},
   "source": [
    "##### Empty Tuple"
   ]
  },
  {
   "cell_type": "code",
   "execution_count": 8,
   "metadata": {},
   "outputs": [
    {
     "name": "stdout",
     "output_type": "stream",
     "text": [
      "()\n"
     ]
    }
   ],
   "source": [
    "empty_tuble = ()\n",
    "empty_tuble = tuple()\n",
    "print(empty_tuble)"
   ]
  },
  {
   "cell_type": "markdown",
   "metadata": {},
   "source": [
    "###### Converting tuble"
   ]
  },
  {
   "cell_type": "code",
   "execution_count": 17,
   "metadata": {},
   "outputs": [
    {
     "name": "stdout",
     "output_type": "stream",
     "text": [
      "('S', 'w', 'e', 't', 'h', 'a')\n"
     ]
    }
   ],
   "source": [
    "#String to tuple\n",
    "\n",
    "str1=\"Swetha\"\n",
    "tuple_str = tuple(str1)\n",
    "print(tuple_str)\n",
    "\n",
    "#tuple to str\n",
    "\n",
    "tup=(1,3,4)\n",
    "#print( str (tup) )\n",
    "\n"
   ]
  },
  {
   "cell_type": "markdown",
   "metadata": {},
   "source": [
    "##### Splicing & Indexeing"
   ]
  },
  {
   "cell_type": "code",
   "execution_count": 20,
   "metadata": {},
   "outputs": [
    {
     "name": "stdout",
     "output_type": "stream",
     "text": [
      "(1, 2, 3, 100, 7, 4)\n"
     ]
    }
   ],
   "source": [
    "\n",
    "tup = ( 1,2,3,7,4)\n",
    "\n",
    "tup2 = tup[ 0 : 3 ] + (100, ) + tup [3: ]\n",
    "\n",
    "print(tup2)"
   ]
  },
  {
   "cell_type": "code",
   "execution_count": 23,
   "metadata": {},
   "outputs": [
    {
     "name": "stdout",
     "output_type": "stream",
     "text": [
      "5\n",
      "(4, 7, 3, 2, 1)\n"
     ]
    }
   ],
   "source": [
    "#Len\n",
    "\n",
    "print (len (tup) )\n",
    "\n"
   ]
  },
  {
   "cell_type": "code",
   "execution_count": 24,
   "metadata": {},
   "outputs": [
    {
     "name": "stdout",
     "output_type": "stream",
     "text": [
      "(4, 7, 3, 2, 1)\n",
      "(4, 7, 3, 2, 1)\n"
     ]
    }
   ],
   "source": [
    "#Reverse\n",
    "\n",
    "print(tup[::-1])\n",
    "\n",
    "print ( tuple (reversed(tup) ) )  \n",
    "\n",
    "#We will get object of reversed tuple. Then we are converting into tuple"
   ]
  },
  {
   "cell_type": "code",
   "execution_count": 37,
   "metadata": {},
   "outputs": [
    {
     "name": "stdout",
     "output_type": "stream",
     "text": [
      "-3\n",
      "69\n",
      "A\n",
      "w\n",
      "AZ\n",
      "siuiu\n"
     ]
    }
   ],
   "source": [
    "#MIN & MAX\n",
    "\n",
    "tup_int = ( 1,2,-3,69)\n",
    "\n",
    "print(min(tup_int))\n",
    "print(max(tup_int))\n",
    "\n",
    "\n",
    "tup_str= (\"s\", \"Y\", \"M\", \"A\", \"w\")\n",
    "print(min(tup_str))\n",
    "print(max(tup_str))\n",
    "\n",
    "tup_str2= (\"sd\", \"gataki\", \"AZ\", \"siuiu\", \"UEUEFH\",\"Al\")\n",
    "print(min(tup_str2))\n",
    "print(max(tup_str2))\n",
    "\n",
    "#NOT SUPPORTED \n",
    "    #tup_mixed = (1, \"hj\", 99 , \"GH\")\n",
    "    #print(min(tup_mixed))\n",
    "    #print(max(tup_mixed))\n",
    "\n"
   ]
  },
  {
   "cell_type": "code",
   "execution_count": 40,
   "metadata": {},
   "outputs": [
    {
     "name": "stdout",
     "output_type": "stream",
     "text": [
      "16\n"
     ]
    }
   ],
   "source": [
    "#sum\n",
    "\n",
    "tup = (1,3,5,7)\n",
    "print(sum(tup))\n",
    "\n",
    "\n",
    "#Not Supported\n",
    "    #tup2=(\"sd\", \"R\")\n",
    "    #printt(sum(tup2))"
   ]
  },
  {
   "cell_type": "code",
   "execution_count": 53,
   "metadata": {},
   "outputs": [
    {
     "name": "stdout",
     "output_type": "stream",
     "text": [
      "[-3, 1, 2, 69]\n",
      "['A', 'M', 'Y', 's', 'w']\n",
      "['AZ', 'Al', 'UEUEFH', 'gataki', 'sd', 'siuiu', 'zzzyfd']\n"
     ]
    }
   ],
   "source": [
    "#sort\n",
    "    # It will return list\n",
    "    # Same sequence\n",
    "    \n",
    "tup_int = ( 1,2,-3,69)\n",
    "\n",
    "print(sorted(tup_int))\n",
    "\n",
    "\n",
    "tup_str= (\"s\", \"Y\", \"M\", \"A\", \"w\")\n",
    "print(sorted(tup_str))\n",
    "\n",
    "\n",
    "tup_str2= (\"sd\", \"gataki\", \"AZ\", \"siuiu\", \"UEUEFH\",\"Al\", \"zzzyfd\")\n",
    "print(sorted(tup_str2))\n",
    "\n",
    "#Not Supported\n",
    "    #tup_mixed = (1, \"hj\", 99 , \"GH\")\n",
    "    #print(sorted(tup_mixed))"
   ]
  },
  {
   "cell_type": "code",
   "execution_count": 56,
   "metadata": {},
   "outputs": [
    {
     "data": {
      "text/plain": [
       "'Caehinn'"
      ]
     },
     "execution_count": 56,
     "metadata": {},
     "output_type": "execute_result"
    }
   ],
   "source": [
    "#Sort \n",
    "\n",
    "#Tubles to List\n",
    "#String to List\n",
    "\n",
    "sorted(\"Chennai\")\n",
    "\n",
    "#Now List to String\n",
    "\n",
    "\"\".join (sorted(\"Chennai\"))"
   ]
  },
  {
   "cell_type": "markdown",
   "metadata": {},
   "source": [
    "##### Sting Tuples"
   ]
  },
  {
   "cell_type": "code",
   "execution_count": 5,
   "metadata": {},
   "outputs": [
    {
     "name": "stdout",
     "output_type": "stream",
     "text": [
      "('Chennai', 'beach', 'visit', 'sum', 'hi', ' type') <class 'tuple'>\n",
      "Chennai <class 'str'>\n",
      "('Chennai', 'beach', 'visit', 'sum') <class 'tuple'>\n",
      "('Chennai',) <class 'tuple'>\n"
     ]
    }
   ],
   "source": [
    "tup_str = (\"Chennai\" , \"beach\", \"visit\", \"sum\", \"hi\" ,\" type\")\n",
    "\n",
    "print(tup_str, type(tup_str))\n",
    "print( tup_str[0] , type(tup_str[0]))\n",
    "print( tup_str[0 : 4 ]  , type (tup_str[0:4] ))\n",
    "print(tup_str [ 0:1 ] , type(tup_str [ 0:1 ]))"
   ]
  },
  {
   "cell_type": "code",
   "execution_count": 61,
   "metadata": {},
   "outputs": [
    {
     "name": "stdout",
     "output_type": "stream",
     "text": [
      "4\n",
      "1\n",
      "0\n"
     ]
    }
   ],
   "source": [
    "#COUNT & INDEX\n",
    "tup_int = ( 1,5,2,-3,69,5,3,6,5,5)\n",
    "print (tup_int.count(5))\n",
    "print (tup_int.index(5))\n",
    "#tup_str = (\"Chennai\" , \"beach\", \"visit\", \"sum\", \"hi\" ,\" type\",\"beach\", \"visit\", \"sum\")\n",
    "#print (tup_int.count(\"beach\"))"
   ]
  },
  {
   "cell_type": "markdown",
   "metadata": {},
   "source": [
    "##### Tuples within tuples"
   ]
  },
  {
   "cell_type": "code",
   "execution_count": 72,
   "metadata": {},
   "outputs": [
    {
     "name": "stdout",
     "output_type": "stream",
     "text": [
      "4\n",
      "(2, 4, 7)\n",
      "4\n",
      "(2, 4)\n",
      "ab <class 'str'>\n"
     ]
    }
   ],
   "source": [
    "tup = (1,2,\"abc\",(2,4,7))\n",
    "\n",
    "print( len (tup))\n",
    "\n",
    "print( tup[-1])\n",
    "\n",
    "print( tup[-1][1] )\n",
    "\n",
    "print( tup [-1][0:2]) #slicing\n",
    "\n",
    "print( tup [-2][:2], type (tup [-2][:2]  )) #slicing a string sequence\n"
   ]
  },
  {
   "cell_type": "code",
   "execution_count": 12,
   "metadata": {},
   "outputs": [
    {
     "name": "stdout",
     "output_type": "stream",
     "text": [
      "(1, 2, 3, 1, 2, 3, 1, 2, 3, 1, 2, 3)\n"
     ]
    }
   ],
   "source": [
    "#Repeatation\n",
    "tup=(1,2,3)\n",
    "print (tup*4)"
   ]
  },
  {
   "cell_type": "code",
   "execution_count": 82,
   "metadata": {},
   "outputs": [
    {
     "name": "stdout",
     "output_type": "stream",
     "text": [
      "<class 'tuple'> (1, 'i', [1, 4], (68, 9))\n"
     ]
    }
   ],
   "source": [
    "#List with Tuble\n",
    "\n",
    "tup =(1,\"i\", [1,4],(68,9))\n",
    "print (type(tup), tup)"
   ]
  },
  {
   "cell_type": "markdown",
   "metadata": {},
   "source": [
    "### Membership Operator\n",
    "- Membership operators are operators used to validate the membership of a value. \n",
    "- It test for membership in a sequence, such as strings, lists, or tuples."
   ]
  },
  {
   "cell_type": "code",
   "execution_count": 11,
   "metadata": {},
   "outputs": [
    {
     "name": "stdout",
     "output_type": "stream",
     "text": [
      "False\n",
      "True\n",
      "True\n",
      "True\n"
     ]
    }
   ],
   "source": [
    "string=\"banglore\"\n",
    "print( \"x\" in string)\n",
    "print( \"x\" not in string)\n",
    "\n",
    "#tuple\n",
    "\n",
    "tup=(1,2,3)\n",
    "print( 4 not in tup)\n",
    "print( 1  in tup)\n"
   ]
  },
  {
   "cell_type": "markdown",
   "metadata": {},
   "source": [
    "# List\n",
    "\n",
    "- Stores sequence of mixed data\n",
    "- enclosed in [] and comma seprated\n",
    "- Indexed order, first index is 0\n",
    "- Forward & Reverse Indexing , Slicing \n",
    "- They are mutable\n",
    "- To handle structured data\n",
    "- Cannot subtract and divide \n",
    "- Can do addition and multiplication\n"
   ]
  },
  {
   "cell_type": "code",
   "execution_count": 13,
   "metadata": {},
   "outputs": [
    {
     "name": "stdout",
     "output_type": "stream",
     "text": [
      "<class 'list'>\n"
     ]
    }
   ],
   "source": [
    "lis = [ 1, 2, 3, 4]\n",
    "print(type(lis))"
   ]
  },
  {
   "cell_type": "code",
   "execution_count": 16,
   "metadata": {},
   "outputs": [
    {
     "name": "stdout",
     "output_type": "stream",
     "text": [
      " Len  4\n",
      "2\n"
     ]
    }
   ],
   "source": [
    "print( \" Len \",len (lis))\n",
    "print ( lis[1])\n"
   ]
  },
  {
   "cell_type": "markdown",
   "metadata": {},
   "source": [
    "#### Conversion"
   ]
  },
  {
   "cell_type": "code",
   "execution_count": 25,
   "metadata": {},
   "outputs": [
    {
     "name": "stdout",
     "output_type": "stream",
     "text": [
      "['C', 'h', 'e', 'n', 'n', 'a', 'i']\n",
      "['C', 'h', 'e', 'n', 'n', 'a', 'i']\n",
      "('C', 'h', 'e', 'n', 'n', 'a', 'i')\n",
      "['i', 'a', 'n', 'n', 'e', 'h', 'C']\n"
     ]
    }
   ],
   "source": [
    "#string to List\n",
    "var1 = \"Chennai\"\n",
    "list1=list(var1)\n",
    "print(list1)\n",
    "\n",
    "#List to Tuple\n",
    "tup1=tuple(list1)\n",
    "print(tup1)\n",
    "\n",
    "#Reverse\n",
    "print(list(reversed(list1)))\n"
   ]
  },
  {
   "cell_type": "markdown",
   "metadata": {},
   "source": [
    "- Repeatation\n",
    "- Membership\n",
    "- Concatination\n",
    "- Reversed\n",
    "- Join\n",
    "- Max, Min, Sum, Sorted"
   ]
  },
  {
   "cell_type": "markdown",
   "metadata": {},
   "source": [
    "WAP to create a list of 5 close friends and sort their name in descending"
   ]
  },
  {
   "cell_type": "code",
   "execution_count": 27,
   "metadata": {},
   "outputs": [
    {
     "name": "stdout",
     "output_type": "stream",
     "text": [
      "['Swetha', 'Kayal', 'Gokhila', 'Christy', 'Anu']\n",
      "['Swetha', 'Kayal', 'Gokhila', 'Christy', 'Anu']\n"
     ]
    }
   ],
   "source": [
    "friends = [\"Anu\", \"Swetha\" ,\"Christy\",\"Kayal\",\"Gokhila\"]\n",
    "\n",
    "#Type 1\n",
    "print ( list(reversed(sorted(friends))))\n",
    "\n",
    "#Type\n",
    "print( sorted (friends ,reverse =True))    #  Reverse is parameter of Sorted"
   ]
  },
  {
   "cell_type": "markdown",
   "metadata": {},
   "source": [
    "Sort\n",
    "- Sort Method is available in List\n",
    "- It can modify the originl list.Since List is mutable. But sorted cannot modify. "
   ]
  },
  {
   "cell_type": "code",
   "execution_count": 46,
   "metadata": {},
   "outputs": [
    {
     "name": "stdout",
     "output_type": "stream",
     "text": [
      "['Anu', 'Christy', 'Gokhila', 'Kayal', 'Swetha']\n",
      "['Swetha', 'Kayal', 'Gokhila', 'Christy', 'Anu']\n"
     ]
    }
   ],
   "source": [
    "friends = [\"Anu\", \"Swetha\" ,\"Christy\",\"Kayal\",\"Gokhila\"]\n",
    "friends.sort()\n",
    "print(friends)\n",
    "friends.reverse()\n",
    "print(friends)"
   ]
  },
  {
   "cell_type": "markdown",
   "metadata": {},
   "source": [
    "#### Append Values to List"
   ]
  },
  {
   "cell_type": "code",
   "execution_count": 47,
   "metadata": {},
   "outputs": [
    {
     "name": "stdout",
     "output_type": "stream",
     "text": [
      "['Swetha', 'Kayal', 'Gokhila', 'Christy', 'Anu', 'Mythili']\n"
     ]
    }
   ],
   "source": [
    "friends.append(\"Mythili\")\n",
    "print(friends)"
   ]
  },
  {
   "cell_type": "markdown",
   "metadata": {},
   "source": [
    "#### Insert to a particular positin"
   ]
  },
  {
   "cell_type": "code",
   "execution_count": 48,
   "metadata": {},
   "outputs": [
    {
     "name": "stdout",
     "output_type": "stream",
     "text": [
      "['Swetha', 'Kayal', 'Gokhila', 'Christy', 'Anu', 'Nive', 'Mythili']\n"
     ]
    }
   ],
   "source": [
    "friends.insert(5,\"Nive\")\n",
    "print(friends)"
   ]
  },
  {
   "cell_type": "code",
   "execution_count": 69,
   "metadata": {},
   "outputs": [
    {
     "name": "stdout",
     "output_type": "stream",
     "text": [
      "['Anu', 'Swetha', 'Christy', 'Kayal', 'Gokhila', [1, 2, 3]]\n",
      "['Anu', 'Swetha', 'Christy', 'Kayal', 'Gokhila', [1, 2, 3], (1, 2, 3)]\n"
     ]
    }
   ],
   "source": [
    "friends = [\"Anu\", \"Swetha\" ,\"Christy\",\"Kayal\",\"Gokhila\"]\n",
    "\n",
    "friends.append([1,2,3])\n",
    "print(friends)\n",
    "\n",
    "friends.append((1,2,3))\n",
    "print(friends)\n"
   ]
  },
  {
   "cell_type": "markdown",
   "metadata": {},
   "source": [
    "#### Extend"
   ]
  },
  {
   "cell_type": "code",
   "execution_count": 64,
   "metadata": {},
   "outputs": [
    {
     "name": "stdout",
     "output_type": "stream",
     "text": [
      "['Anu', 'Swetha', 'Christy', 'Kayal', 'Gokhila', [1, 2, 3], (1, 2, 3), 1, 2, 3]\n",
      "['Anu', 'Swetha', 'Christy', 'Kayal', 'Gokhila', [1, 2, 3], (1, 2, 3), 1, 2, 3, 1, 2, 3]\n",
      "['Anu', 'Swetha', 'Christy', 'Kayal', 'Gokhila', [1, 2, 3], (1, 2, 3), 1, 2, 3, 1, 2, 3, 'M', 'y', 't', 'h', 'i', 'l', 'i']\n"
     ]
    }
   ],
   "source": [
    "friends.extend([1,2,3])\n",
    "print(friends)\n",
    "\n",
    "friends.extend((1,2,3))\n",
    "print(friends)\n",
    "\n",
    "friends.extend(\"Mythili\")\n",
    "print(friends)\n"
   ]
  },
  {
   "cell_type": "markdown",
   "metadata": {},
   "source": [
    "#### Clear & Delete& Pop"
   ]
  },
  {
   "cell_type": "code",
   "execution_count": 80,
   "metadata": {},
   "outputs": [
    {
     "name": "stdout",
     "output_type": "stream",
     "text": [
      "['Anu', 'Swetha', 'Christy', 'Kayal', 'Gokhila']\n",
      "[]\n",
      "['Anu', 'Swetha', 'Christy', 'Kayal']\n",
      "Swetha\n",
      "['Anu', 'Christy', 'Kayal']\n",
      "['Christy', 'Kayal']\n"
     ]
    }
   ],
   "source": [
    "friends = [\"Anu\", \"Swetha\" ,\"Christy\",\"Kayal\",\"Gokhila\"]\n",
    "print(friends)\n",
    "\n",
    "friends.clear()\n",
    "print(friends)\n",
    "\n",
    "friends = [\"Anu\", \"Swetha\" ,\"Christy\",\"Kayal\",\"Gokhila\"]\n",
    "del friends[-1]\n",
    "print(friends)\n",
    "\n",
    "print (friends.pop(1) ) # to display and delete from list\n",
    "print (friends)\n",
    "\n",
    "friends.remove(\"Anu\")\n",
    "print (friends)\n",
    "\n",
    "del friends\n",
    "\n",
    "#friends"
   ]
  },
  {
   "cell_type": "markdown",
   "metadata": {},
   "source": [
    "# Sets\n",
    "\n",
    "- Sequence of mixed data of immutable type\n",
    "- enclosed in {}\n",
    "- UnOrdered\n",
    "- No indexing\n",
    "- Does not allow Duplicates\n",
    "- Set operations ( Union , Intersectio, Difference\n",
    "- They are mutable but store immutable data"
   ]
  },
  {
   "cell_type": "markdown",
   "metadata": {},
   "source": [
    "#### Empty Set"
   ]
  },
  {
   "cell_type": "code",
   "execution_count": 85,
   "metadata": {},
   "outputs": [
    {
     "name": "stdout",
     "output_type": "stream",
     "text": [
      "set() <class 'set'>\n"
     ]
    }
   ],
   "source": [
    "s= set()\n",
    "print ( s, type(s))\n",
    "\n",
    "#  s = {} # DO NOT WRITE THIS. THIS IS NOT A EMPTY SET"
   ]
  },
  {
   "cell_type": "code",
   "execution_count": 93,
   "metadata": {},
   "outputs": [
    {
     "name": "stdout",
     "output_type": "stream",
     "text": [
      "7\n",
      "{1, 2, 3, 4, 7, 8, 9}\n"
     ]
    }
   ],
   "source": [
    "s={1,3,4,7,2,8,4,9}\n",
    "print(len(s))\n",
    "print(s)"
   ]
  },
  {
   "cell_type": "markdown",
   "metadata": {},
   "source": [
    "- No Pop on basis of Index\n",
    "- No Indexing\n",
    "- String , Tuble, List can be converted"
   ]
  },
  {
   "cell_type": "code",
   "execution_count": 89,
   "metadata": {},
   "outputs": [
    {
     "name": "stdout",
     "output_type": "stream",
     "text": [
      "{1, 2, 3, 4, 7, 8, 9, 10}\n"
     ]
    }
   ],
   "source": [
    "s.add(10)\n",
    "print(s)"
   ]
  },
  {
   "cell_type": "code",
   "execution_count": 94,
   "metadata": {},
   "outputs": [
    {
     "name": "stdout",
     "output_type": "stream",
     "text": [
      "{1, 2, 3, 4, 7, 8, 9}\n",
      "{1, 2, 3, 4, 7, 8, 9}\n"
     ]
    }
   ],
   "source": [
    "list(s)\n",
    "print (s)\n",
    "tuple(s)\n",
    "print(s)"
   ]
  },
  {
   "cell_type": "markdown",
   "metadata": {},
   "source": [
    "#### Set Operations"
   ]
  },
  {
   "cell_type": "code",
   "execution_count": 95,
   "metadata": {},
   "outputs": [
    {
     "name": "stdout",
     "output_type": "stream",
     "text": [
      "{1, 2, 4, 5, 6, 39, 23}\n",
      "{0, 2, 3, 5, 6, 9, 87, 25}\n",
      "{2, 5, 6}\n",
      "{0, 1, 2, 3, 4, 5, 6, 39, 9, 87, 23, 25}\n",
      "{0, 1, 3, 4, 39, 9, 23, 87, 25}\n",
      "{1, 4, 23, 39}\n",
      "{0, 3, 9, 87, 25}\n"
     ]
    }
   ],
   "source": [
    "l1=[1,2,39,4,5,6,23]\n",
    "l2=[5,3,2,6,25,9,87,0]\n",
    "s1=set(l1)\n",
    "s2=set(l2)\n",
    "\n",
    "print(s1)\n",
    "print(s2)\n",
    "\n",
    "print (s1 & s2) # common\n",
    "print (s1 | s2) # union\n",
    "print (s1 ^ s2)# uncommon\n",
    "print (s1 - s2)# only s1 - set difference\n",
    "print (s2 - s1)# only s2\n"
   ]
  },
  {
   "cell_type": "code",
   "execution_count": null,
   "metadata": {},
   "outputs": [],
   "source": []
  },
  {
   "cell_type": "code",
   "execution_count": null,
   "metadata": {},
   "outputs": [],
   "source": []
  }
 ],
 "metadata": {
  "kernelspec": {
   "display_name": "Python 3",
   "language": "python",
   "name": "python3"
  },
  "language_info": {
   "codemirror_mode": {
    "name": "ipython",
    "version": 3
   },
   "file_extension": ".py",
   "mimetype": "text/x-python",
   "name": "python",
   "nbconvert_exporter": "python",
   "pygments_lexer": "ipython3",
   "version": "3.7.3"
  }
 },
 "nbformat": 4,
 "nbformat_minor": 2
}
