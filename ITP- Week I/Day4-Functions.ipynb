{
 "cells": [
  {
   "cell_type": "markdown",
   "metadata": {},
   "source": [
    "# Function "
   ]
  },
  {
   "cell_type": "markdown",
   "metadata": {},
   "source": [
    "def < functiion_name> ( parameters ) :\n",
    "    #CODE"
   ]
  },
  {
   "cell_type": "markdown",
   "metadata": {},
   "source": [
    "- user defined\n",
    "- built in\n",
    "- lambda / one liner/ anonymous\n",
    "- Recursion"
   ]
  },
  {
   "cell_type": "markdown",
   "metadata": {},
   "source": [
    "#### Examples"
   ]
  },
  {
   "cell_type": "code",
   "execution_count": null,
   "metadata": {},
   "outputs": [],
   "source": [
    "def add( a, b):\n",
    "    if a.__class__ == int and b.__class__ == int:\n",
    "        return int(a) + int (b)\n",
    "    else:\n",
    "        return \"Invalid Input . Not Integer\"\n",
    "\n",
    "\n",
    "#Main \n",
    "n1= input()\n",
    "n2 =input()\n",
    "x=add(n1,n2)\n",
    "print(x)\n",
    "y=add(\"hi\", \"hi\")\n",
    "print(y)\n",
    "\n",
    "z=add(5,7)\n",
    "print(z)"
   ]
  },
  {
   "cell_type": "code",
   "execution_count": null,
   "metadata": {},
   "outputs": [],
   "source": [
    "a=5\n",
    "print (type (a))"
   ]
  },
  {
   "cell_type": "markdown",
   "metadata": {},
   "source": [
    "#### Arguments\n",
    "\n",
    "- Required\n",
    "- Keyword\n",
    "- Default\n",
    "- Variable Length"
   ]
  },
  {
   "cell_type": "code",
   "execution_count": null,
   "metadata": {},
   "outputs": [],
   "source": [
    "def add(a,b):\n",
    "    return a+b\n",
    "\n",
    "print (add(7,8))"
   ]
  },
  {
   "cell_type": "code",
   "execution_count": null,
   "metadata": {},
   "outputs": [],
   "source": [
    "print( add (9))"
   ]
  },
  {
   "cell_type": "markdown",
   "metadata": {},
   "source": [
    "#### eg :\n",
    "    \n",
    "    sorted(seq,key,reverse):\n",
    "      Seq - Must be in that position\n",
    "      Key ,Revese - Optional\n",
    "      key ,reverse are keyword arguments\n",
    "      keyword should come at last"
   ]
  },
  {
   "cell_type": "markdown",
   "metadata": {},
   "source": [
    "#### Keyword"
   ]
  },
  {
   "cell_type": "code",
   "execution_count": null,
   "metadata": {},
   "outputs": [],
   "source": [
    "def printme (name,age):\n",
    "    print (\"name:\" , name)\n",
    "    print (\"age :\", age)\n",
    "\n",
    "printme(age =9 ,name=\"kevin\")"
   ]
  },
  {
   "cell_type": "code",
   "execution_count": null,
   "metadata": {},
   "outputs": [],
   "source": [
    "def printme (name,age,mob):\n",
    "    print (\"name:\" , name)\n",
    "    print (\"age :\", age)\n",
    "    print (\"mob :\", mob)\n",
    "printme(\"kevin\",mob= 996563, age =9 ) \n",
    "\n",
    "#printme( mob=9965, 5, name= \"nive\" )  # positional argument follows keyword argument\n",
    "#printme(age =9 ,name=\"kevin\", 996563)  #--- Wrong : positional argument follows keyword argument\n",
    "#printme(996563,age =9 ,name=\"kevin\")  # -- got multiple values for argument 'name'"
   ]
  },
  {
   "cell_type": "markdown",
   "metadata": {},
   "source": [
    "#### Default\n",
    "\n",
    "- If value is not passed , it will take default\n",
    "- eg:\n",
    "     - end , sep , reverse\n",
    "- Required must come first"
   ]
  },
  {
   "cell_type": "code",
   "execution_count": null,
   "metadata": {},
   "outputs": [],
   "source": [
    "def add( a,b= 30):\n",
    "    return a+b\n",
    "add(5)"
   ]
  },
  {
   "cell_type": "markdown",
   "metadata": {},
   "source": [
    "#### Documentation of existing function"
   ]
  },
  {
   "cell_type": "code",
   "execution_count": null,
   "metadata": {},
   "outputs": [],
   "source": [
    "help (sorted)"
   ]
  },
  {
   "cell_type": "code",
   "execution_count": 2,
   "metadata": {},
   "outputs": [
    {
     "name": "stdout",
     "output_type": "stream",
     "text": [
      "Help on built-in function sum in module builtins:\n",
      "\n",
      "sum(iterable, start=0, /)\n",
      "    Return the sum of a 'start' value (default: 0) plus an iterable of numbers\n",
      "    \n",
      "    When the iterable is empty, return the start value.\n",
      "    This function is intended specifically for use with numeric values and may\n",
      "    reject non-numeric types.\n",
      "\n"
     ]
    }
   ],
   "source": [
    "help (sum)"
   ]
  },
  {
   "cell_type": "code",
   "execution_count": null,
   "metadata": {},
   "outputs": [],
   "source": [
    "sum([1,3,5])"
   ]
  },
  {
   "cell_type": "code",
   "execution_count": 1,
   "metadata": {},
   "outputs": [
    {
     "data": {
      "text/plain": [
       "109"
      ]
     },
     "execution_count": 1,
     "metadata": {},
     "output_type": "execute_result"
    }
   ],
   "source": [
    "sum([1,3,5],100)"
   ]
  },
  {
   "cell_type": "code",
   "execution_count": null,
   "metadata": {},
   "outputs": [],
   "source": [
    "help(print)"
   ]
  },
  {
   "cell_type": "markdown",
   "metadata": {},
   "source": [
    "### Variable  Length Arguments\n",
    "\n",
    "- *args : Tuple\n",
    "     - eg :\n",
    "        - print\n",
    "- **kwargs\n",
    "    - Allways  keyword argument\n",
    "    - Dictionary\n",
    "- (Positional , * , default , **)"
   ]
  },
  {
   "cell_type": "code",
   "execution_count": null,
   "metadata": {},
   "outputs": [],
   "source": [
    "def all(*args):\n",
    "    print (args)\n",
    "all(5,6,8,\"k\",\"fyuk\",[9,8])\n",
    "\n",
    "def add(*args):\n",
    "    return sum (args)\n",
    "add(9,7,0)"
   ]
  },
  {
   "cell_type": "code",
   "execution_count": null,
   "metadata": {},
   "outputs": [],
   "source": [
    "def func( a, *args, b=30):\n",
    "    print (a)\n",
    "    print (*args)\n",
    "    print(b)\n",
    "    \n",
    "func(1,2,3,4, b= 9)\n",
    "func(1,2,3,4)"
   ]
  },
  {
   "cell_type": "code",
   "execution_count": 3,
   "metadata": {},
   "outputs": [
    {
     "name": "stdout",
     "output_type": "stream",
     "text": [
      "(1, 2, 3, 4)\n",
      "{'a': 10, 'b': 45}\n"
     ]
    }
   ],
   "source": [
    "#**kwargs\n",
    "\n",
    "def all(*args, **kwargs):\n",
    "    print (args)\n",
    "    print (kwargs)\n",
    "\n",
    "all (1, 2, 3, 4, a=10, b=45)"
   ]
  },
  {
   "cell_type": "code",
   "execution_count": 4,
   "metadata": {},
   "outputs": [
    {
     "name": "stdout",
     "output_type": "stream",
     "text": [
      "1\n",
      "(2, 3, 4)\n",
      "9\n",
      "{'c': 8, 'a': 10}\n"
     ]
    }
   ],
   "source": [
    "def all(b, *args, d=9, **kwargs):\n",
    "    print( b)\n",
    "    print (args)\n",
    "    print (d)\n",
    "    print (kwargs)\n",
    "    \n",
    "\n",
    "all (1, 2, 3, 4, c=8,a=10)"
   ]
  },
  {
   "cell_type": "markdown",
   "metadata": {},
   "source": [
    "##### Calculate Factorial"
   ]
  },
  {
   "cell_type": "code",
   "execution_count": 5,
   "metadata": {},
   "outputs": [
    {
     "name": "stdout",
     "output_type": "stream",
     "text": [
      "24\n"
     ]
    }
   ],
   "source": [
    "def factorial(n):\n",
    "    fact=1\n",
    "    for i in range (1,n+1):\n",
    "        fact*=i\n",
    "    return fact\n",
    "\n",
    "print (factorial ( 4))"
   ]
  },
  {
   "cell_type": "markdown",
   "metadata": {},
   "source": [
    "#### Multiple value as parameter and  product of integer"
   ]
  },
  {
   "cell_type": "code",
   "execution_count": 8,
   "metadata": {},
   "outputs": [
    {
     "name": "stdout",
     "output_type": "stream",
     "text": [
      "504\n"
     ]
    }
   ],
   "source": [
    "def prod(*args):\n",
    "    p=1\n",
    "    for i in args:\n",
    "        if i.__class__ == int :\n",
    "            p*=i\n",
    "    return p\n",
    "\n",
    "print (prod(3,8,3,\"k\", \"%jk\", 7))"
   ]
  },
  {
   "cell_type": "markdown",
   "metadata": {},
   "source": [
    "# Scope of Variable\n",
    "\n",
    "- Global\n",
    "- Local\n",
    "- In built"
   ]
  },
  {
   "cell_type": "code",
   "execution_count": 15,
   "metadata": {},
   "outputs": [
    {
     "name": "stdout",
     "output_type": "stream",
     "text": [
      "10\n",
      "8\n",
      "34\n",
      "17\n"
     ]
    }
   ],
   "source": [
    "def fun1(n):\n",
    "    a=5\n",
    "    print (n * a)    # n, a are Local\n",
    "    \n",
    "def fun2 (n):\n",
    "    b=4   # b is local of func2\n",
    "    print ( n* b)   \n",
    "        \n",
    "def fun3 (n):\n",
    "    global b\n",
    "    b=17  # In this case it is using global b\n",
    "    print ( n* b)   \n",
    "    \n",
    "b=8     # b is global\n",
    "\n",
    "fun1 (2)\n",
    "fun2 (2)\n",
    "fun3 (2)\n",
    "\n",
    "print (b)"
   ]
  },
  {
   "cell_type": "markdown",
   "metadata": {},
   "source": [
    "# Built In Functions"
   ]
  },
  {
   "cell_type": "markdown",
   "metadata": {},
   "source": [
    "### Zip"
   ]
  },
  {
   "cell_type": "code",
   "execution_count": 22,
   "metadata": {},
   "outputs": [
    {
     "name": "stdout",
     "output_type": "stream",
     "text": [
      "[(1, 'a', 'hi'), (2, 'b', 'hello'), (3, 'c', ' bye')]\n",
      "[(1, 101, 'hi'), (3, 104, 'hello')]\n"
     ]
    }
   ],
   "source": [
    "# 2 or n  diff list  . Iterate at the same time\n",
    "a = [1, 2,3]\n",
    "b = ['a', 'b', 'c']\n",
    "c = (\"hi\", \"hello\" ,\" bye\")\n",
    "print (list (zip (a,b,c)))\n",
    "\n",
    "a = [1, 3]   # Takes sequence with minimum lenght\n",
    "b = { 101:'a', 104:  'b', 109:  'c'}   # Takes only Keys from Dictionary\n",
    "c = (\"hi\", \"hello\" ,\" bye\")\n",
    "print (list (zip (a,b,c)))   # Gives a seuqnce of Tubles "
   ]
  },
  {
   "cell_type": "code",
   "execution_count": 35,
   "metadata": {},
   "outputs": [
    {
     "name": "stdout",
     "output_type": "stream",
     "text": [
      "[(1, 'a'), (2, 'b'), (3, 'c')]\n"
     ]
    },
    {
     "ename": "TypeError",
     "evalue": "'int' object is not iterable",
     "output_type": "error",
     "traceback": [
      "\u001b[1;31m---------------------------------------------------------------------------\u001b[0m",
      "\u001b[1;31mTypeError\u001b[0m                                 Traceback (most recent call last)",
      "\u001b[1;32m<ipython-input-35-38d682969659>\u001b[0m in \u001b[0;36m<module>\u001b[1;34m\u001b[0m\n\u001b[0;32m      6\u001b[0m \u001b[1;32mfor\u001b[0m \u001b[0mi\u001b[0m \u001b[1;32min\u001b[0m \u001b[0mzip\u001b[0m\u001b[1;33m(\u001b[0m\u001b[0ma\u001b[0m\u001b[1;33m,\u001b[0m\u001b[0mb\u001b[0m\u001b[1;33m)\u001b[0m\u001b[1;33m:\u001b[0m\u001b[1;33m\u001b[0m\u001b[1;33m\u001b[0m\u001b[0m\n\u001b[0;32m      7\u001b[0m     \u001b[0mx\u001b[0m\u001b[1;33m=\u001b[0m\u001b[1;36m0\u001b[0m\u001b[1;33m\u001b[0m\u001b[1;33m\u001b[0m\u001b[0m\n\u001b[1;32m----> 8\u001b[1;33m     \u001b[1;32mfor\u001b[0m \u001b[0mx\u001b[0m \u001b[1;32min\u001b[0m \u001b[0mlen\u001b[0m\u001b[1;33m(\u001b[0m\u001b[0mi\u001b[0m\u001b[1;33m)\u001b[0m\u001b[1;33m:\u001b[0m\u001b[1;33m\u001b[0m\u001b[1;33m\u001b[0m\u001b[0m\n\u001b[0m\u001b[0;32m      9\u001b[0m         \u001b[0mprint\u001b[0m \u001b[1;33m(\u001b[0m\u001b[0mi\u001b[0m\u001b[1;33m[\u001b[0m\u001b[0mx\u001b[0m\u001b[1;33m]\u001b[0m\u001b[1;33m,\u001b[0m \u001b[0mend\u001b[0m \u001b[1;33m=\u001b[0m\u001b[1;34m\" -\"\u001b[0m\u001b[1;33m)\u001b[0m\u001b[1;33m\u001b[0m\u001b[1;33m\u001b[0m\u001b[0m\n\u001b[0;32m     10\u001b[0m         \u001b[0mx\u001b[0m\u001b[1;33m+=\u001b[0m\u001b[1;36m1\u001b[0m\u001b[1;33m\u001b[0m\u001b[1;33m\u001b[0m\u001b[0m\n",
      "\u001b[1;31mTypeError\u001b[0m: 'int' object is not iterable"
     ]
    }
   ],
   "source": [
    "a = [1, 2,3]\n",
    "b = ['a', 'b', 'c']\n",
    "print (list (zip (a,b)))\n",
    "\n",
    "\n",
    "for i in zip(a,b):\n",
    "    x=0\n",
    "    for x in len(i):\n",
    "        print (i[x], end =\" -\")\n",
    "        x+=1\n",
    "    print(\" \")"
   ]
  },
  {
   "cell_type": "markdown",
   "metadata": {},
   "source": [
    "### Power"
   ]
  },
  {
   "cell_type": "code",
   "execution_count": 37,
   "metadata": {},
   "outputs": [
    {
     "name": "stdout",
     "output_type": "stream",
     "text": [
      "64\n",
      "4\n",
      "4\n"
     ]
    }
   ],
   "source": [
    "x = pow (4,3)\n",
    "print(x)\n",
    "\n",
    "y = pow (4,3,5)\n",
    "print (( 4**3) %5)\n",
    "print(y)"
   ]
  },
  {
   "cell_type": "markdown",
   "metadata": {},
   "source": [
    "### Iter"
   ]
  },
  {
   "cell_type": "markdown",
   "metadata": {},
   "source": [
    "- object of iterator\n",
    "- can be used using next()"
   ]
  },
  {
   "cell_type": "code",
   "execution_count": 39,
   "metadata": {},
   "outputs": [
    {
     "name": "stdout",
     "output_type": "stream",
     "text": [
      "abc\n",
      "def\n",
      "lmn\n"
     ]
    }
   ],
   "source": [
    "x = iter ( [ \"abc\" , \"def\" , \"lmn\" ])\n",
    "print(next(x))\n",
    "print(next(x))\n",
    "print(next(x))\n",
    "# print(next(x))  --> StopIteration: \n"
   ]
  },
  {
   "cell_type": "markdown",
   "metadata": {},
   "source": [
    "## Lambda"
   ]
  },
  {
   "cell_type": "code",
   "execution_count": 40,
   "metadata": {},
   "outputs": [
    {
     "data": {
      "text/plain": [
       "17"
      ]
     },
     "execution_count": 40,
     "metadata": {},
     "output_type": "execute_result"
    }
   ],
   "source": [
    "#sum of two numbers\n",
    "\n",
    "lambda x,y : x+y\n",
    "y = lambda x,y : x+y\n",
    "y (8,9)"
   ]
  },
  {
   "cell_type": "markdown",
   "metadata": {},
   "source": [
    "###### Even or Not"
   ]
  },
  {
   "cell_type": "code",
   "execution_count": 61,
   "metadata": {},
   "outputs": [
    {
     "data": {
      "text/plain": [
       "False"
      ]
     },
     "execution_count": 61,
     "metadata": {},
     "output_type": "execute_result"
    }
   ],
   "source": [
    "is_even = lambda x : x %2 ==0\n",
    "\n",
    "is_even(7)"
   ]
  },
  {
   "cell_type": "code",
   "execution_count": 47,
   "metadata": {},
   "outputs": [
    {
     "name": "stdout",
     "output_type": "stream",
     "text": [
      "odd\n"
     ]
    }
   ],
   "source": [
    "a = 5\n",
    "if (lambda a : a%2):\n",
    "    print (\"odd\")\n",
    "else:\n",
    "    print('even')\n",
    "\n",
    "else_odd = lambda x : \"even\" if x%2==0 else \"odd\""
   ]
  },
  {
   "cell_type": "markdown",
   "metadata": {},
   "source": [
    "###### Filter the  even numbers from the given list"
   ]
  },
  {
   "cell_type": "code",
   "execution_count": 64,
   "metadata": {},
   "outputs": [
    {
     "name": "stdout",
     "output_type": "stream",
     "text": [
      "[2, 4, 6, 8]\n",
      "[2, 4, 6, 8]\n"
     ]
    }
   ],
   "source": [
    "l = [ 1,2,3,4,5,6,7,8,9]\n",
    "\n",
    "# List Comprehension\n",
    "even_num1 = [ i for i in l if i%2 == 0]\n",
    "print (even_num1)\n",
    "# Lambda\n",
    "\n",
    "b = list (filter ( lambda a : a%2 ==0 , l ))\n",
    "print (b)\n",
    "#filter will return a seqence , so convert to list\n"
   ]
  },
  {
   "cell_type": "markdown",
   "metadata": {},
   "source": [
    "###### Return second character from string"
   ]
  },
  {
   "cell_type": "code",
   "execution_count": 59,
   "metadata": {},
   "outputs": [
    {
     "name": "stdout",
     "output_type": "stream",
     "text": [
      "e\n"
     ]
    }
   ],
   "source": [
    "string = lambda str : str [1]\n",
    "print ( string (\"Learning\") )"
   ]
  },
  {
   "cell_type": "markdown",
   "metadata": {},
   "source": [
    "###### to sort the list on basis of second character"
   ]
  },
  {
   "cell_type": "code",
   "execution_count": 69,
   "metadata": {},
   "outputs": [
    {
     "name": "stdout",
     "output_type": "stream",
     "text": [
      "['Car', 'Aeroplane', 'Bike', 'House']\n"
     ]
    }
   ],
   "source": [
    "l = [ \"Car\" , \"Bike\", \"Aeroplane\", \"House\"]\n",
    "\n",
    "l1 = sorted ( l , key = lambda str : str [1])  \n",
    "print (l1) \n"
   ]
  },
  {
   "cell_type": "markdown",
   "metadata": {},
   "source": [
    "###### Return Type of an object"
   ]
  },
  {
   "cell_type": "markdown",
   "metadata": {},
   "source": [
    "###### To check if len of string is >4 or not"
   ]
  },
  {
   "cell_type": "code",
   "execution_count": 82,
   "metadata": {},
   "outputs": [
    {
     "data": {
      "text/plain": [
       "False"
      ]
     },
     "execution_count": 82,
     "metadata": {},
     "output_type": "execute_result"
    }
   ],
   "source": [
    "y = lambda x : len (x) >4\n",
    "\n",
    "y(\"hi\")"
   ]
  },
  {
   "cell_type": "markdown",
   "metadata": {},
   "source": [
    "###### to filter the elemnts from a list ith lenght > 4"
   ]
  },
  {
   "cell_type": "code",
   "execution_count": 83,
   "metadata": {},
   "outputs": [
    {
     "data": {
      "text/plain": [
       "['Aeroplane', 'House']"
      ]
     },
     "execution_count": 83,
     "metadata": {},
     "output_type": "execute_result"
    }
   ],
   "source": [
    "l = [ \"Car\" , \"Bike\", \"Aeroplane\", \"House\"]\n",
    "\n",
    "list ( filter ( lambda x : len (x) > 4, l ))"
   ]
  },
  {
   "cell_type": "markdown",
   "metadata": {},
   "source": [
    "###### to take 2 numbers and return their their product"
   ]
  },
  {
   "cell_type": "code",
   "execution_count": 56,
   "metadata": {},
   "outputs": [
    {
     "name": "stdout",
     "output_type": "stream",
     "text": [
      "45\n"
     ]
    }
   ],
   "source": [
    "prod = lambda x,y : x*y\n",
    "print (prod(9,5))"
   ]
  },
  {
   "cell_type": "markdown",
   "metadata": {},
   "source": [
    "###### To generate a new list consisting length of each element"
   ]
  },
  {
   "cell_type": "code",
   "execution_count": 86,
   "metadata": {},
   "outputs": [
    {
     "name": "stdout",
     "output_type": "stream",
     "text": [
      "[3, 4, 9, 5]\n",
      "[3, 4, 9, 5]\n",
      "[3, 4, 9, 5]\n"
     ]
    }
   ],
   "source": [
    "l = [ \"Car\" , \"Bike\", \"Aeroplane\", \"House\"]\n",
    "length=[]\n",
    "for x in l:\n",
    "    length.append (len(x))\n",
    "print (length)\n",
    "\n",
    "a = [ len (x) for x in l]\n",
    "print (a)\n",
    "\n",
    "b= list ( map (len , l))\n",
    "print (b)"
   ]
  },
  {
   "cell_type": "markdown",
   "metadata": {},
   "source": [
    "#### Map ( function , sequence)\n",
    "\n",
    "- A new sequence based on existing function"
   ]
  },
  {
   "cell_type": "markdown",
   "metadata": {},
   "source": [
    "###### a list of squres of first 10 nautral numers using map ()"
   ]
  },
  {
   "cell_type": "code",
   "execution_count": 92,
   "metadata": {},
   "outputs": [
    {
     "name": "stdout",
     "output_type": "stream",
     "text": [
      "[1.0, 1.4142135623730951, 1.7320508075688772, 2.0, 2.23606797749979, 2.449489742783178, 2.6457513110645907, 2.8284271247461903, 3.0, 3.1622776601683795]\n",
      "[1, 4, 9, 16, 25, 36, 49, 64, 81, 100]\n"
     ]
    }
   ],
   "source": [
    "import math\n",
    "#Square Root\n",
    "l= [1,2,3]\n",
    "b= list ( map (math.sqrt , range ( 1,11)))\n",
    "print (b)\n",
    "#Square\n",
    "\n",
    "\n",
    "c= list ( map ( lambda x : x*x , range ( 1,11)))\n",
    "print (c)\n",
    "\n"
   ]
  },
  {
   "cell_type": "markdown",
   "metadata": {},
   "source": [
    "### Filter "
   ]
  },
  {
   "cell_type": "markdown",
   "metadata": {},
   "source": [
    "###### To filter the integer elements from below list"
   ]
  },
  {
   "cell_type": "code",
   "execution_count": 116,
   "metadata": {},
   "outputs": [
    {
     "data": {
      "text/plain": [
       "[1, 2, 3, 4]"
      ]
     },
     "execution_count": 116,
     "metadata": {},
     "output_type": "execute_result"
    }
   ],
   "source": [
    "l= [ \"abc\", 1,2,3,4,True]\n",
    "list ( filter ( lambda x : x.__class__ == int , l ) )"
   ]
  },
  {
   "cell_type": "markdown",
   "metadata": {},
   "source": [
    "### Reduce\n",
    "\n",
    "    Belongs to the module functools\n",
    "    reduce ( function , sequence)\n",
    "    function - 2 parameters"
   ]
  },
  {
   "cell_type": "markdown",
   "metadata": {},
   "source": [
    "###### Multiply all the elements in list"
   ]
  },
  {
   "cell_type": "code",
   "execution_count": 117,
   "metadata": {},
   "outputs": [
    {
     "data": {
      "text/plain": [
       "720"
      ]
     },
     "execution_count": 117,
     "metadata": {},
     "output_type": "execute_result"
    }
   ],
   "source": [
    "l = [1,3,2,5,6,4]\n",
    "\n",
    "from functools import reduce\n",
    "\n",
    "reduce ( lambda x,y : x*y , l)"
   ]
  },
  {
   "cell_type": "code",
   "execution_count": 124,
   "metadata": {},
   "outputs": [
    {
     "name": "stdout",
     "output_type": "stream",
     "text": [
      "Help on built-in function reduce in module _functools:\n",
      "\n",
      "reduce(...)\n",
      "    reduce(function, sequence[, initial]) -> value\n",
      "    \n",
      "    Apply a function of two arguments cumulatively to the items of a sequence,\n",
      "    from left to right, so as to reduce the sequence to a single value.\n",
      "    For example, reduce(lambda x, y: x+y, [1, 2, 3, 4, 5]) calculates\n",
      "    ((((1+2)+3)+4)+5).  If initial is present, it is placed before the items\n",
      "    of the sequence in the calculation, and serves as a default when the\n",
      "    sequence is empty.\n",
      "\n"
     ]
    }
   ],
   "source": [
    "from functools import reduce\n",
    "\n",
    "l = [\"car\", \"house\", \"bike\"]\n",
    "\n",
    "reduce (lambda x,y : x+\",\"+ y, l)\n",
    "\n",
    "help (reduce)"
   ]
  },
  {
   "cell_type": "markdown",
   "metadata": {},
   "source": [
    "###### filter the prime numbers from the list"
   ]
  },
  {
   "cell_type": "code",
   "execution_count": 142,
   "metadata": {},
   "outputs": [
    {
     "name": "stdout",
     "output_type": "stream",
     "text": [
      "3 prime\n",
      "2 prime\n",
      "5 prime\n",
      "4 Not Prime\n",
      "6 Not Prime\n",
      "8 Not Prime\n",
      "13 prime\n",
      "27 Not Prime\n",
      "19 prime\n"
     ]
    }
   ],
   "source": [
    "def prime(list1):\n",
    "    ans=[]\n",
    "    count=0\n",
    "    i=1\n",
    "    for n in list1:\n",
    "        count=0\n",
    "        i=1\n",
    "        while i <= n :\n",
    "            if(n%i==0):\n",
    "                count +=1\n",
    "            if (count >2):\n",
    "                #ans.append[False]\n",
    "                print (n, \"Not Prime\")\n",
    "                break\n",
    "            i+=1\n",
    "        if(count ==2 ):\n",
    "            print (n, \"prime\")\n",
    "            #ans.append[True]\n",
    "    #return ans\n",
    "\n",
    "list1= [3,2,5,4,6,8,13,27,19]\n",
    "prime(list1)\n",
    "    \n"
   ]
  },
  {
   "cell_type": "markdown",
   "metadata": {},
   "source": [
    "## For - Else Loop"
   ]
  },
  {
   "cell_type": "code",
   "execution_count": 144,
   "metadata": {},
   "outputs": [
    {
     "name": "stdout",
     "output_type": "stream",
     "text": [
      "0\n",
      "1\n",
      "2\n",
      "3\n",
      "4\n",
      "Terminate\n",
      "Completed\n"
     ]
    }
   ],
   "source": [
    "for i in range (10):\n",
    "    if(i==5):\n",
    "        print(\"Terminate\")\n",
    "        break\n",
    "    print(i)\n",
    "    i+=1\n",
    "else:\n",
    "    print (\"Success\")\n",
    "print(\"Completed\")"
   ]
  },
  {
   "cell_type": "code",
   "execution_count": 145,
   "metadata": {},
   "outputs": [
    {
     "name": "stdout",
     "output_type": "stream",
     "text": [
      "0\n",
      "1\n",
      "2\n",
      "Success\n",
      "Completed\n"
     ]
    }
   ],
   "source": [
    "for i in range (3):\n",
    "    if(i==5):\n",
    "        print(\"Terminate\")\n",
    "        break\n",
    "    print(i)\n",
    "    i+=1\n",
    "else:\n",
    "    print (\"Success\")\n",
    "print(\"Completed\")"
   ]
  },
  {
   "cell_type": "code",
   "execution_count": 146,
   "metadata": {},
   "outputs": [
    {
     "ename": "TypeError",
     "evalue": "'float' object cannot be interpreted as an integer",
     "output_type": "error",
     "traceback": [
      "\u001b[1;31m---------------------------------------------------------------------------\u001b[0m",
      "\u001b[1;31mTypeError\u001b[0m                                 Traceback (most recent call last)",
      "\u001b[1;32m<ipython-input-146-714c0afcbb06>\u001b[0m in \u001b[0;36m<module>\u001b[1;34m\u001b[0m\n\u001b[0;32m      2\u001b[0m \u001b[0mn\u001b[0m\u001b[1;33m=\u001b[0m\u001b[1;36m10\u001b[0m\u001b[1;33m\u001b[0m\u001b[1;33m\u001b[0m\u001b[0m\n\u001b[0;32m      3\u001b[0m \u001b[1;33m\u001b[0m\u001b[0m\n\u001b[1;32m----> 4\u001b[1;33m \u001b[1;32mfor\u001b[0m \u001b[0mi\u001b[0m \u001b[1;32min\u001b[0m \u001b[0mrange\u001b[0m \u001b[1;33m(\u001b[0m \u001b[1;36m2\u001b[0m\u001b[1;33m,\u001b[0m \u001b[0mmath\u001b[0m\u001b[1;33m.\u001b[0m\u001b[0msqrt\u001b[0m\u001b[1;33m(\u001b[0m\u001b[0mn\u001b[0m\u001b[1;33m)\u001b[0m \u001b[1;33m+\u001b[0m \u001b[1;36m1\u001b[0m\u001b[1;33m)\u001b[0m\u001b[1;33m:\u001b[0m\u001b[1;33m\u001b[0m\u001b[1;33m\u001b[0m\u001b[0m\n\u001b[0m\u001b[0;32m      5\u001b[0m     \u001b[1;32mif\u001b[0m \u001b[0mn\u001b[0m \u001b[1;33m%\u001b[0m \u001b[0mi\u001b[0m \u001b[1;33m==\u001b[0m \u001b[1;36m0\u001b[0m \u001b[1;33m:\u001b[0m\u001b[1;33m\u001b[0m\u001b[1;33m\u001b[0m\u001b[0m\n\u001b[0;32m      6\u001b[0m         \u001b[0mprint\u001b[0m \u001b[1;33m(\u001b[0m\u001b[1;34m\"Not Prime\"\u001b[0m\u001b[1;33m)\u001b[0m\u001b[1;33m\u001b[0m\u001b[1;33m\u001b[0m\u001b[0m\n",
      "\u001b[1;31mTypeError\u001b[0m: 'float' object cannot be interpreted as an integer"
     ]
    }
   ],
   "source": [
    "import math\n",
    "n=10\n",
    "\n",
    "for i in range ( 2, math.sqrt(n) + 1):\n",
    "    if n % i == 0 :\n",
    "        print (\"Not Prime\")\n",
    "        break\n",
    "else:\n",
    "        print (\"Prime\")"
   ]
  },
  {
   "cell_type": "code",
   "execution_count": 149,
   "metadata": {},
   "outputs": [
    {
     "data": {
      "text/plain": [
       "False"
      ]
     },
     "execution_count": 149,
     "metadata": {},
     "output_type": "execute_result"
    }
   ],
   "source": [
    "import math\n",
    "\n",
    "def is_prime(n):\n",
    "    var = False\n",
    "    for i in range ( 2, (int(math.sqrt(n) ) + 1)):\n",
    "        if n % i == 0 :\n",
    "            break\n",
    "    else:\n",
    "            var = True\n",
    "    return var\n",
    "\n",
    "is_prime (10)"
   ]
  },
  {
   "cell_type": "code",
   "execution_count": 156,
   "metadata": {},
   "outputs": [],
   "source": [
    "x= [3,5,7,8]\n",
    "\n",
    "def Reverse(lst):\n",
    "     lst.reverse()\n",
    "     return(lst)\n",
    "\n",
    "#print( x.Reverse())\n",
    "\n",
    "x.reverse()\n"
   ]
  },
  {
   "cell_type": "code",
   "execution_count": null,
   "metadata": {},
   "outputs": [],
   "source": []
  }
 ],
 "metadata": {
  "kernelspec": {
   "display_name": "Python 3",
   "language": "python",
   "name": "python3"
  },
  "language_info": {
   "codemirror_mode": {
    "name": "ipython",
    "version": 3
   },
   "file_extension": ".py",
   "mimetype": "text/x-python",
   "name": "python",
   "nbconvert_exporter": "python",
   "pygments_lexer": "ipython3",
   "version": "3.7.3"
  }
 },
 "nbformat": 4,
 "nbformat_minor": 2
}
