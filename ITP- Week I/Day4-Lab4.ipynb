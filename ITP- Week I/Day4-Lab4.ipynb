{
 "cells": [
  {
   "cell_type": "markdown",
   "metadata": {},
   "source": [
    "# Comprehensions"
   ]
  },
  {
   "cell_type": "markdown",
   "metadata": {},
   "source": [
    "- Sequences - Loops\n",
    "- Data Structure - when you store data in them\n",
    "- Writing a for loop within a list - list comprehension"
   ]
  },
  {
   "cell_type": "markdown",
   "metadata": {},
   "source": [
    "##### list of squares of first 10 nautral number"
   ]
  },
  {
   "cell_type": "code",
   "execution_count": 1,
   "metadata": {},
   "outputs": [
    {
     "name": "stdout",
     "output_type": "stream",
     "text": [
      "[1, 4, 9, 16, 25, 36, 49, 64, 81, 100]\n"
     ]
    }
   ],
   "source": [
    "list1=[]\n",
    "i=1\n",
    "for i in range ( 1, 11):\n",
    "    list1.append(i*i)\n",
    "print(list1)"
   ]
  },
  {
   "cell_type": "code",
   "execution_count": 5,
   "metadata": {},
   "outputs": [
    {
     "name": "stdout",
     "output_type": "stream",
     "text": [
      "[1, 4, 9, 16, 25, 36, 49, 64, 81, 100]\n",
      "{64, 1, 4, 36, 100, 9, 16, 49, 81, 25}\n",
      "<generator object <genexpr> at 0x000001B7B58B4F48>\n",
      "(1, 4, 9, 16, 25, 36, 49, 64, 81, 100)\n"
     ]
    }
   ],
   "source": [
    "# functional /comprehensional method\n",
    "list1 = [ i**2 for i in range ( 1, 11)]\n",
    "print(list1)\n",
    "\n",
    "\n",
    "set1 = { i**2 for i in range ( 1, 11)}\n",
    "print(set1)\n",
    "\n",
    "tup1 = ( i**2 for i in range ( 1, 11))\n",
    "print (tup1)\n",
    "print(tuple (tup1))"
   ]
  },
  {
   "cell_type": "markdown",
   "metadata": {},
   "source": [
    "## Dictionary Comprehension:"
   ]
  },
  {
   "cell_type": "code",
   "execution_count": 81,
   "metadata": {},
   "outputs": [
    {
     "name": "stdout",
     "output_type": "stream",
     "text": [
      "{'ammu': 4, 'nive': 4, 'kevin': 5}\n"
     ]
    }
   ],
   "source": [
    "l1 = [ 'ammu' ,'nive', 'kevin']\n",
    "d = { i : len(i) for i in l1}\n",
    "print (d)"
   ]
  },
  {
   "cell_type": "markdown",
   "metadata": {},
   "source": [
    "##### List of length of each element of the list"
   ]
  },
  {
   "cell_type": "code",
   "execution_count": 8,
   "metadata": {},
   "outputs": [
    {
     "name": "stdout",
     "output_type": "stream",
     "text": [
      "[4, 4, 5]\n"
     ]
    }
   ],
   "source": [
    "l1 = [ 'ammu' ,'nive', 'kevin']\n",
    "l2 = [ len (i) for i in l1]\n",
    "print (l2)"
   ]
  },
  {
   "cell_type": "markdown",
   "metadata": {},
   "source": [
    "##### All even numbers in a list"
   ]
  },
  {
   "cell_type": "code",
   "execution_count": 24,
   "metadata": {},
   "outputs": [
    {
     "name": "stdout",
     "output_type": "stream",
     "text": [
      "[2, 4, 6, 8, 10]\n"
     ]
    }
   ],
   "source": [
    "l1= [ 1,2,3,4,5,6,7,8,9,10]\n",
    "l2 = [ i for i in l1 if not i%2 ]\n",
    "print ( l2)"
   ]
  },
  {
   "cell_type": "markdown",
   "metadata": {},
   "source": [
    "##### from number 1 to 50 skipping multiples of 3"
   ]
  },
  {
   "cell_type": "code",
   "execution_count": 27,
   "metadata": {},
   "outputs": [
    {
     "name": "stdout",
     "output_type": "stream",
     "text": [
      "[1, 2, 4, 5, 7, 8, 10, 11, 13, 14, 16, 17, 19, 20, 22, 23, 25, 26, 28, 29, 31, 32, 34, 35, 37, 38, 40, 41, 43, 44, 46, 47, 49, 50]\n"
     ]
    }
   ],
   "source": [
    "l = [ i for i in range (1,51) if i % 3 ]\n",
    "print(l)"
   ]
  },
  {
   "cell_type": "markdown",
   "metadata": {},
   "source": [
    "##### A Sequence of square of odd numbers from range 1 to 10"
   ]
  },
  {
   "cell_type": "code",
   "execution_count": 29,
   "metadata": {},
   "outputs": [
    {
     "name": "stdout",
     "output_type": "stream",
     "text": [
      "[1, 9, 25, 49, 81]\n"
     ]
    }
   ],
   "source": [
    "l = [ i**2 for i in range (1,11) if i % 2 ]\n",
    "print(l)"
   ]
  },
  {
   "cell_type": "markdown",
   "metadata": {},
   "source": [
    "##### list with numbers which are diisible by 5 and 7"
   ]
  },
  {
   "cell_type": "code",
   "execution_count": 22,
   "metadata": {},
   "outputs": [
    {
     "name": "stdout",
     "output_type": "stream",
     "text": [
      "[35, 70, 140]\n"
     ]
    }
   ],
   "source": [
    "list1 = [ 10 ,12,24,35,70,88,120,155,140,27]\n",
    "list2 = [ i for i in list1 if i%5==0 and i % 7 ==0]\n",
    "print (list2)"
   ]
  },
  {
   "cell_type": "markdown",
   "metadata": {},
   "source": [
    "##### specifiying the element is even or odd"
   ]
  },
  {
   "cell_type": "code",
   "execution_count": 33,
   "metadata": {},
   "outputs": [
    {
     "name": "stdout",
     "output_type": "stream",
     "text": [
      "EVEN <class 'str'>\n"
     ]
    }
   ],
   "source": [
    "#if else syntax in 1 line\n",
    "#check even or dd\n",
    "x=10\n",
    "outcome = \"ODD\" if x %2 else \"EVEN\"\n",
    "print ( outcome, type (outcome ))"
   ]
  },
  {
   "cell_type": "code",
   "execution_count": 8,
   "metadata": {},
   "outputs": [
    {
     "name": "stdout",
     "output_type": "stream",
     "text": [
      "['EVEN', 'EVEN', 'EVEN', 'ODD', 'EVEN', 'EVEN', 'EVEN', 'ODD', 'EVEN', 'ODD']\n",
      "['odd', 'odd', 'odd']\n",
      "{35: 'odd', 155: 'odd', 27: 'odd'}\n",
      "{10: 'even', 12: 'even', 24: 'even', 35: 'odd', 70: 'even', 88: 'even', 120: 'even', 155: 'odd', 140: 'even', 27: 'odd'}\n"
     ]
    }
   ],
   "source": [
    "list1 = [ 10 ,12,24,35,70,88,120,155,140,27]\n",
    "list2 = [  \"ODD\" if x %2 else \"EVEN\" for x in list1 ]\n",
    "print (list2)\n",
    "list3= [\"odd\" for i in list1 if i%2]\n",
    "print(list3)\n",
    "dict1= {i: \"odd\" for i in list1 if i%2 }\n",
    "print(dict1)\n",
    "dict2= {i: \"odd\" if i%2 else \"even\" for i in list1 }\n",
    "print(dict2)\n",
    "\n"
   ]
  },
  {
   "cell_type": "markdown",
   "metadata": {},
   "source": [
    "##### Dictinary Comprehension : If - Else"
   ]
  },
  {
   "cell_type": "code",
   "execution_count": 99,
   "metadata": {},
   "outputs": [
    {
     "name": "stdout",
     "output_type": "stream",
     "text": [
      "{10: 'EVEN', 12: 'EVEN', 24: 'EVEN', 35: 'ODD', 70: 'EVEN', 88: 'EVEN', 120: 'EVEN', 155: 'ODD', 140: 'EVEN', 27: 'ODD'}\n"
     ]
    }
   ],
   "source": [
    "list1 = [ 10 ,12,24,35,70,88,120,155,140,27]\n",
    "d ={ x : (\"ODD\" if (x % 2) else \"EVEN\" ) for x in list1   }\n",
    "print (d)"
   ]
  },
  {
   "cell_type": "code",
   "execution_count": 36,
   "metadata": {},
   "outputs": [
    {
     "name": "stdout",
     "output_type": "stream",
     "text": [
      "['EVEN', 'EVEN', 'EVEN', 35, 'EVEN', 'EVEN', 'EVEN', 155, 'EVEN', 27]\n"
     ]
    }
   ],
   "source": [
    "list1 = [ 10 ,12,24,35,70,88,120,155,140,27]\n",
    "\n",
    "list2 = [  x if x %2 else \"EVEN\" for x in list1 ]\n",
    "\n",
    "print (list2)"
   ]
  },
  {
   "cell_type": "markdown",
   "metadata": {},
   "source": [
    "##### sum of all multi[le of 3 and 5 belo 1000"
   ]
  },
  {
   "cell_type": "code",
   "execution_count": 70,
   "metadata": {},
   "outputs": [
    {
     "name": "stdout",
     "output_type": "stream",
     "text": [
      "234168\n"
     ]
    }
   ],
   "source": [
    "l = [ i for i in range(1001) if i %3 ==0 or i%5 ==0]\n",
    "print(sum(l))"
   ]
  },
  {
   "cell_type": "markdown",
   "metadata": {},
   "source": [
    "##### Input : I am in Python Class  Output : I ma ni nohtyP ssalC "
   ]
  },
  {
   "cell_type": "code",
   "execution_count": 98,
   "metadata": {},
   "outputs": [
    {
     "name": "stdout",
     "output_type": "stream",
     "text": [
      "I ma ni nohtyP ssalC \n"
     ]
    }
   ],
   "source": [
    "# Method 1 :\n",
    "mystr= \"I am in Python Class\"\n",
    "list1  = mystr.split(\" \")\n",
    "rev_str=\"\" \n",
    "for l in list1:\n",
    "    rev.join(l[::-1])\n",
    "    rev_str=rev_str + l[::-1] + \" \" \n",
    "print (rev_str)"
   ]
  },
  {
   "cell_type": "code",
   "execution_count": 95,
   "metadata": {},
   "outputs": [
    {
     "name": "stdout",
     "output_type": "stream",
     "text": [
      "I ma ni nohtyP ssalC\n"
     ]
    }
   ],
   "source": [
    "#Method 2:\n",
    "mystr= \"I am in Python Class\"\n",
    "list1  = mystr.split(\" \")\n",
    "list2 =  [ l[::-1] for l in list1]\n",
    "rev_str = \" \".join(list2)\n",
    "print (rev_str)"
   ]
  },
  {
   "cell_type": "code",
   "execution_count": 97,
   "metadata": {},
   "outputs": [
    {
     "name": "stdout",
     "output_type": "stream",
     "text": [
      "I ma ni nohtyP ssalC\n"
     ]
    }
   ],
   "source": [
    "#Method 3\n",
    "mystr= \"I am in Python Class\"\n",
    "new_str = \" \". join ( [ l[::-1] for l in list1] )\n",
    "print (new_str)"
   ]
  },
  {
   "cell_type": "code",
   "execution_count": null,
   "metadata": {},
   "outputs": [],
   "source": []
  }
 ],
 "metadata": {
  "kernelspec": {
   "display_name": "Python 3",
   "language": "python",
   "name": "python3"
  },
  "language_info": {
   "codemirror_mode": {
    "name": "ipython",
    "version": 3
   },
   "file_extension": ".py",
   "mimetype": "text/x-python",
   "name": "python",
   "nbconvert_exporter": "python",
   "pygments_lexer": "ipython3",
   "version": "3.7.3"
  }
 },
 "nbformat": 4,
 "nbformat_minor": 2
}
