{
 "cells": [
  {
   "cell_type": "markdown",
   "metadata": {},
   "source": [
    "### If Statement:"
   ]
  },
  {
   "cell_type": "markdown",
   "metadata": {},
   "source": [
    "#### 1. Write a python code to check if 120 is greater than 73 using if statement?"
   ]
  },
  {
   "cell_type": "raw",
   "metadata": {},
   "source": [
    "Assiging variable a is 73\n",
    "Assiging variable b is 120\n",
    "If condition for b>a than go to step 4\n",
    "print'b is greater than a'"
   ]
  },
  {
   "cell_type": "markdown",
   "metadata": {},
   "source": [
    "#### Write Python Code"
   ]
  },
  {
   "cell_type": "code",
   "execution_count": 5,
   "metadata": {
    "scrolled": true
   },
   "outputs": [
    {
     "name": "stdout",
     "output_type": "stream",
     "text": [
      "120 is greater than  73\n"
     ]
    }
   ],
   "source": [
    "a,b=73,120\n",
    "if (a < b):\n",
    "    print ( b , \"is greater than \", a)"
   ]
  },
  {
   "cell_type": "markdown",
   "metadata": {},
   "source": [
    "### IF-ELSE Statement:"
   ]
  },
  {
   "cell_type": "markdown",
   "metadata": {},
   "source": [
    "#### 1. Write a python code which takes two numbers a = 123,b = 133 and prints the biggest number\n",
    "    condition 1 : b>a\n",
    "    condition 2 : else\n",
    "    print which is correct"
   ]
  },
  {
   "cell_type": "raw",
   "metadata": {},
   "source": [
    "Assiging variable a is 123\n",
    "Assiging variable b is 133\n",
    "if condition b>a then go to step 4 else goto step 5\n",
    "print b is greater than a\n",
    "print b is less than a"
   ]
  },
  {
   "cell_type": "markdown",
   "metadata": {},
   "source": [
    "#### Write Python Code"
   ]
  },
  {
   "cell_type": "code",
   "execution_count": 6,
   "metadata": {},
   "outputs": [
    {
     "name": "stdout",
     "output_type": "stream",
     "text": [
      "133 is greater than  123\n"
     ]
    }
   ],
   "source": [
    "a,b=123,133\n",
    "if (a < b):\n",
    "    print ( b , \"is greater than \", a)\n",
    "else:\n",
    "    print ( a ,\" is grearter than \", b )"
   ]
  },
  {
   "cell_type": "markdown",
   "metadata": {},
   "source": [
    "### Nested-If Statement"
   ]
  },
  {
   "cell_type": "markdown",
   "metadata": {},
   "source": [
    "#### 1. Problem:Write a python code that takes an input from the user and shows if that number is positive or negative. Also, check if the number is two digit. "
   ]
  },
  {
   "cell_type": "raw",
   "metadata": {},
   "source": [
    "Assigning the num eqaul to 12\n",
    "if condition is num>0 the go to step 3, else go to step 4\n",
    "print the number positive\n",
    "print the number is negative\n",
    "Another if condition is -99<=num then go to step 6\n",
    "print twi digit negative number"
   ]
  },
  {
   "cell_type": "markdown",
   "metadata": {},
   "source": [
    "#### Write Python Code"
   ]
  },
  {
   "cell_type": "code",
   "execution_count": 7,
   "metadata": {},
   "outputs": [
    {
     "name": "stdout",
     "output_type": "stream",
     "text": [
      "Positive\n"
     ]
    }
   ],
   "source": [
    "num=12\n",
    "if(num > 0):\n",
    "    print(\"Positive\")\n",
    "elif -99<=num  and num <=-10:\n",
    "    print(\"Two digit negative Negative\")\n",
    "else:\n",
    "    print(\"Negative\")"
   ]
  },
  {
   "cell_type": "markdown",
   "metadata": {},
   "source": [
    "## While Loop"
   ]
  },
  {
   "cell_type": "markdown",
   "metadata": {},
   "source": [
    "#### 1. Write a python code to give the below output\n",
    "    Input:10\n",
    "    Output:0,1,4,9,16,25,36,49,64,81"
   ]
  },
  {
   "cell_type": "raw",
   "metadata": {},
   "source": [
    "Take variable a = 0\n",
    "while condition is a less then 10 goto step 3\n",
    "    print condition is a**2\n",
    "    create increment a equal to a+1\n"
   ]
  },
  {
   "cell_type": "markdown",
   "metadata": {},
   "source": [
    "#### Write Python Code"
   ]
  },
  {
   "cell_type": "code",
   "execution_count": 8,
   "metadata": {},
   "outputs": [
    {
     "name": "stdout",
     "output_type": "stream",
     "text": [
      "0,1,4,9,16,25,36,49,64,81,"
     ]
    }
   ],
   "source": [
    "a=0\n",
    "while a <10:\n",
    "    print (a*a, end=\",\")\n",
    "    a+=1"
   ]
  },
  {
   "cell_type": "markdown",
   "metadata": {},
   "source": [
    "## For Loop"
   ]
  },
  {
   "cell_type": "markdown",
   "metadata": {},
   "source": [
    "#### 1. Use a range of 1 to 100 numbers and find out the sum of all the numbers between 1 and 100. \n",
    "    For the numbers in the range (1,100):1+2+3+4+5......+100 = 4950"
   ]
  },
  {
   "cell_type": "raw",
   "metadata": {},
   "source": [
    "Assigning the sum eqaul to 0\n",
    "For condition in range (1,100) than goto step 3\n",
    "sum = sum+value\n",
    "print the sum"
   ]
  },
  {
   "cell_type": "markdown",
   "metadata": {},
   "source": [
    "#### Write Python Code"
   ]
  },
  {
   "cell_type": "code",
   "execution_count": 9,
   "metadata": {},
   "outputs": [
    {
     "name": "stdout",
     "output_type": "stream",
     "text": [
      "4950\n"
     ]
    }
   ],
   "source": [
    "sum=0\n",
    "for i in range (1,100):\n",
    "    sum+=i\n",
    "print (sum)"
   ]
  },
  {
   "cell_type": "markdown",
   "metadata": {},
   "source": [
    "### Some Python Programs"
   ]
  },
  {
   "cell_type": "markdown",
   "metadata": {},
   "source": [
    "#### 1. Write a program which will find all such numbers which are divisible by 7 but are not a multiple of 5, between 202 and 320 (both included)."
   ]
  },
  {
   "cell_type": "code",
   "execution_count": 10,
   "metadata": {},
   "outputs": [
    {
     "name": "stdout",
     "output_type": "stream",
     "text": [
      "203\n",
      "217\n",
      "224\n",
      "231\n",
      "238\n",
      "252\n",
      "259\n",
      "266\n",
      "273\n",
      "287\n",
      "294\n",
      "301\n",
      "308\n"
     ]
    }
   ],
   "source": [
    "for i in range (202 ,321):\n",
    "    if (i % 7 ==0 and i % 5 !=0):\n",
    "        print(i)"
   ]
  },
  {
   "cell_type": "markdown",
   "metadata": {},
   "source": [
    "#### 2. With a given integral number n, write a program to generate a dictionary that contains the elements (i, i*i) \n",
    "    input:9\n",
    "\n",
    "    Output: {1: 1, 2: 4, 3: 9, 4: 16, 5: 25, 6: 36, 7: 49, 8: 64, 9: 81, 10: 100}"
   ]
  },
  {
   "cell_type": "code",
   "execution_count": 11,
   "metadata": {},
   "outputs": [
    {
     "name": "stdout",
     "output_type": "stream",
     "text": [
      "{1: 1, 2: 4, 3: 9, 4: 16, 5: 25, 6: 36, 7: 49, 8: 64, 9: 81, 10: 100}\n"
     ]
    }
   ],
   "source": [
    "input=10\n",
    "i=1\n",
    "d={}\n",
    "while i <=input:\n",
    "    d[i]=i*i\n",
    "    i+=1\n",
    "print (d)"
   ]
  },
  {
   "cell_type": "markdown",
   "metadata": {},
   "source": [
    "#### 3. Python Program to count the number of vowels in a string. Take the string input from the user."
   ]
  },
  {
   "cell_type": "code",
   "execution_count": 2,
   "metadata": {},
   "outputs": [
    {
     "name": "stdout",
     "output_type": "stream",
     "text": [
      "Enter name: hi\n",
      "i\n"
     ]
    }
   ],
   "source": [
    "str1=input(\"Enter name: \")\n",
    "for s in str1:\n",
    "    if s in \"aeiou\":\n",
    "        print(s)\n"
   ]
  },
  {
   "cell_type": "markdown",
   "metadata": {},
   "source": [
    "### List comprehension"
   ]
  },
  {
   "cell_type": "markdown",
   "metadata": {},
   "source": [
    "#### 1. Use list comprehension to sort a given list of strings\n",
    "    Input: Great,learning,ML,world,python,Sql\n",
    "    Output: Great,ML,Sql,learning,python,world"
   ]
  },
  {
   "cell_type": "code",
   "execution_count": 3,
   "metadata": {},
   "outputs": [
    {
     "name": "stdout",
     "output_type": "stream",
     "text": [
      "['Great', 'ML', 'SQL', 'learninig', 'python', 'world']\n"
     ]
    }
   ],
   "source": [
    "list1= [ \"Great\" ,\"learninig\", \"ML\", \"world\",\"python\", \"SQL\"]\n",
    "list2= sorted ( [x for x in list1] )\n",
    "print (list2)"
   ]
  },
  {
   "cell_type": "markdown",
   "metadata": {},
   "source": [
    "#### 2. list comprehension\n",
    "\n",
    "    INPUT: 1,2,3,4,5,6\n",
    "\n",
    "    Output should be: 1,3,5"
   ]
  },
  {
   "cell_type": "code",
   "execution_count": 1,
   "metadata": {},
   "outputs": [
    {
     "name": "stdout",
     "output_type": "stream",
     "text": [
      "[1, 3, 5]\n",
      "[1, 3, 5]\n"
     ]
    }
   ],
   "source": [
    "list1 = [1,2,3,4,5,6]\n",
    "list2 = [x  for x in list1 if x%2==1 ]\n",
    "print (list2)\n",
    "\n",
    "list2 = [x  for x in list1 if x%2 ]\n",
    "print (list2)"
   ]
  },
  {
   "cell_type": "code",
   "execution_count": null,
   "metadata": {},
   "outputs": [],
   "source": []
  }
 ],
 "metadata": {
  "kernelspec": {
   "display_name": "Python 3",
   "language": "python",
   "name": "python3"
  },
  "language_info": {
   "codemirror_mode": {
    "name": "ipython",
    "version": 3
   },
   "file_extension": ".py",
   "mimetype": "text/x-python",
   "name": "python",
   "nbconvert_exporter": "python",
   "pygments_lexer": "ipython3",
   "version": "3.7.3"
  }
 },
 "nbformat": 4,
 "nbformat_minor": 2
}
