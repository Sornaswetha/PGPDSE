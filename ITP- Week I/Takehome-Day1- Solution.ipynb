{
 "cells": [
  {
   "cell_type": "markdown",
   "metadata": {},
   "source": [
    "1. Write a python code to convert km into miles. Get the input(km) as runtime parameter."
   ]
  },
  {
   "cell_type": "code",
   "execution_count": 7,
   "metadata": {},
   "outputs": [
    {
     "name": "stdout",
     "output_type": "stream",
     "text": [
      "Enter kilo meters: 5\n",
      "Required meter is  5000.0\n"
     ]
    }
   ],
   "source": [
    "km=float(input(\"Enter kilo meters: \"))\n",
    "m=km*1000\n",
    "print(\"Required meter is \", m)\n"
   ]
  },
  {
   "cell_type": "markdown",
   "metadata": {},
   "source": [
    "2. Convert temperature in celsius to fahrenheit using python, given celsius value is 37.5"
   ]
  },
  {
   "cell_type": "code",
   "execution_count": 8,
   "metadata": {},
   "outputs": [
    {
     "name": "stdout",
     "output_type": "stream",
     "text": [
      "Celsius = 37.5   Fahrenheit = 99.5\n"
     ]
    }
   ],
   "source": [
    "celsius=37.5\n",
    "fahrenheit= (celsius*(9/5))+32\n",
    "print (\"Celsius = 37.5   Fahrenheit =\",fahrenheit)"
   ]
  },
  {
   "cell_type": "markdown",
   "metadata": {},
   "source": [
    "3.Take two inputs from user and check whether they are equal or not."
   ]
  },
  {
   "cell_type": "code",
   "execution_count": 9,
   "metadata": {},
   "outputs": [
    {
     "name": "stdout",
     "output_type": "stream",
     "text": [
      "Enter First number: 4\n",
      "Enter Second number: 6\n",
      "They are not equal\n"
     ]
    }
   ],
   "source": [
    "a=input(\"Enter First number: \")\n",
    "b=input(\"Enter Second number: \")\n",
    "if(a==b):\n",
    "    print(\"They are equal\")\n",
    "else:\n",
    "    print(\"They are not equal\")\n"
   ]
  },
  {
   "cell_type": "markdown",
   "metadata": {},
   "source": [
    "4. Write a python code to  calculate the square root for the number 64 (get the input runtime)"
   ]
  },
  {
   "cell_type": "code",
   "execution_count": 10,
   "metadata": {},
   "outputs": [
    {
     "name": "stdout",
     "output_type": "stream",
     "text": [
      "Square root of 64 is 8.0\n"
     ]
    }
   ],
   "source": [
    "import math\n",
    "print(\"Square root of 64 is\",math.sqrt(64))"
   ]
  },
  {
   "cell_type": "markdown",
   "metadata": {},
   "source": [
    "5. Calculate the perimeter of triangle using python for the given values a = 5,b = 6,c = 7\n",
    "formula : s = (a+b+c)/2"
   ]
  },
  {
   "cell_type": "code",
   "execution_count": 1,
   "metadata": {},
   "outputs": [
    {
     "name": "stdout",
     "output_type": "stream",
     "text": [
      "Perimeter of triangle with sides 5,6,7 is 9.0\n"
     ]
    }
   ],
   "source": [
    "a,b,c=5,6,7\n",
    "print(\"Perimeter of triangle with sides 5,6,7 is\", (a+b+c)/2)"
   ]
  },
  {
   "cell_type": "markdown",
   "metadata": {},
   "source": [
    "6. Swap 2 variables without 3rd variable using python X = 10,Y=20\n",
    "desired output : X = 20, Y = 10"
   ]
  },
  {
   "cell_type": "code",
   "execution_count": 12,
   "metadata": {},
   "outputs": [
    {
     "name": "stdout",
     "output_type": "stream",
     "text": [
      "Before Swapping\n",
      " X= 20   Y= 10 \n",
      "\n",
      "Ater Swapping\n",
      " X= 10   Y= 20\n"
     ]
    }
   ],
   "source": [
    "#Saping Variables\n",
    "x=20\n",
    "y=10\n",
    "print(\"Before Swapping\")\n",
    "print (\" X=\",x,\"  Y=\", y ,\"\\n\")\n",
    "x=x+y\n",
    "y=x-y\n",
    "x=x-y\n",
    "print(\"Ater Swapping\")\n",
    "print (\" X=\",x,\"  Y=\", y)"
   ]
  },
  {
   "cell_type": "markdown",
   "metadata": {},
   "source": [
    "7. Write a python code to displayt he calendar  for the given year and month as run time parameter.\n",
    "import the library for calendar using thebelow library\n",
    "import calendar"
   ]
  },
  {
   "cell_type": "code",
   "execution_count": 4,
   "metadata": {},
   "outputs": [
    {
     "name": "stdout",
     "output_type": "stream",
     "text": [
      "Enter year: 2020\n",
      "Enter month: 3\n",
      "<table border=\"0\" cellpadding=\"0\" cellspacing=\"0\" class=\"month\">\n",
      "<tr><th colspan=\"7\" class=\"month\">March 2020</th></tr>\n",
      "<tr><th class=\"sun\">Sun</th><th class=\"mon\">Mon</th><th class=\"tue\">Tue</th><th class=\"wed\">Wed</th><th class=\"thu\">Thu</th><th class=\"fri\">Fri</th><th class=\"sat\">Sat</th></tr>\n",
      "<tr><td class=\"sun\">1</td><td class=\"mon\">2</td><td class=\"tue\">3</td><td class=\"wed\">4</td><td class=\"thu\">5</td><td class=\"fri\">6</td><td class=\"sat\">7</td></tr>\n",
      "<tr><td class=\"sun\">8</td><td class=\"mon\">9</td><td class=\"tue\">10</td><td class=\"wed\">11</td><td class=\"thu\">12</td><td class=\"fri\">13</td><td class=\"sat\">14</td></tr>\n",
      "<tr><td class=\"sun\">15</td><td class=\"mon\">16</td><td class=\"tue\">17</td><td class=\"wed\">18</td><td class=\"thu\">19</td><td class=\"fri\">20</td><td class=\"sat\">21</td></tr>\n",
      "<tr><td class=\"sun\">22</td><td class=\"mon\">23</td><td class=\"tue\">24</td><td class=\"wed\">25</td><td class=\"thu\">26</td><td class=\"fri\">27</td><td class=\"sat\">28</td></tr>\n",
      "<tr><td class=\"sun\">29</td><td class=\"mon\">30</td><td class=\"tue\">31</td><td class=\"noday\">&nbsp;</td><td class=\"noday\">&nbsp;</td><td class=\"noday\">&nbsp;</td><td class=\"noday\">&nbsp;</td></tr>\n",
      "</table>\n",
      "\n"
     ]
    }
   ],
   "source": [
    "#Solution 1\n",
    "import calendar\n",
    "year=int(input(\"Enter year: \"))\n",
    "month=int(input(\"Enter month: \"))\n",
    "a= calendar.HTMLCalendar(firstweekday=6)  #Taking \"Sunday\" as starting day\n",
    "print(a.formatmonth(year, month))\n",
    "\n",
    "#the below HTML can be used to get the caendar\n"
   ]
  },
  {
   "cell_type": "markdown",
   "metadata": {},
   "source": [
    "<table border=\"0\" cellpadding=\"0\" cellspacing=\"0\" class=\"month\">\n",
    "<tr><th colspan=\"7\" class=\"month\">March 2020</th></tr>\n",
    "<tr><th class=\"sun\">Sun</th><th class=\"mon\">Mon</th><th class=\"tue\">Tue</th><th class=\"wed\">Wed</th><th class=\"thu\">Thu</th><th class=\"fri\">Fri</th><th class=\"sat\">Sat</th></tr>\n",
    "<tr><td class=\"sun\">1</td><td class=\"mon\">2</td><td class=\"tue\">3</td><td class=\"wed\">4</td><td class=\"thu\">5</td><td class=\"fri\">6</td><td class=\"sat\">7</td></tr>\n",
    "<tr><td class=\"sun\">8</td><td class=\"mon\">9</td><td class=\"tue\">10</td><td class=\"wed\">11</td><td class=\"thu\">12</td><td class=\"fri\">13</td><td class=\"sat\">14</td></tr>\n",
    "<tr><td class=\"sun\">15</td><td class=\"mon\">16</td><td class=\"tue\">17</td><td class=\"wed\">18</td><td class=\"thu\">19</td><td class=\"fri\">20</td><td class=\"sat\">21</td></tr>\n",
    "<tr><td class=\"sun\">22</td><td class=\"mon\">23</td><td class=\"tue\">24</td><td class=\"wed\">25</td><td class=\"thu\">26</td><td class=\"fri\">27</td><td class=\"sat\">28</td></tr>\n",
    "<tr><td class=\"sun\">29</td><td class=\"mon\">30</td><td class=\"tue\">31</td><td class=\"noday\">&nbsp;</td><td class=\"noday\">&nbsp;</td><td class=\"noday\">&nbsp;</td><td class=\"noday\">&nbsp;</td></tr>\n",
    "</table>"
   ]
  },
  {
   "cell_type": "code",
   "execution_count": 7,
   "metadata": {},
   "outputs": [
    {
     "name": "stdout",
     "output_type": "stream",
     "text": [
      "Enter year: 2020\n",
      "Enter month: 3\n",
      "     March 2020\n",
      "Mo Tu We Th Fr Sa Su\n",
      "                   1\n",
      " 2  3  4  5  6  7  8\n",
      " 9 10 11 12 13 14 15\n",
      "16 17 18 19 20 21 22\n",
      "23 24 25 26 27 28 29\n",
      "30 31\n",
      "\n"
     ]
    }
   ],
   "source": [
    "#Solution 2:\n",
    "\n",
    "import calendar\n",
    "year=int(input(\"Enter year: \"))\n",
    "month=int(input(\"Enter month: \"))\n",
    "print(calendar.month(year,month))"
   ]
  },
  {
   "cell_type": "markdown",
   "metadata": {},
   "source": [
    "\n",
    "\n",
    "8. Calculate the area of triangle using python for the given values a = 5,b = 6,c = 7\n",
    "\n",
    "area = √(s(s-a)*(s-b)*(s-c))"
   ]
  },
  {
   "cell_type": "code",
   "execution_count": 13,
   "metadata": {},
   "outputs": [
    {
     "name": "stdout",
     "output_type": "stream",
     "text": [
      "Area of a triangle with sides 5 ,6 ,7 is 14.696938456699069\n"
     ]
    }
   ],
   "source": [
    "import math\n",
    "a,b,c=5,6,7\n",
    "s=(a+b+c)/2\n",
    "area=math.sqrt(s*(s-a)*(s-b)*(s-c))\n",
    "print(\"Area of a triangle with sides {} ,{} ,{} is {}\".format(a,b,c,area))"
   ]
  },
  {
   "cell_type": "markdown",
   "metadata": {},
   "source": [
    "9. Write a python code for the given input , inp_str = \"1234 great learning\"\n",
    "\n",
    "desired output :\n",
    "'gninraeltaerg4321'"
   ]
  },
  {
   "cell_type": "code",
   "execution_count": 15,
   "metadata": {},
   "outputs": [
    {
     "name": "stdout",
     "output_type": "stream",
     "text": [
      "Input:  1234 great learning      Reverse & without space:  gninraeltaerg4321\n"
     ]
    }
   ],
   "source": [
    "inp_str = \"1234 great learning\"\n",
    "str = inp_str.replace(\" \",\"\")\n",
    "rev_str=str[ : : -1]\n",
    "print(\"Input: \",inp_str ,\"     Reverse & without space: \", rev_str)"
   ]
  },
  {
   "cell_type": "markdown",
   "metadata": {},
   "source": [
    "10. Find the average value for the given input number a = 10,b=20 and c = 30"
   ]
  },
  {
   "cell_type": "code",
   "execution_count": 16,
   "metadata": {},
   "outputs": [
    {
     "name": "stdout",
     "output_type": "stream",
     "text": [
      "Average of 10 , 20, 30 is 30.0\n"
     ]
    }
   ],
   "source": [
    "import math\n",
    "a,b,c=10,20,30\n",
    "print(\"Average of {} , {}, {} is {}\".format(a,b,c,(a+b+c)/2))"
   ]
  }
 ],
 "metadata": {
  "hide_input": false,
  "kernelspec": {
   "display_name": "Python 3",
   "language": "python",
   "name": "python3"
  },
  "language_info": {
   "codemirror_mode": {
    "name": "ipython",
    "version": 3
   },
   "file_extension": ".py",
   "mimetype": "text/x-python",
   "name": "python",
   "nbconvert_exporter": "python",
   "pygments_lexer": "ipython3",
   "version": "3.7.3"
  },
  "toc": {
   "base_numbering": 1,
   "nav_menu": {},
   "number_sections": true,
   "sideBar": true,
   "skip_h1_title": false,
   "title_cell": "Table of Contents",
   "title_sidebar": "Contents",
   "toc_cell": false,
   "toc_position": {},
   "toc_section_display": true,
   "toc_window_display": false
  },
  "varInspector": {
   "cols": {
    "lenName": 16,
    "lenType": 16,
    "lenVar": 40
   },
   "kernels_config": {
    "python": {
     "delete_cmd_postfix": "",
     "delete_cmd_prefix": "del ",
     "library": "var_list.py",
     "varRefreshCmd": "print(var_dic_list())"
    },
    "r": {
     "delete_cmd_postfix": ") ",
     "delete_cmd_prefix": "rm(",
     "library": "var_list.r",
     "varRefreshCmd": "cat(var_dic_list()) "
    }
   },
   "types_to_exclude": [
    "module",
    "function",
    "builtin_function_or_method",
    "instance",
    "_Feature"
   ],
   "window_display": false
  }
 },
 "nbformat": 4,
 "nbformat_minor": 2
}
