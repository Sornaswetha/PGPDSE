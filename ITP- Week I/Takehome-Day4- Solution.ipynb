{
 "cells": [
  {
   "cell_type": "markdown",
   "metadata": {},
   "source": [
    "#### 1.Write a Python function check the 3 is prime or not?"
   ]
  },
  {
   "cell_type": "code",
   "execution_count": 13,
   "metadata": {},
   "outputs": [
    {
     "name": "stdout",
     "output_type": "stream",
     "text": [
      "True\n"
     ]
    }
   ],
   "source": [
    "import math\n",
    "\n",
    "def is_prime(n):\n",
    "    var = False\n",
    "    for i in range ( 2, (int(math.sqrt(n) ) + 1)):\n",
    "        if n % i == 0 :\n",
    "            break\n",
    "    else:\n",
    "            var = True\n",
    "    return var\n",
    "\n",
    "print(is_prime (3))"
   ]
  },
  {
   "cell_type": "markdown",
   "metadata": {},
   "source": [
    "#### 2.Write a Python function string = ASDBDSA is palindrome or not?"
   ]
  },
  {
   "cell_type": "code",
   "execution_count": 3,
   "metadata": {},
   "outputs": [
    {
     "name": "stdout",
     "output_type": "stream",
     "text": [
      "True\n"
     ]
    }
   ],
   "source": [
    "def func_palindrome(str1):\n",
    "    return ( str1.replace (\" \",\"\") == ( str1[::-1]). replace (\" \",\"\"))\n",
    "\n",
    "print ( func_palindrome(\"ASDBDSA\")) \n"
   ]
  },
  {
   "cell_type": "markdown",
   "metadata": {},
   "source": [
    "#### 3. Write a Python function Print 7 Pascal's triangle."
   ]
  },
  {
   "cell_type": "code",
   "execution_count": 14,
   "metadata": {},
   "outputs": [
    {
     "name": "stdout",
     "output_type": "stream",
     "text": [
      "       1  \n",
      "      1  1  \n",
      "     1  2  1  \n",
      "    1  3  3  1  \n",
      "   1  4  6  4  1  \n",
      "  1  5  10  10  5  1  \n",
      " 1  6  15  20  15  6  1  \n",
      "\n"
     ]
    }
   ],
   "source": [
    "def func_pascal(total_lines) : \n",
    "    s=total_lines\n",
    "    for line_num in range(0, total_lines) : \n",
    "        for space in range(s):  # A loop for printing Spaces\n",
    "            print(\" \",end =\"\")\n",
    "        s-=1\n",
    "        for i in range(0, line_num + 1) : \n",
    "            k=i\n",
    "            res = 1\n",
    "            if (k > line_num - k) : \n",
    "                k = line_num - k \n",
    "            for i in range(0 , k) : \n",
    "                res = res * (line_num - i)   #res for calulating each number in the line\n",
    "                res = res // (i + 1) \n",
    "            print( res , \" \", end = \"\") \n",
    "        print()\n",
    "    print()  \n",
    "\n",
    "# Main \n",
    "n = 7\n",
    "func_pascal(n) "
   ]
  },
  {
   "cell_type": "markdown",
   "metadata": {},
   "source": [
    "#### 4. Write a Python function Print given range (1,10) print i**2?"
   ]
  },
  {
   "cell_type": "code",
   "execution_count": 10,
   "metadata": {},
   "outputs": [
    {
     "name": "stdout",
     "output_type": "stream",
     "text": [
      "[1, 4, 9, 16, 25]\n"
     ]
    }
   ],
   "source": [
    "def func(n):\n",
    "    a=[]\n",
    "    for i in range (1,n+1):\n",
    "        a.append(i**2)\n",
    "    return a\n",
    "\n",
    "print ( func(5))"
   ]
  },
  {
   "cell_type": "markdown",
   "metadata": {},
   "source": [
    "#### 5.Write a Python function to calculate the harmonic for number (4,9)"
   ]
  },
  {
   "cell_type": "code",
   "execution_count": 12,
   "metadata": {},
   "outputs": [
    {
     "name": "stdout",
     "output_type": "stream",
     "text": [
      "1.35\n"
     ]
    }
   ],
   "source": [
    "def func_harmonic( a,b):\n",
    "    harmonic=float(1)\n",
    "    for i in (a,b+1):\n",
    "        harmonic+=(1/i)\n",
    "    return harmonic\n",
    "\n",
    "print ( func_harmonic(4,9))"
   ]
  },
  {
   "cell_type": "markdown",
   "metadata": {},
   "source": [
    "#### 6.Write a Python function to calculate the geometric for number (4,9)"
   ]
  },
  {
   "cell_type": "code",
   "execution_count": 11,
   "metadata": {},
   "outputs": [
    {
     "name": "stdout",
     "output_type": "stream",
     "text": [
      "[4, 36, 324, 2916, 26244, 236196, 2125764, 19131876, 172186884, 1549681956]\n"
     ]
    }
   ],
   "source": [
    "#first term (a), common ratio (r) and an integer (n) of the Geometric Progression series\n",
    "\n",
    "# Geometric Series ith start term \" a=4\" and a common ration (r=9) with \"n\" numbers in the series\n",
    "# a, a*r, a*(r**2),a* (r**3) +........\n",
    "\n",
    "def func_geo(a,r,n):\n",
    "    list1=[]\n",
    "    for i in range(0,n):\n",
    "        list1.append(a*(r**i))\n",
    "    return list1\n",
    "\n",
    "\n",
    "print(func_geo(4,9,10))"
   ]
  },
  {
   "cell_type": "markdown",
   "metadata": {},
   "source": [
    "#### Types of arguments\n",
    "\n",
    "\n",
    "    1. Required arguments\n",
    "    2. Keyword arguments\n",
    "    3. Default arguments\n",
    "    4. Variable-length arguments"
   ]
  },
  {
   "cell_type": "markdown",
   "metadata": {},
   "source": [
    "#### 1. Required arguments: (the function calculate returns the sum of two arguments a and b )"
   ]
  },
  {
   "cell_type": "code",
   "execution_count": 12,
   "metadata": {},
   "outputs": [
    {
     "name": "stdout",
     "output_type": "stream",
     "text": [
      "12\n"
     ]
    }
   ],
   "source": [
    "def fun_add(a,b):\n",
    "    return a+b\n",
    "\n",
    "print  (fun_add(7,5))"
   ]
  },
  {
   "cell_type": "markdown",
   "metadata": {},
   "source": [
    "#### 2.Keyword arguments:(The function simple_interest(p, t, r) is called with the keyword arguments)"
   ]
  },
  {
   "cell_type": "code",
   "execution_count": 1,
   "metadata": {},
   "outputs": [
    {
     "name": "stdout",
     "output_type": "stream",
     "text": [
      "10.0\n"
     ]
    }
   ],
   "source": [
    "def fun_si(p,n,r):\n",
    "    return (p*n*r)/100\n",
    "\n",
    "print (fun_si (p=1000,n=2,r=0.5))"
   ]
  },
  {
   "cell_type": "markdown",
   "metadata": {},
   "source": [
    "#### 3. Default arguments"
   ]
  },
  {
   "cell_type": "code",
   "execution_count": 2,
   "metadata": {},
   "outputs": [
    {
     "name": "stdout",
     "output_type": "stream",
     "text": [
      "12\n",
      "17\n"
     ]
    }
   ],
   "source": [
    "def fun_add(a,b = 10):\n",
    "    return a+b\n",
    "\n",
    "print(fun_add(7,5))\n",
    "print(fun_add(7))"
   ]
  },
  {
   "cell_type": "markdown",
   "metadata": {},
   "source": [
    "## lambda function"
   ]
  },
  {
   "cell_type": "markdown",
   "metadata": {},
   "source": [
    "###### 1. Write a map function to find if the given list = [15, 47, 122, 48, 54, 562, 80, 923, 173, 461]  is divisible by 16 output is boolean ?"
   ]
  },
  {
   "cell_type": "code",
   "execution_count": 3,
   "metadata": {},
   "outputs": [
    {
     "name": "stdout",
     "output_type": "stream",
     "text": [
      "[False, False, False, True, False, False, True, False, False, False]\n"
     ]
    }
   ],
   "source": [
    "l = [5, 47, 122, 48, 54, 562, 80, 923, 173, 461] \n",
    "\n",
    "print (list ( map ( lambda x : True if x%16==0 else False , l) ))\n"
   ]
  },
  {
   "cell_type": "markdown",
   "metadata": {},
   "source": [
    "###### 2. Use the map() function to calculate the cube of all numbers in the given list: lis1 = [2,4,5,6677,353,464]\n"
   ]
  },
  {
   "cell_type": "code",
   "execution_count": 4,
   "metadata": {},
   "outputs": [
    {
     "name": "stdout",
     "output_type": "stream",
     "text": [
      "[8, 64, 125, 297676210733, 43986977, 99897344]\n"
     ]
    }
   ],
   "source": [
    "l = [ 2,4,5,6677,353,464 ]\n",
    "print (list (map ( lambda x : x**3 , l) ))"
   ]
  },
  {
   "cell_type": "markdown",
   "metadata": {},
   "source": [
    "#### 3.Create a list = [1,2,3,4,5] of lambdas in a for loop?"
   ]
  },
  {
   "cell_type": "code",
   "execution_count": 5,
   "metadata": {},
   "outputs": [
    {
     "name": "stdout",
     "output_type": "stream",
     "text": [
      "[1, 2, 3, 4]\n"
     ]
    }
   ],
   "source": [
    "l= [1,2,3,4]\n",
    "print (list ( map ( lambda x : x  , l )))"
   ]
  }
 ],
 "metadata": {
  "kernelspec": {
   "display_name": "Python 3",
   "language": "python",
   "name": "python3"
  },
  "language_info": {
   "codemirror_mode": {
    "name": "ipython",
    "version": 3
   },
   "file_extension": ".py",
   "mimetype": "text/x-python",
   "name": "python",
   "nbconvert_exporter": "python",
   "pygments_lexer": "ipython3",
   "version": "3.7.3"
  }
 },
 "nbformat": 4,
 "nbformat_minor": 2
}
