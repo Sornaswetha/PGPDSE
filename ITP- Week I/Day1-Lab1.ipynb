{
 "cells": [
  {
   "cell_type": "markdown",
   "metadata": {},
   "source": [
    "Reference Notes - <b> Markdown </b>"
   ]
  },
  {
   "cell_type": "code",
   "execution_count": null,
   "metadata": {},
   "outputs": [],
   "source": [
    "#command line\n",
    "\n",
    "print(\"hello\") #print"
   ]
  },
  {
   "cell_type": "markdown",
   "metadata": {},
   "source": [
    "# Example:1\n"
   ]
  },
  {
   "cell_type": "code",
   "execution_count": null,
   "metadata": {},
   "outputs": [],
   "source": [
    "a=10"
   ]
  },
  {
   "cell_type": "code",
   "execution_count": null,
   "metadata": {},
   "outputs": [],
   "source": [
    "print(a)"
   ]
  },
  {
   "cell_type": "code",
   "execution_count": null,
   "metadata": {},
   "outputs": [],
   "source": [
    "a=20"
   ]
  },
  {
   "cell_type": "code",
   "execution_count": null,
   "metadata": {},
   "outputs": [],
   "source": [
    "1 # int "
   ]
  },
  {
   "cell_type": "code",
   "execution_count": null,
   "metadata": {},
   "outputs": [],
   "source": [
    "2.5  #float "
   ]
  },
  {
   "cell_type": "code",
   "execution_count": null,
   "metadata": {},
   "outputs": [],
   "source": [
    "complex(5+9j) #complex"
   ]
  },
  {
   "cell_type": "code",
   "execution_count": 1,
   "metadata": {},
   "outputs": [
    {
     "data": {
      "text/plain": [
       "(8+7j)"
      ]
     },
     "execution_count": 1,
     "metadata": {},
     "output_type": "execute_result"
    }
   ],
   "source": [
    "complex(5+9j)  + complex(3-2j)"
   ]
  },
  {
   "cell_type": "code",
   "execution_count": null,
   "metadata": {},
   "outputs": [],
   "source": [
    "True \n",
    "False  #bool"
   ]
  },
  {
   "cell_type": "code",
   "execution_count": null,
   "metadata": {},
   "outputs": [],
   "source": [
    "#str\n",
    "'swetha'\n",
    "\"ammu\""
   ]
  },
  {
   "cell_type": "code",
   "execution_count": null,
   "metadata": {},
   "outputs": [],
   "source": [
    "print('swetha')\n",
    "#print(\"ammu\")"
   ]
  },
  {
   "cell_type": "code",
   "execution_count": null,
   "metadata": {},
   "outputs": [],
   "source": [
    "# String - \"\"\" - 3 double quotes\n",
    "\n",
    "print(\"\"\" Hi \n",
    "This is python \"\"\")"
   ]
  },
  {
   "cell_type": "code",
   "execution_count": null,
   "metadata": {},
   "outputs": [],
   "source": [
    "a=5\n",
    "b=a\n",
    "c=a\n",
    "print (type(a))\n",
    "print (type(b))\n",
    "print (type(c))\n",
    "a=\"hi\"\n",
    "b=a\n",
    "print (type(b))\n",
    "print (type(a))\n",
    "type(a)\n"
   ]
  },
  {
   "cell_type": "markdown",
   "metadata": {},
   "source": [
    "Everything in Python is an <b> object </b>"
   ]
  },
  {
   "cell_type": "code",
   "execution_count": null,
   "metadata": {},
   "outputs": [],
   "source": [
    "s=True\n",
    "print (type(s))\n",
    "av=\"hi\"\n",
    "print(type(av))"
   ]
  },
  {
   "cell_type": "code",
   "execution_count": null,
   "metadata": {},
   "outputs": [],
   "source": [
    "print(str)"
   ]
  },
  {
   "cell_type": "code",
   "execution_count": null,
   "metadata": {},
   "outputs": [],
   "source": [
    "a=\"hi\"\n",
    "b=8\n",
    "print (\"a is\", a, \": b is\", b )"
   ]
  },
  {
   "cell_type": "markdown",
   "metadata": {},
   "source": [
    "#### Print will add a \"space\" to all values and print it"
   ]
  },
  {
   "cell_type": "markdown",
   "metadata": {},
   "source": [
    "#### Default value of \"sep\" is \"Space\""
   ]
  },
  {
   "cell_type": "code",
   "execution_count": null,
   "metadata": {},
   "outputs": [],
   "source": [
    "a,b,c=10,20,30\n",
    "print (a,b,c,sep=\";\")\n",
    "print(a,b,c)"
   ]
  },
  {
   "cell_type": "code",
   "execution_count": null,
   "metadata": {},
   "outputs": [],
   "source": [
    "a=10,5\n",
    "print(a)\n",
    "print(type(a))"
   ]
  },
  {
   "cell_type": "markdown",
   "metadata": {},
   "source": [
    "## Data Type Conversion"
   ]
  },
  {
   "cell_type": "code",
   "execution_count": null,
   "metadata": {},
   "outputs": [],
   "source": [
    "a=10\n",
    "b=19.4\n",
    "c=a+b\n",
    "print(\"a=\", a, \"type :\" ,type(a))\n",
    "print(\"b=\", b , \"type :\" ,type(b))\n",
    "print(\"c=\", c , \"type :\" ,type(c))\n"
   ]
  },
  {
   "cell_type": "markdown",
   "metadata": {},
   "source": [
    "#### Explict Conversion"
   ]
  },
  {
   "cell_type": "code",
   "execution_count": null,
   "metadata": {},
   "outputs": [],
   "source": [
    "a=10\n",
    "b=\"2\"\n",
    "c=a+int(b)\n",
    "print(\"a=\", a, \"type :\" ,type(a))\n",
    "print(\"b=\", b , \"type :\" ,type(b))\n",
    "print(\"c=\", c , \"type :\" ,type(c))"
   ]
  },
  {
   "cell_type": "markdown",
   "metadata": {},
   "source": [
    "#### int--> float : implict\n",
    "float-->int : explict"
   ]
  },
  {
   "cell_type": "code",
   "execution_count": null,
   "metadata": {},
   "outputs": [],
   "source": [
    "\n",
    "c=\"10.80\"\n",
    "print(float(c))\n",
    "#print(int(c)) #ERROR\n",
    "print(bool(c)) \n",
    "\n",
    "c=\"10.80\"\n",
    "print(float(c))\n",
    "#print(int(c)) #ERROR"
   ]
  },
  {
   "cell_type": "markdown",
   "metadata": {},
   "source": [
    "## Bool"
   ]
  },
  {
   "cell_type": "code",
   "execution_count": null,
   "metadata": {},
   "outputs": [],
   "source": [
    "a = None\n",
    "print(bool(a))\n",
    "a = 0\n",
    "print(bool(a))\n",
    "a = 0.0\n",
    "print(bool(a))\n",
    "a = 1\n",
    "print(bool(a))\n",
    "a = -1\n",
    "print(bool(a))\n",
    "\n",
    "a = \"1\"\n",
    "print(bool(a))\n",
    "a = \"hi\"\n",
    "print(bool(a))\n",
    "a = \"\"\n",
    "print(bool(a))"
   ]
  },
  {
   "cell_type": "markdown",
   "metadata": {},
   "source": [
    "### Taking Input"
   ]
  },
  {
   "cell_type": "code",
   "execution_count": null,
   "metadata": {},
   "outputs": [],
   "source": [
    "name = input (\"Enter name : \") \n",
    "print (\"hi \" ,name)"
   ]
  },
  {
   "cell_type": "code",
   "execution_count": null,
   "metadata": {},
   "outputs": [],
   "source": [
    "num1= input (\"Enter first number: \")\n",
    "num2= input (\"Enter second number: \")\n",
    "print (\"Sum of \", num1 , \"and\", num2,\"is\",int(num1) +int (num2))"
   ]
  },
  {
   "cell_type": "code",
   "execution_count": null,
   "metadata": {},
   "outputs": [],
   "source": [
    "num1=int( input (\"Enter first number: \"))\n",
    "num2= int(input (\"Enter second number: \"))\n",
    "print (\"Sum of \", num1 , \"and\", num2,\"is\",num1+num2)"
   ]
  },
  {
   "cell_type": "markdown",
   "metadata": {},
   "source": [
    "### Python Operators"
   ]
  },
  {
   "cell_type": "code",
   "execution_count": null,
   "metadata": {},
   "outputs": [],
   "source": [
    "a=100\n",
    "b=21\n",
    "# Division\n",
    "print (a/b) #float value\n",
    "#Floor Division\n",
    "print(a//b) #int value"
   ]
  },
  {
   "cell_type": "markdown",
   "metadata": {},
   "source": [
    "Operand -  Values where we apply opertors\n",
    "Relational Operator\n",
    "- Binary Operand\n",
    "- Returns Boolean values\n"
   ]
  },
  {
   "cell_type": "code",
   "execution_count": null,
   "metadata": {},
   "outputs": [],
   "source": [
    "a=100\n",
    "b=56.8\n",
    "print (\" a>b \", a>b)\n",
    "print (\" a>=b \", a>=b)\n",
    "print (\" a<b \", a<b)\n",
    "print (\" a<=b \", a<=b)\n",
    "print (\" a==b\", a==b)\n",
    "print (\" a!=b \", a!=b)"
   ]
  },
  {
   "cell_type": "markdown",
   "metadata": {},
   "source": [
    "Logical Operand\n",
    "- and\n",
    "- or\n",
    "- not"
   ]
  },
  {
   "cell_type": "code",
   "execution_count": null,
   "metadata": {},
   "outputs": [],
   "source": [
    "a,b,c=5,7,3\n",
    "print( a >b and not (b<c))"
   ]
  },
  {
   "cell_type": "code",
   "execution_count": null,
   "metadata": {},
   "outputs": [],
   "source": [
    "print (\"h\" and \"b\")"
   ]
  },
  {
   "cell_type": "code",
   "execution_count": 16,
   "metadata": {},
   "outputs": [
    {
     "name": "stdout",
     "output_type": "stream",
     "text": [
      "Enter Age:5\n",
      "False ,Age is less than 18\n"
     ]
    }
   ],
   "source": [
    "age= int(input (\"Enter Age:\"))\n",
    "if age>18:\n",
    "    print (age>18,\",Age is above 18\")\n",
    "elif age<18:\n",
    "    print (age>18,\",Age is less than 18\")\n",
    "\n",
    "  "
   ]
  },
  {
   "cell_type": "code",
   "execution_count": 11,
   "metadata": {},
   "outputs": [
    {
     "name": "stdout",
     "output_type": "stream",
     "text": [
      "Enter Age:25\n",
      "True\n"
     ]
    }
   ],
   "source": [
    "age= int(input (\"Enter Age:\"))\n",
    "print (age>18)"
   ]
  },
  {
   "cell_type": "code",
   "execution_count": 14,
   "metadata": {},
   "outputs": [
    {
     "name": "stdout",
     "output_type": "stream",
     "text": [
      "enter dress color red\n",
      "enter dress color blue\n",
      "False\n"
     ]
    }
   ],
   "source": [
    "girl =input(\"enter dress color \")\n",
    "boy =input(\"enter dress color \")\n",
    "print(boy==\"blue\" and girl ==\"pink\")"
   ]
  },
  {
   "cell_type": "markdown",
   "metadata": {},
   "source": [
    "BITWISE OPEATOR\n",
    "- &\n",
    "- |\n",
    "- ^\n",
    "- ~\n",
    "- <<\n",
    "- > > binar right shift"
   ]
  },
  {
   "cell_type": "code",
   "execution_count": 21,
   "metadata": {},
   "outputs": [
    {
     "name": "stdout",
     "output_type": "stream",
     "text": [
      "2\n",
      "15\n",
      "20\n"
     ]
    }
   ],
   "source": [
    "a=10 # binary 1010\n",
    "b=7 # binary 0111\n",
    "print (a&b) # 0010\n",
    "print(a|b) # 1111\n",
    "print(a<<1)"
   ]
  },
  {
   "cell_type": "markdown",
   "metadata": {},
   "source": [
    "ASSIGNMENT OPERATOR\n",
    "- a=a+b       a+=b\n",
    "- a= a * (b+c)    -->  a*=(b+c)\n"
   ]
  },
  {
   "cell_type": "code",
   "execution_count": null,
   "metadata": {},
   "outputs": [],
   "source": []
  }
 ],
 "metadata": {
  "kernelspec": {
   "display_name": "Python 3",
   "language": "python",
   "name": "python3"
  },
  "language_info": {
   "codemirror_mode": {
    "name": "ipython",
    "version": 3
   },
   "file_extension": ".py",
   "mimetype": "text/x-python",
   "name": "python",
   "nbconvert_exporter": "python",
   "pygments_lexer": "ipython3",
   "version": "3.7.3"
  }
 },
 "nbformat": 4,
 "nbformat_minor": 2
}
