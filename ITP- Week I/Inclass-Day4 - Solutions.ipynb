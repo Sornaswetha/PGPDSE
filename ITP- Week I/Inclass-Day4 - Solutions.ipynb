{
 "cells": [
  {
   "cell_type": "markdown",
   "metadata": {},
   "source": [
    "# Question - 01\n",
    "\n",
    "Write a Python defined function to multiply all the numbers for the given list below and print it.\n",
    "\n",
    "\n",
    "INPUT:\n",
    "\n",
    "[1,3,2,4,6,3,68,45,575,8, 2, 3, -1, 7]\n",
    "\n",
    "\n",
    "OUTPUT:\n",
    "\n",
    "-255394944000"
   ]
  },
  {
   "cell_type": "code",
   "execution_count": 2,
   "metadata": {},
   "outputs": [
    {
     "name": "stdout",
     "output_type": "stream",
     "text": [
      "-255394944000\n"
     ]
    }
   ],
   "source": [
    "def product (list1):\n",
    "    prod=1\n",
    "    for i in list1:\n",
    "        prod*=i\n",
    "    return prod\n",
    "\n",
    "l = [1,3,2,4,6,3,68,45,575,8, 2, 3, -1, 7]\n",
    "print (product(l))"
   ]
  },
  {
   "cell_type": "code",
   "execution_count": 3,
   "metadata": {},
   "outputs": [
    {
     "data": {
      "text/plain": [
       "-255394944000"
      ]
     },
     "execution_count": 3,
     "metadata": {},
     "output_type": "execute_result"
    }
   ],
   "source": [
    "# Method 2 : Using Reduce\n",
    "from functools import reduce\n",
    "l = [1,3,2,4,6,3,68,45,575,8, 2, 3, -1, 7]\n",
    "reduce ( lambda x,y : x*y , l)"
   ]
  },
  {
   "cell_type": "markdown",
   "metadata": {},
   "source": [
    "# Question - 02\n",
    "Write a Python defined function to reverse a string given below which include a while loop also and print it.\n",
    "\n",
    "\n",
    "INPUT:\n",
    "\n",
    "'ASDFGHJKUYTREWQ654321123456'\n",
    "\n",
    "\n",
    "\n",
    "OUTPUT:\n",
    "\n",
    "654321123456QWERTYUKJHGFDSA"
   ]
  },
  {
   "cell_type": "code",
   "execution_count": 13,
   "metadata": {},
   "outputs": [
    {
     "name": "stdout",
     "output_type": "stream",
     "text": [
      " Enter String : ASDFGHJKUYTREWQ654321123456\n"
     ]
    },
    {
     "data": {
      "text/plain": [
       "'654321123456QWERTYUKJHGFDSA'"
      ]
     },
     "execution_count": 13,
     "metadata": {},
     "output_type": "execute_result"
    }
   ],
   "source": [
    "def str_reverse (string):\n",
    "    i=len(string)\n",
    "    rev_string=\"\"\n",
    "    while i >0:\n",
    "        rev_string += string[i-1] \n",
    "        i-=1\n",
    "    return rev_string\n",
    "\n",
    "string = input (\" Enter String : \")\n",
    "str_reverse(string)\n",
    "        "
   ]
  },
  {
   "cell_type": "markdown",
   "metadata": {},
   "source": [
    "# Question - 03\n",
    "\n",
    "Write a defined function to add and subtract two variables and print it\n",
    "\n",
    "\n",
    "INPUT:\n",
    "\n",
    "9,12\n",
    "\n",
    "\n",
    "\n",
    "OUTPUT:\n",
    "\n",
    "21, -3"
   ]
  },
  {
   "cell_type": "code",
   "execution_count": 14,
   "metadata": {},
   "outputs": [
    {
     "name": "stdout",
     "output_type": "stream",
     "text": [
      "(21, -3)\n"
     ]
    }
   ],
   "source": [
    "def func(a,b):\n",
    "    add = a+b\n",
    "    sub = a-b\n",
    "    return (add,sub)\n",
    "\n",
    "result = func (9,12)\n",
    "print ( result)"
   ]
  },
  {
   "cell_type": "markdown",
   "metadata": {},
   "source": [
    "# Question - 04\n",
    "\n",
    "Write a defined function that returns the lesser of two given numbers if both numbers are even, but returns the greater if one or both numbers are odd .\n",
    "\n",
    "For Example:-\n",
    "\n",
    "lesser_of_two_evens(4,6) --> 4\n",
    "\n",
    "lesser_of_two_evens(4,11) --> 11\n",
    "\n",
    "\n",
    "INPUT:\n",
    "\n",
    "2,4\n",
    "\n",
    "2,5\n",
    "\n",
    "\n",
    "OUTPUT:\n",
    "\n",
    "2\n",
    "\n",
    "5"
   ]
  },
  {
   "cell_type": "code",
   "execution_count": 15,
   "metadata": {},
   "outputs": [
    {
     "name": "stdout",
     "output_type": "stream",
     "text": [
      "2\n",
      "5\n"
     ]
    }
   ],
   "source": [
    "def func_odd_even( a,b):\n",
    "    if a%2 or b%2:\n",
    "        if  a>b:\n",
    "            return a\n",
    "        else:\n",
    "            return b\n",
    "    else:\n",
    "        if  a<b:\n",
    "            return a\n",
    "        else:\n",
    "            return b\n",
    "\n",
    "print ( func_odd_even (2,4))\n",
    "print ( func_odd_even (2,5))"
   ]
  },
  {
   "cell_type": "markdown",
   "metadata": {},
   "source": [
    "# Question - 05\n",
    "\n",
    "Write a defined function takes a two-word string and returns True if both words begin with same letter.\n",
    " \n",
    "For Example :-\n",
    "\n",
    "animal('Levelheaded Llama') --> True\n",
    "animal('Crazy Kangaroo') --> False\n",
    "\n",
    "INPUT:\n",
    "\n",
    "'great learning'\n",
    "\n",
    "'great greater\n",
    "\n",
    "OUTPUT:\n",
    "\n",
    "false\n",
    "\n",
    "true\n"
   ]
  },
  {
   "cell_type": "code",
   "execution_count": 18,
   "metadata": {},
   "outputs": [
    {
     "name": "stdout",
     "output_type": "stream",
     "text": [
      "False\n",
      "True\n"
     ]
    }
   ],
   "source": [
    "def func (string):\n",
    "    s = string.split (\" \")\n",
    "    return s[0][0] ==s[1][0]\n",
    "\n",
    "print ( func('great learning'))\n",
    "print ( func('great greater'))"
   ]
  },
  {
   "cell_type": "markdown",
   "metadata": {},
   "source": [
    "# Question - 06\n",
    "\n",
    "Given two integers, return True if the sum of the integers is 20 or if one of the integers is 20. If not, return False.\n",
    "\n",
    " For Example :-\n",
    "\n",
    "check_num(20,10) --> True\n",
    "\n",
    "check_num(12,8) --> True\n",
    "\n",
    "check_num(2,3) --> False\n",
    "\n",
    "\n",
    "INPUT:\n",
    "\n",
    "20,20\n",
    "\n",
    "16,4\n",
    "\n",
    "18,1\n",
    "\n",
    "\n",
    "OUTPUT:\n",
    "\n",
    "true\n",
    "\n",
    "true\n",
    "\n",
    "false"
   ]
  },
  {
   "cell_type": "code",
   "execution_count": 57,
   "metadata": {},
   "outputs": [
    {
     "name": "stdout",
     "output_type": "stream",
     "text": [
      "true\n",
      "true\n",
      "false\n"
     ]
    }
   ],
   "source": [
    "def func(a,b):\n",
    "    if a+b == 20 or a==20 or b==20:\n",
    "        return \"true\"\n",
    "    else:\n",
    "        return \"false\"\n",
    "print ( func(20,20))\n",
    "print ( func(16,4))\n",
    "print ( func(18,1))"
   ]
  },
  {
   "cell_type": "code",
   "execution_count": 4,
   "metadata": {},
   "outputs": [
    {
     "name": "stdout",
     "output_type": "stream",
     "text": [
      "True\n",
      "True\n",
      "False\n"
     ]
    }
   ],
   "source": [
    "def func(a,b):\n",
    "    return a+b == 20 or a==20 or b==20\n",
    "\n",
    "print ( func(20,20))\n",
    "print ( func(16,4))\n",
    "print ( func(18,1))"
   ]
  },
  {
   "cell_type": "markdown",
   "metadata": {},
   "source": [
    "# Question - 07\n",
    "Write a python code to map the given below list using lambda function the output to be square of the given list .\n",
    "\n",
    "INPUT:\n",
    "\n",
    "[1,2,3,4,5]\n",
    "\n",
    "OUTPUT:\n",
    "\n",
    "[1,4,9,16,25]"
   ]
  },
  {
   "cell_type": "code",
   "execution_count": 22,
   "metadata": {},
   "outputs": [
    {
     "data": {
      "text/plain": [
       "[1, 4, 9, 16, 25]"
      ]
     },
     "execution_count": 22,
     "metadata": {},
     "output_type": "execute_result"
    }
   ],
   "source": [
    "l = [1,2,3,4,5]\n",
    "list ( map ( lambda x : x**2 , l ))"
   ]
  },
  {
   "cell_type": "markdown",
   "metadata": {},
   "source": [
    "# Question - 08\n",
    "\n",
    "Write a python code to filter the given below list using lambda function the output to be even numbers from given list .\n",
    "\n",
    "INPUT:\n",
    "\n",
    "[1,2,3,4,5,6,7,8,9,10]\n",
    "\n",
    "\n",
    "OUTPUT:\n",
    "\n",
    "[2,4,6,8,10]"
   ]
  },
  {
   "cell_type": "code",
   "execution_count": 23,
   "metadata": {},
   "outputs": [
    {
     "name": "stdout",
     "output_type": "stream",
     "text": [
      "[2, 4, 6, 8, 10]\n"
     ]
    }
   ],
   "source": [
    "l = [ 1,2,3,4,5,6,7,8,9,10]\n",
    "b = list (filter ( lambda a : a%2 ==0 , l ) )\n",
    "print (b)"
   ]
  },
  {
   "cell_type": "code",
   "execution_count": 8,
   "metadata": {},
   "outputs": [
    {
     "name": "stdout",
     "output_type": "stream",
     "text": [
      "[False, True, False, True, False, True, False, True, False, True]\n"
     ]
    }
   ],
   "source": [
    "l = [ 1,2,3,4,5,6,7,8,9,10]\n",
    "b = list (map ( lambda a : a%2 ==0 , l ) )\n",
    "print (b)"
   ]
  },
  {
   "cell_type": "markdown",
   "metadata": {},
   "source": [
    "# Question - 09\n",
    "\n",
    "\n",
    "Write a Python defined function that checks whether a passed string is palindrome or not if it is an palindrome then output is to be true else it to be false and print it.\n",
    "\n",
    "Note: A palindrome is word, phrase, or sequence that reads the same backward as forward, e.g., madam or nurses run.\n",
    "\n",
    "\n",
    "\n",
    "\n",
    "INPUT:\n",
    "\n",
    "nurses run\n",
    "\n",
    "abcba\n",
    "\n",
    "\n",
    "\n",
    "OUTPUT:\n",
    "\n",
    "true\n",
    "\n",
    "true"
   ]
  },
  {
   "cell_type": "code",
   "execution_count": 28,
   "metadata": {},
   "outputs": [
    {
     "name": "stdout",
     "output_type": "stream",
     "text": [
      "True\n",
      "True\n"
     ]
    }
   ],
   "source": [
    "def func_palindrome(str1):\n",
    "    return ( str1.replace (\" \",\"\") == ( str1[::-1]). replace (\" \",\"\"))\n",
    "\n",
    "print ( func_palindrome(\"nurses run\")) \n",
    "print ( func_palindrome(\"abcba\"))"
   ]
  },
  {
   "cell_type": "code",
   "execution_count": 11,
   "metadata": {},
   "outputs": [
    {
     "name": "stdout",
     "output_type": "stream",
     "text": [
      "hi hi\n"
     ]
    }
   ],
   "source": [
    "str1=\"hi hi\"\n",
    "str1.replace (\" \",\"\")\n",
    "print(str1)"
   ]
  },
  {
   "cell_type": "markdown",
   "metadata": {},
   "source": [
    "# Question - 10\n",
    "\n",
    "\n",
    "Write a Python defined function to check whether a string is pangram or not if the sentence is pangram output to be true if not it is to be false.\n",
    " \n",
    "Note : Pangrams are words or sentences containing every letter of the alphabet at least once.\n",
    "\n",
    "For example : \"The quick brown fox jumps over the lazy dog\"\n",
    "\n",
    "Hint: Look at the string module\n",
    "    \n",
    "\n",
    "INPUT:\n",
    "\n",
    "The quick brown fox jumps over the lazy dog\n",
    "\n",
    "\n",
    "\n",
    "abcdefghijklmnopqrstuvwxyz\n",
    "\n",
    "\n",
    "\n",
    "hjdbjdjdnwdjksndklsdnkwdkdnkdm\n",
    "\n",
    "\n",
    "\n",
    "OUTPUT:\n",
    "\n",
    "true\n",
    "\n",
    "true\n",
    "\n",
    "false"
   ]
  },
  {
   "cell_type": "code",
   "execution_count": 2,
   "metadata": {},
   "outputs": [
    {
     "name": "stdout",
     "output_type": "stream",
     "text": [
      "True\n",
      "True\n",
      "False\n"
     ]
    }
   ],
   "source": [
    "def fun_Pangram(str1):\n",
    "    set1 = set (str1.lower())   # SEt to remove duplicates\n",
    "    str2=\"abcdefghijklmnopqrstuvwxyz\"  \n",
    "    set2 = set (str2)   # SEt of all alphabets\n",
    "    return len (set1 & set2) ==26  # To check if t has all 25\n",
    "    \n",
    "print ( fun_Pangram(\"The quick brown fox jumps over the lazy dog\"))\n",
    "print ( fun_Pangram(\"abcdefghijklmnopqrstuvwxyz\"))\n",
    "print ( fun_Pangram(\"hjdbjdjdnwdjksndklsdnkwdkdnkdm\"))\n"
   ]
  },
  {
   "cell_type": "code",
   "execution_count": null,
   "metadata": {},
   "outputs": [],
   "source": []
  }
 ],
 "metadata": {
  "hide_input": false,
  "kernelspec": {
   "display_name": "Python 3",
   "language": "python",
   "name": "python3"
  },
  "language_info": {
   "codemirror_mode": {
    "name": "ipython",
    "version": 3
   },
   "file_extension": ".py",
   "mimetype": "text/x-python",
   "name": "python",
   "nbconvert_exporter": "python",
   "pygments_lexer": "ipython3",
   "version": "3.7.3"
  },
  "toc": {
   "base_numbering": 1,
   "nav_menu": {},
   "number_sections": true,
   "sideBar": true,
   "skip_h1_title": false,
   "title_cell": "Table of Contents",
   "title_sidebar": "Contents",
   "toc_cell": false,
   "toc_position": {},
   "toc_section_display": true,
   "toc_window_display": false
  },
  "varInspector": {
   "cols": {
    "lenName": 16,
    "lenType": 16,
    "lenVar": 40
   },
   "kernels_config": {
    "python": {
     "delete_cmd_postfix": "",
     "delete_cmd_prefix": "del ",
     "library": "var_list.py",
     "varRefreshCmd": "print(var_dic_list())"
    },
    "r": {
     "delete_cmd_postfix": ") ",
     "delete_cmd_prefix": "rm(",
     "library": "var_list.r",
     "varRefreshCmd": "cat(var_dic_list()) "
    }
   },
   "types_to_exclude": [
    "module",
    "function",
    "builtin_function_or_method",
    "instance",
    "_Feature"
   ],
   "window_display": false
  }
 },
 "nbformat": 4,
 "nbformat_minor": 2
}
