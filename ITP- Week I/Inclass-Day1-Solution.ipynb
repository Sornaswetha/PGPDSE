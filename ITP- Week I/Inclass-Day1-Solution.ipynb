{
 "cells": [
  {
   "cell_type": "markdown",
   "metadata": {},
   "source": [
    "#### 1.  Python Program to exchange the values of two numbers without using a temporary variable. "
   ]
  },
  {
   "cell_type": "code",
   "execution_count": 37,
   "metadata": {},
   "outputs": [
    {
     "name": "stdout",
     "output_type": "stream",
     "text": [
      "Enter number1 : 25\n",
      "Enter number2 : 63\n",
      "Before Swap : Number1 is 25  Number2 is  63\n",
      "After Swap : Number1 is 63  Number2 is  25\n"
     ]
    }
   ],
   "source": [
    "a=int(input (\"Enter number1 : \"))\n",
    "b=int(input (\"Enter number2 : \"))\n",
    "print(\"Before Swap : Number1 is\", a , \" Number2 is \", b)\n",
    "a=a+b\n",
    "b=a-b\n",
    "a=a-b\n",
    "print(\"After Swap : Number1 is\", a , \" Number2 is \", b)"
   ]
  },
  {
   "cell_type": "markdown",
   "metadata": {},
   "source": [
    "#### 2. Write a python code to replace all  \"a\"  with 2 for the given variable\n",
    "s = 'abc12321cba'"
   ]
  },
  {
   "cell_type": "code",
   "execution_count": 2,
   "metadata": {},
   "outputs": [
    {
     "name": "stdout",
     "output_type": "stream",
     "text": [
      "2bc12321cb2\n"
     ]
    }
   ],
   "source": [
    "s = \"abc12321cba\"\n",
    "print(s.replace(\"a\",\"2\")) # Replacing \"a\" with \"2\""
   ]
  },
  {
   "cell_type": "markdown",
   "metadata": {},
   "source": [
    "#### 3. Python code to  remove first character in string?\n",
    "string = \"Great learning\""
   ]
  },
  {
   "cell_type": "code",
   "execution_count": 4,
   "metadata": {},
   "outputs": [
    {
     "name": "stdout",
     "output_type": "stream",
     "text": [
      "reat learning\n"
     ]
    }
   ],
   "source": [
    "string = \"Great learning\"\n",
    "print(string.replace(string[0],\"\",1))   #Removing first character "
   ]
  },
  {
   "cell_type": "markdown",
   "metadata": {},
   "source": [
    "#### 4. Concatenate two strings  \n",
    "#### desired output :   \"Great Learning\""
   ]
  },
  {
   "cell_type": "code",
   "execution_count": 4,
   "metadata": {},
   "outputs": [
    {
     "name": "stdout",
     "output_type": "stream",
     "text": [
      "Great Learning\n"
     ]
    }
   ],
   "source": [
    "first_nm = \"Great\"\n",
    "last_nm = \"Learning\"\n",
    "nm=first_nm+\" \"+last_nm  # String Concatenation\n",
    "print(nm)"
   ]
  },
  {
   "cell_type": "markdown",
   "metadata": {},
   "source": [
    "#### 5. Repeat the string \" Great Learning 3 times \n",
    "#### desired output :  'Great Learning Great Learning Great Learning '"
   ]
  },
  {
   "cell_type": "code",
   "execution_count": 7,
   "metadata": {},
   "outputs": [
    {
     "name": "stdout",
     "output_type": "stream",
     "text": [
      "Great Learning Great Learning Great Learning \n"
     ]
    }
   ],
   "source": [
    "str=\"Great Learning \" * 3 #Repeatation\n",
    "print (str)"
   ]
  },
  {
   "cell_type": "markdown",
   "metadata": {},
   "source": [
    "#### 6.  Create 3 variables a1,a2,a3 and assign the same value \" 4 \" to all the variables (Multiple variable assignment)"
   ]
  },
  {
   "cell_type": "code",
   "execution_count": 5,
   "metadata": {},
   "outputs": [
    {
     "name": "stdout",
     "output_type": "stream",
     "text": [
      " Values of a1, a2, a3 are 4 , 4 , 4\n"
     ]
    }
   ],
   "source": [
    "a1=a2=a3=4 #Multiple variable assignment\n",
    "print (\" Values of a1, a2, a3 are\",a1,\",\",a2,\",\",a3)"
   ]
  },
  {
   "cell_type": "markdown",
   "metadata": {},
   "source": [
    "#### 7. Calculate the BMI of a person (Use height and weight)?\n",
    "BMI = w/(h^2)\n"
   ]
  },
  {
   "cell_type": "code",
   "execution_count": 8,
   "metadata": {},
   "outputs": [
    {
     "name": "stdout",
     "output_type": "stream",
     "text": [
      "Enter Weight : 56\n",
      "Enter Height : 160\n",
      "BMI is  0.0021875\n"
     ]
    }
   ],
   "source": [
    "weight=int(input(\"Enter Weight : \"))\n",
    "height = int(input(\"Enter Height : \"))\n",
    "bmi=weight/(height**2)  \n",
    "print(\"BMI is \",bmi)"
   ]
  },
  {
   "cell_type": "markdown",
   "metadata": {},
   "source": [
    "#### 8.Calculate the area of circle, (Area of circle = pi * r square)"
   ]
  },
  {
   "cell_type": "code",
   "execution_count": 11,
   "metadata": {},
   "outputs": [
    {
     "name": "stdout",
     "output_type": "stream",
     "text": [
      "Enter Radius : 5\n",
      "Area of circle is 78.54\n"
     ]
    }
   ],
   "source": [
    "import math\n",
    "radius=int(input(\"Enter Radius : \"))\n",
    "area=(math.pi)*(radius**2)\n",
    "print(\"Area of circle is %0.2f \" %area)"
   ]
  },
  {
   "cell_type": "markdown",
   "metadata": {},
   "source": [
    "#### 9.Calculate the simple interest\n",
    "#### simple_interest = p * n * r /100"
   ]
  },
  {
   "cell_type": "code",
   "execution_count": 16,
   "metadata": {},
   "outputs": [
    {
     "name": "stdout",
     "output_type": "stream",
     "text": [
      "Enter P : 100\n",
      "Enter N : 5\n",
      "Enter R : 2\n",
      "Simple Interest is  10.0\n"
     ]
    }
   ],
   "source": [
    "p=int(input(\"Enter P : \"))\n",
    "n=int(input(\"Enter N : \"))\n",
    "r=int(input(\"Enter R : \"))\n",
    "si=(p*n*r)/100\n",
    "print(\"Simple Interest is \",si)"
   ]
  },
  {
   "cell_type": "markdown",
   "metadata": {},
   "source": [
    "#### 10. Calculate the square root of a number (run time variable)"
   ]
  },
  {
   "cell_type": "code",
   "execution_count": 24,
   "metadata": {},
   "outputs": [
    {
     "name": "stdout",
     "output_type": "stream",
     "text": [
      "Enter Number : 25\n",
      "Square Root is 5.0\n"
     ]
    }
   ],
   "source": [
    "import math\n",
    "num= int(input(\"Enter Number : \"))\n",
    "print(\"Square Root is\",math.sqrt(num))"
   ]
  }
 ],
 "metadata": {
  "kernelspec": {
   "display_name": "Python 3",
   "language": "python",
   "name": "python3"
  },
  "language_info": {
   "codemirror_mode": {
    "name": "ipython",
    "version": 3
   },
   "file_extension": ".py",
   "mimetype": "text/x-python",
   "name": "python",
   "nbconvert_exporter": "python",
   "pygments_lexer": "ipython3",
   "version": "3.7.3"
  }
 },
 "nbformat": 4,
 "nbformat_minor": 2
}
