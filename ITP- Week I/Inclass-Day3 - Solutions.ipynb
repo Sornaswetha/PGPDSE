{
 "cells": [
  {
   "cell_type": "markdown",
   "metadata": {},
   "source": [
    "### IF Statement "
   ]
  },
  {
   "cell_type": "markdown",
   "metadata": {},
   "source": [
    "### Problems:"
   ]
  },
  {
   "cell_type": "markdown",
   "metadata": {},
   "source": [
    "## Write a python code to check is x is less than y\n",
    "#### Test Cases: \n",
    "#### 1. x = 20 and y = 30\n",
    "#### 2. x = 35 and y = 15\n"
   ]
  },
  {
   "cell_type": "code",
   "execution_count": null,
   "metadata": {},
   "outputs": [],
   "source": [
    "x,y=20,30\n",
    "if x < y :\n",
    "      print (x , \"is less than \", y)\n",
    "else:\n",
    "     print (x , \"is greater than \", y) \n"
   ]
  },
  {
   "cell_type": "code",
   "execution_count": null,
   "metadata": {},
   "outputs": [],
   "source": [
    "x,y=23,15\n",
    "if  (x < y) :\n",
    "      print (x , \"is less than \", y)\n",
    "else:\n",
    "    \n",
    "    print (x , \"is greater than \", y) "
   ]
  },
  {
   "cell_type": "markdown",
   "metadata": {},
   "source": [
    "### 2.For a certain Python course's test, the total score is 200 (100 points for the theoritical work and 100 for practical). Write a program to print the print the total score. If the score exceeds 200, display an error message or warning.\n",
    "\n",
    "#### Test cases:\n",
    "#### Theory = 145, Practical = 100\n",
    "#### Theory = 75, Practical = 100"
   ]
  },
  {
   "cell_type": "code",
   "execution_count": null,
   "metadata": {},
   "outputs": [],
   "source": [
    "theory = 145\n",
    "practical = 100\n",
    "\n",
    "if theory + practical >200 :\n",
    "    print(\"Error !! Total is greater than 200 \")\n",
    "else:\n",
    "    print(theory + practical)"
   ]
  },
  {
   "cell_type": "code",
   "execution_count": null,
   "metadata": {},
   "outputs": [],
   "source": [
    "theory = 75\n",
    "practical = 100\n",
    "\n",
    "if theory + practical >200 :\n",
    "    print(\"Error !! Total is greater than 200 \")\n",
    "else:\n",
    "    print(theory + practical)"
   ]
  },
  {
   "cell_type": "markdown",
   "metadata": {},
   "source": [
    "# If-else Statement"
   ]
  },
  {
   "cell_type": "markdown",
   "metadata": {},
   "source": [
    "#### 1. Write a python code to check if a student has passed a subject based on a string input (Yes, No)"
   ]
  },
  {
   "cell_type": "code",
   "execution_count": null,
   "metadata": {},
   "outputs": [],
   "source": [
    "str1 = input (\"Enter Yes/No : \")\n",
    "if (str1 == \"Yes\"):\n",
    "    print(\"Pass\")\n",
    "else:\n",
    "    print(\"Fail\")"
   ]
  },
  {
   "cell_type": "markdown",
   "metadata": {},
   "source": [
    "### 2. Write a python code to Take the password as an input from user and check if it is correct and display a message accordingly (Password Accepted , Wrong Password). The correct password is greatl\n",
    "\n",
    "#### Test cases:\n",
    "#### Enter Password: greatl,  Output: Password Accepted\n",
    "#### Enter Password: greatlearning, Output: Wrong Password, Try Again!\n"
   ]
  },
  {
   "cell_type": "code",
   "execution_count": null,
   "metadata": {},
   "outputs": [],
   "source": [
    "pwd = input (\"Enter Password : \")\n",
    "\n",
    "if (pwd == \"greatl\"):\n",
    "    print ( \"Enter Password: greatl, Output: \")\n",
    "else:\n",
    "    print (\"Wrong Password, Try Again!\")"
   ]
  },
  {
   "cell_type": "markdown",
   "metadata": {},
   "source": [
    "###  Nested if Statement"
   ]
  },
  {
   "cell_type": "markdown",
   "metadata": {},
   "source": [
    "### 1. Based on the users age, divide them in to three groups and print the relevant message\n",
    "    Group 1 : Age < 18 , Message:  You are a Minor. Minors are not eligible to work.\n",
    "    Group 2 : 18 < Age < 60 , Message: You are eligible to work.\n",
    "    Group 3 : > 60, Message: As per govt. regulations, You have exceeded the age limit to work.\n"
   ]
  },
  {
   "cell_type": "code",
   "execution_count": null,
   "metadata": {},
   "outputs": [],
   "source": [
    "age = int ( input (\"Enter age : \"))\n",
    "\n",
    "if age < 18:\n",
    "    print(\"You are a Minor. Minors are not eligible to work.\")\n",
    "elif age > 18 and age < 60:\n",
    "    print(\"You are eligible to work\")\n",
    "elif age > 60 :\n",
    "    print ( \" As per govt. regulations, You have exceeded the age limit to work \")\n",
    "    "
   ]
  },
  {
   "cell_type": "markdown",
   "metadata": {},
   "source": [
    "# While Loop"
   ]
  },
  {
   "cell_type": "markdown",
   "metadata": {},
   "source": [
    "### 1. Take an integer as input from the user and print all the numbers from 0 to that number in reverse order. \n",
    "\n",
    "    Example : if the input is 3, the output should be\n",
    "    3\n",
    "    2\n",
    "    1"
   ]
  },
  {
   "cell_type": "code",
   "execution_count": null,
   "metadata": {},
   "outputs": [],
   "source": [
    "num = int ( input (\"Enter number : \"))\n",
    "while  num > 0:\n",
    "    print( num )\n",
    "    num = num -1\n",
    "    "
   ]
  },
  {
   "cell_type": "markdown",
   "metadata": {},
   "source": [
    "### 2.  Write a python code to find the squares of all the numbers between 1 to n. n is decided based on user input. \n",
    "\n",
    "    Example : If the input is 10, the output should be\n",
    "    1*1 ,2*2 ,3*3...... 10*10"
   ]
  },
  {
   "cell_type": "code",
   "execution_count": null,
   "metadata": {},
   "outputs": [],
   "source": [
    "num = int ( input (\"Enter number : \"))\n",
    "i=1\n",
    "while  i <=num:\n",
    "    print( i,\"*\", i)\n",
    "    i+=1"
   ]
  },
  {
   "cell_type": "markdown",
   "metadata": {},
   "source": [
    "# For Loop"
   ]
  },
  {
   "cell_type": "markdown",
   "metadata": {},
   "source": [
    "### 1. Write a python code to print the multiplication table of a given number.\n",
    "\n",
    "    Example : if the number is 3, the output should print the below :  \n",
    "    3 X 1 = 3\n",
    "    3 X 2 = 6\n",
    "    ...\n",
    "    3 X 10 =30"
   ]
  },
  {
   "cell_type": "code",
   "execution_count": null,
   "metadata": {},
   "outputs": [],
   "source": [
    "num = int ( input (\"Enter number : \"))\n",
    "\n",
    "for i in range (1,11):\n",
    "    print ( num ,\"x\" , i ,\"=\" , num*i)"
   ]
  },
  {
   "cell_type": "markdown",
   "metadata": {},
   "source": [
    "#### 2. Write a python code to print squares of all numbers present in a list = [1, 12, 24, 36, 11, 20,50]\n"
   ]
  },
  {
   "cell_type": "code",
   "execution_count": null,
   "metadata": {},
   "outputs": [],
   "source": [
    "list1= [1, 12, 24, 36, 11, 20,50]\n",
    "for l in list1:\n",
    "    print(l*l)"
   ]
  },
  {
   "cell_type": "markdown",
   "metadata": {},
   "source": [
    "# Additional Practice Programs"
   ]
  },
  {
   "cell_type": "markdown",
   "metadata": {},
   "source": [
    "#### 1. Write a python program that takes a list  ['red','black','blue']  and prints each element in the list using whle loop"
   ]
  },
  {
   "cell_type": "code",
   "execution_count": null,
   "metadata": {},
   "outputs": [],
   "source": [
    "list1 =  ['red','black','blue']\n",
    "i=0\n",
    "while i < len(list1):\n",
    "    print (list1[i])\n",
    "    i+=1"
   ]
  },
  {
   "cell_type": "markdown",
   "metadata": {},
   "source": [
    "#### 2. Write the same program as above using a For loop?"
   ]
  },
  {
   "cell_type": "code",
   "execution_count": null,
   "metadata": {},
   "outputs": [],
   "source": [
    "list1 =  ['red','black','blue']\n",
    "for l in list1:\n",
    "    print (l)"
   ]
  },
  {
   "cell_type": "markdown",
   "metadata": {},
   "source": [
    "#### 3. Python Program to find the LCM of two numbers?"
   ]
  },
  {
   "cell_type": "code",
   "execution_count": 6,
   "metadata": {},
   "outputs": [
    {
     "name": "stdout",
     "output_type": "stream",
     "text": [
      "LCM :  24.0 HCF: 12\n"
     ]
    }
   ],
   "source": [
    "num1= 24\n",
    "num2= 12\n",
    "\n",
    "i=1\n",
    "#To get GCD\n",
    "while( i<=num1 and i<=num2):\n",
    "    if (num1 %i == 0  and num2 % i ==0): # gcd Should divide both the numbers\n",
    "        gcd=i\n",
    "    i+=1\n",
    "\n",
    "lcm = (num1*num2)/gcd\n",
    "\n",
    "print (\"LCM : \", lcm, \"HCF:\",gcd)"
   ]
  },
  {
   "cell_type": "markdown",
   "metadata": {},
   "source": [
    "#### 4. The Python Program to print the pascal’s triangle for n number of rows given by the user."
   ]
  },
  {
   "cell_type": "code",
   "execution_count": 1,
   "metadata": {},
   "outputs": [
    {
     "name": "stdout",
     "output_type": "stream",
     "text": [
      "Enter the number of rows: 5\n",
      "     *\n",
      "    **\n",
      "   ***\n",
      "  ****\n",
      " *****\n"
     ]
    }
   ],
   "source": [
    "n= int ( input (\"Enter the number of rows: \"))\n",
    "\n",
    "i=1  # Variable for prining Stars\n",
    "s=n  # Variable forprinting Spaces\n",
    "\n",
    "while i <= n:\n",
    "    for space in range(s):  # A loop for printing Spaces\n",
    "        print(\" \",end =\"\")\n",
    "    for star in range (i):  # A loop for printing stars\n",
    "        print (\"*\",end=\"\")\n",
    "    print()  \n",
    "    s-=1\n",
    "    i+=1"
   ]
  },
  {
   "cell_type": "markdown",
   "metadata": {},
   "source": [
    "#### 5. Python Program to find the sum of series: 1 + 1/2 + 1/3 + ….. + 1/N."
   ]
  },
  {
   "cell_type": "code",
   "execution_count": null,
   "metadata": {},
   "outputs": [],
   "source": [
    "num = int( input (\"Enter Number : \"))\n",
    "i=1\n",
    "sum=0\n",
    "while ( i <= num ) :\n",
    "    sum +=  (1/i)\n",
    "    i += 1\n",
    "\n",
    "print(\"Sum : \", sum)"
   ]
  },
  {
   "cell_type": "markdown",
   "metadata": {},
   "source": [
    "# List Comprehensions"
   ]
  },
  {
   "cell_type": "markdown",
   "metadata": {},
   "source": [
    "#### 1. The Python program for squares range (1-10) \n",
    "\n",
    "* output squares = [0, 1, 4, 9, 16, 25, 36, 49, 64, 81, 100]"
   ]
  },
  {
   "cell_type": "markdown",
   "metadata": {},
   "source": [
    "##### Create a code for the same question as above using a List comprehension"
   ]
  },
  {
   "cell_type": "code",
   "execution_count": 3,
   "metadata": {},
   "outputs": [
    {
     "name": "stdout",
     "output_type": "stream",
     "text": [
      "[1, 4, 9, 16, 25, 36, 49, 64, 81, 100]\n"
     ]
    }
   ],
   "source": [
    "lc = [x**2 for x in range(1,11)]\n",
    "print(lc)"
   ]
  },
  {
   "cell_type": "markdown",
   "metadata": {},
   "source": [
    "#### 2.Convert a list of integers to a list of strings. Use List comprehension?"
   ]
  },
  {
   "cell_type": "code",
   "execution_count": 4,
   "metadata": {},
   "outputs": [
    {
     "name": "stdout",
     "output_type": "stream",
     "text": [
      "['1', '4', '9', '16', '25', '36', '49', '64', '81', '100']\n"
     ]
    }
   ],
   "source": [
    "ls = [str(x) for x in lc]\n",
    "print (ls)"
   ]
  },
  {
   "cell_type": "markdown",
   "metadata": {},
   "source": [
    "#### 3. tuples from two lists with List Comprehensions?"
   ]
  },
  {
   "cell_type": "code",
   "execution_count": null,
   "metadata": {},
   "outputs": [],
   "source": []
  },
  {
   "cell_type": "markdown",
   "metadata": {},
   "source": [
    "#### 4. Get Index of Each Element of List with enumerate and List Comprehensions?"
   ]
  },
  {
   "cell_type": "code",
   "execution_count": 9,
   "metadata": {},
   "outputs": [
    {
     "name": "stdout",
     "output_type": "stream",
     "text": [
      "[(0, '1'), (1, '4'), (2, '9'), (3, '16'), (4, '25'), (5, '36'), (6, '49'), (7, '64'), (8, '81'), (9, '100')]\n"
     ]
    }
   ],
   "source": [
    "li = list (enumerate (ls) )\n",
    "print( li )"
   ]
  },
  {
   "cell_type": "code",
   "execution_count": null,
   "metadata": {},
   "outputs": [],
   "source": []
  }
 ],
 "metadata": {
  "kernelspec": {
   "display_name": "Python 3",
   "language": "python",
   "name": "python3"
  },
  "language_info": {
   "codemirror_mode": {
    "name": "ipython",
    "version": 3
   },
   "file_extension": ".py",
   "mimetype": "text/x-python",
   "name": "python",
   "nbconvert_exporter": "python",
   "pygments_lexer": "ipython3",
   "version": "3.7.3"
  }
 },
 "nbformat": 4,
 "nbformat_minor": 2
}
