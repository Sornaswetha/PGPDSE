{
 "cells": [
  {
   "cell_type": "markdown",
   "metadata": {},
   "source": [
    "#### String Handling"
   ]
  },
  {
   "cell_type": "code",
   "execution_count": null,
   "metadata": {},
   "outputs": [],
   "source": [
    "var=\"Afh476263@#\" #sequence of characters arranged in an indexed order"
   ]
  },
  {
   "cell_type": "markdown",
   "metadata": {},
   "source": [
    "##### Length"
   ]
  },
  {
   "cell_type": "code",
   "execution_count": 6,
   "metadata": {},
   "outputs": [
    {
     "data": {
      "text/plain": [
       "11"
      ]
     },
     "execution_count": 6,
     "metadata": {},
     "output_type": "execute_result"
    }
   ],
   "source": [
    "var=\"Afh476263@#\"\n",
    "len(var) #No. of elements in a sequennce"
   ]
  },
  {
   "cell_type": "markdown",
   "metadata": {},
   "source": [
    "##### Forward Indexing"
   ]
  },
  {
   "cell_type": "code",
   "execution_count": 5,
   "metadata": {},
   "outputs": [
    {
     "data": {
      "text/plain": [
       "'6'"
      ]
     },
     "execution_count": 5,
     "metadata": {},
     "output_type": "execute_result"
    }
   ],
   "source": [
    "var=\"Afh47t263@#\"\n",
    "var[7]"
   ]
  },
  {
   "cell_type": "markdown",
   "metadata": {},
   "source": [
    "Whenever we are indexing we will get a string of length 1"
   ]
  },
  {
   "cell_type": "markdown",
   "metadata": {},
   "source": [
    "##### Reverse Indexing"
   ]
  },
  {
   "cell_type": "code",
   "execution_count": 8,
   "metadata": {
    "scrolled": true
   },
   "outputs": [
    {
     "name": "stdout",
     "output_type": "stream",
     "text": [
      "#\n"
     ]
    }
   ],
   "source": [
    "var=\"Afh47t263@#\"\n",
    "print(var[-1]) # last elemnet"
   ]
  },
  {
   "cell_type": "markdown",
   "metadata": {},
   "source": [
    "##### String Concatenation"
   ]
  },
  {
   "cell_type": "code",
   "execution_count": 51,
   "metadata": {},
   "outputs": [
    {
     "name": "stdout",
     "output_type": "stream",
     "text": [
      "h47\n"
     ]
    }
   ],
   "source": [
    "var=\"Afh47t263@#\"\n",
    "x=var[2]+var[3]+var[4]\n",
    "print(x)"
   ]
  },
  {
   "cell_type": "code",
   "execution_count": 53,
   "metadata": {},
   "outputs": [
    {
     "name": "stdout",
     "output_type": "stream",
     "text": [
      "Sum of 10 and 5 is 15\n"
     ]
    }
   ],
   "source": [
    "a=10\n",
    "b=5\n",
    "c=a+b\n",
    "var = \"Sum of \" + str(a) + \" and \" + str(b) + \" is \" + str(c)\n",
    "print(var)"
   ]
  },
  {
   "cell_type": "markdown",
   "metadata": {},
   "source": [
    "##### Format Method\n",
    "\n",
    "format is a method of Sting Class"
   ]
  },
  {
   "cell_type": "code",
   "execution_count": 55,
   "metadata": {},
   "outputs": [
    {
     "name": "stdout",
     "output_type": "stream",
     "text": [
      "Sum of 10  and 5 is 15\n"
     ]
    }
   ],
   "source": [
    "a=10\n",
    "b=5\n",
    "c=a+b\n",
    "var = \"Sum of {}  and {} is {}\". format (a,b,c)\n",
    "print(var)"
   ]
  },
  {
   "cell_type": "markdown",
   "metadata": {},
   "source": [
    "##### Slicing"
   ]
  },
  {
   "cell_type": "code",
   "execution_count": 24,
   "metadata": {},
   "outputs": [
    {
     "name": "stdout",
     "output_type": "stream",
     "text": [
      "h47\n",
      "3@#\n",
      "Afh4\n",
      "h47t263@#\n",
      "Afh47t2\n",
      "h47t26\n"
     ]
    }
   ],
   "source": [
    "var=\"Afh47t263@#\"\n",
    "\n",
    "#Sling Opertor - \" : \"\n",
    "#[ S : E+1]  S - Starting index  E - Ending Index\n",
    "\n",
    "print(var[2:5])\n",
    "print( var[ -3 : ]) # Last 3  \n",
    "print(var[ : 4 ]) #first 4\n",
    "print(var [ 2 : ]) # from 3rd character\n",
    "print(var[ : -4 ]) # from 1st till from the lst 5th\n",
    "print(var[ 2: -3 ])"
   ]
  },
  {
   "cell_type": "markdown",
   "metadata": {},
   "source": [
    "<b> WAP to tke str as an inout and print the str by swapping the first and last character </b>"
   ]
  },
  {
   "cell_type": "code",
   "execution_count": 35,
   "metadata": {},
   "outputs": [
    {
     "name": "stdout",
     "output_type": "stream",
     "text": [
      "Enter a String: howrtt7934$^*hu\n",
      "howrtt7934$^*hu\n",
      "uowrtt7934$^*hh\n"
     ]
    }
   ],
   "source": [
    "var=input(\"Enter a String: \")\n",
    "res= var[-1]+var[1:-1]+var[0]  # R.I + (F,I,R.I) + F.I\n",
    "print(var)\n",
    "print(res)\n"
   ]
  },
  {
   "cell_type": "markdown",
   "metadata": {},
   "source": [
    "##### Step Count\n",
    "\n",
    "https://docs.python.org/release/2.3.5/whatsnew/section-slices.html\n"
   ]
  },
  {
   "cell_type": "code",
   "execution_count": 82,
   "metadata": {},
   "outputs": [
    {
     "name": "stdout",
     "output_type": "stream",
     "text": [
      "39\n",
      "Afh47t263@#anld\n",
      "Ah723#nd\n",
      "Afh47t263@#anld\n",
      "Afh47t263@#anld\n"
     ]
    }
   ],
   "source": [
    "# [ S: E+1: Stepcount]\n",
    "\n",
    "var=\"Afh47t263@#anldnlanvlanleoqohoeh2y98219\"\n",
    "print(len (var))\n",
    "print( var[ 0 : 15] )\n",
    "print( var[ 0 : 15 : 2])  # Skips and prints\n",
    "print( var[ 0 : 15 : 1])\n",
    "print( var[ 0 : 15 : ])\n",
    "           "
   ]
  },
  {
   "cell_type": "markdown",
   "metadata": {},
   "source": [
    "##### String Reverse "
   ]
  },
  {
   "cell_type": "code",
   "execution_count": 50,
   "metadata": {},
   "outputs": [
    {
     "name": "stdout",
     "output_type": "stream",
     "text": [
      "6\n",
      "Swetha\n",
      "ahtewS\n"
     ]
    }
   ],
   "source": [
    "var=\"Swetha\"\n",
    "print(len (var))\n",
    "print( var[ : ] )\n",
    "print( var[ :  : -1])"
   ]
  },
  {
   "cell_type": "markdown",
   "metadata": {},
   "source": [
    "##### Print"
   ]
  },
  {
   "cell_type": "code",
   "execution_count": 60,
   "metadata": {},
   "outputs": [
    {
     "name": "stdout",
     "output_type": "stream",
     "text": [
      "Type Cast Float into Int while printing:\n",
      "First values : 13   Second value : 784 \n",
      "\n",
      "Printing variable as such:\n",
      "First values : 13.325425   Second value : 784.250328 \n",
      "\n",
      "Restricting the decimal values:\n",
      "First values : 13.325   Second value : 784.25 \n",
      "\n"
     ]
    }
   ],
   "source": [
    "f=13.32542543\n",
    "s=784.25032750\n",
    "\n",
    "print (\"Type Cast Float into Int while printing:\")\n",
    "print (\"First values : %d   Second value : %d \\n\" % (f,s))\n",
    "\n",
    "print (\"Printing variable as such:\")\n",
    "print (\"First values : %f   Second value : %f \\n\" % (f,s))\n",
    "\n",
    "print (\"Restricting the decimal values:\")\n",
    "print (\"First values : %0.3f   Second value : %0.2f \\n\" % (f,s))"
   ]
  },
  {
   "cell_type": "markdown",
   "metadata": {},
   "source": [
    "### Sting Methods\n",
    "- replace\n",
    "- upper\n",
    "- lower\n",
    "\n"
   ]
  },
  {
   "cell_type": "markdown",
   "metadata": {},
   "source": [
    "<b><i>Replace </i> </b>\n",
    "str.replace( , , )\n",
    "Strings are immutable.  They cannot be modified"
   ]
  },
  {
   "cell_type": "code",
   "execution_count": 61,
   "metadata": {},
   "outputs": [
    {
     "data": {
      "text/plain": [
       "'Ch**nnai'"
      ]
     },
     "execution_count": 61,
     "metadata": {},
     "output_type": "execute_result"
    }
   ],
   "source": [
    "var= \"Chennai\"\n",
    "var.replace ( \"e\", \"**\")\n",
    "\n"
   ]
  },
  {
   "cell_type": "code",
   "execution_count": 83,
   "metadata": {},
   "outputs": [
    {
     "name": "stdout",
     "output_type": "stream",
     "text": [
      "i am in python clASS\n",
      "I Am In Python Class\n",
      "i am in python class\n",
      "I AM IN PYTHON CLASS\n",
      "I am in python class\n",
      "I AM IN PYTHON CLass\n"
     ]
    }
   ],
   "source": [
    "\n",
    "var= \"i am in python clASS\"\n",
    "\n",
    "print(var)\n",
    "\n",
    "#First Character to Caps\n",
    "print(var.title())\n",
    "\n",
    "#everything to lower\n",
    "print(var.lower())\n",
    "\n",
    "#everything to upper\n",
    "print(var.upper())\n",
    "\n",
    "#only first character of first word\n",
    "print(var.capitalize())\n",
    "\n",
    "print(var.swapcase())"
   ]
  },
  {
   "cell_type": "markdown",
   "metadata": {},
   "source": [
    "### Boolen Methods\n",
    "- islower()\n",
    "- isupper()\n",
    "- isdigit()\n",
    "- istitle()\n",
    "- isspace()\n",
    "- isalpha()"
   ]
  },
  {
   "cell_type": "code",
   "execution_count": 68,
   "metadata": {},
   "outputs": [
    {
     "name": "stdout",
     "output_type": "stream",
     "text": [
      "False\n",
      "False\n"
     ]
    }
   ],
   "source": [
    "var= \"i am in python clASS\"\n",
    "print(var.istitle())\n",
    "print(var.isalpha())"
   ]
  },
  {
   "cell_type": "markdown",
   "metadata": {},
   "source": [
    "##### More Methods"
   ]
  },
  {
   "cell_type": "code",
   "execution_count": 79,
   "metadata": {},
   "outputs": [
    {
     "name": "stdout",
     "output_type": "stream",
     "text": [
      "0\n",
      "10\n",
      "i am in python class \n",
      " i am in python class\n",
      "i am in python class\n",
      "/n\n",
      "H$* i$*  $* ,$* h$* e$* l$* l$* o\n",
      "<reversed object at 0x000002614F9BF7F0>\n",
      "olleh, iH\n"
     ]
    }
   ],
   "source": [
    "var= \" i am in python class \"\n",
    "print(var.count(\"e\"))\n",
    "print(var.index(\"y\"))\n",
    "print(var.lstrip())\n",
    "print(var.rstrip())\n",
    "print(var.strip())\n"
   ]
  },
  {
   "cell_type": "markdown",
   "metadata": {},
   "source": [
    "##### JOIN"
   ]
  },
  {
   "cell_type": "code",
   "execution_count": 92,
   "metadata": {},
   "outputs": [
    {
     "name": "stdout",
     "output_type": "stream",
     "text": [
      "/n\n",
      "H$* i$*  $* ,$* h$* e$* l$* l$* o\n",
      "<reversed object at 0x000002614F950208>\n",
      "olleh, iH\n"
     ]
    }
   ],
   "source": [
    "\n",
    "#Join will take a sequence. Only String sequence\n",
    "#Syntax : \n",
    "#      \"delimter\". join(Sequence)\n",
    "var=\"Hi ,hello\"\n",
    "var2=\"$* \". join(var)\n",
    "\n",
    "print (\"/n\")\n",
    "print(var2)\n",
    "\n",
    "\n",
    "#reversed and join\n",
    "print( reversed(var))\n",
    "print(\"\".join(reversed(var)))"
   ]
  },
  {
   "cell_type": "markdown",
   "metadata": {},
   "source": [
    "##### Split Method\n",
    "\n",
    "Splits them as a list\n",
    "Defalut delimeter is Space"
   ]
  },
  {
   "cell_type": "code",
   "execution_count": 96,
   "metadata": {},
   "outputs": [
    {
     "name": "stdout",
     "output_type": "stream",
     "text": [
      "['aad:4', '6:adfa:as', 'a:wae:ijei']\n",
      "['aad', '4 6', 'adfa', 'as a', 'wae', 'ijei']\n",
      "['', '', 'd:4 6:', 'df', ':', 's ', ':w', 'e:ijei']\n",
      "\n",
      " List\n",
      "<class 'list'>\n",
      "['ab', 'bd', 'hi', 'xy']\n",
      "4\n",
      "Join & List(string)\n"
     ]
    },
    {
     "data": {
      "text/plain": [
       "'ab bd hi xy'"
      ]
     },
     "execution_count": 96,
     "metadata": {},
     "output_type": "execute_result"
    }
   ],
   "source": [
    "var= \"aad:4 6:adfa:as a:wae:ijei\"\n",
    "print(var.split())\n",
    "print(var.split(\":\"))\n",
    "print(var.split(\"a\"))\n",
    "\n",
    "var1=\"ab:bd:hi:xy\"\n",
    "print(\"\\n List\")\n",
    "l=var1.split(\":\")\n",
    "print(type(l))\n",
    "print(l)\n",
    "print(len(l))\n",
    "\n",
    "print(\"Join & List(string)\")\n",
    "\" \".join(l)\n"
   ]
  },
  {
   "cell_type": "markdown",
   "metadata": {},
   "source": [
    "### WAP to : \n",
    "Input:  Chennai city has a beautiful beach\n",
    "Outpt:  beach beautiful a has city Chennai"
   ]
  },
  {
   "cell_type": "code",
   "execution_count": 110,
   "metadata": {},
   "outputs": [
    {
     "name": "stdout",
     "output_type": "stream",
     "text": [
      "beach beautiful a has city Chennai\n",
      "beach beautiful a has city Chennai\n"
     ]
    }
   ],
   "source": [
    "var=\"Chennai city has a beautiful beach\"\n",
    "print(\" \".join( var.split() [ : : -1 ] ) )\n",
    "print( \" \". join (reversed(var.split() ) ) )"
   ]
  },
  {
   "cell_type": "code",
   "execution_count": null,
   "metadata": {},
   "outputs": [],
   "source": []
  }
 ],
 "metadata": {
  "kernelspec": {
   "display_name": "Python 3",
   "language": "python",
   "name": "python3"
  },
  "language_info": {
   "codemirror_mode": {
    "name": "ipython",
    "version": 3
   },
   "file_extension": ".py",
   "mimetype": "text/x-python",
   "name": "python",
   "nbconvert_exporter": "python",
   "pygments_lexer": "ipython3",
   "version": "3.7.3"
  }
 },
 "nbformat": 4,
 "nbformat_minor": 2
}
