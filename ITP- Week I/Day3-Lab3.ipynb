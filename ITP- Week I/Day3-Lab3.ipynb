{
 "cells": [
  {
   "cell_type": "markdown",
   "metadata": {},
   "source": [
    "# Dictionary\n",
    "- stores mixed data in the form of key:value pairs\n",
    "- Key and value are seperated using :\n",
    "- key:values are enclosed in {} and seperated by \" , \"\n",
    "- key are unique and immutable"
   ]
  },
  {
   "cell_type": "markdown",
   "metadata": {},
   "source": [
    "##### Empty Dictionary"
   ]
  },
  {
   "cell_type": "code",
   "execution_count": 1,
   "metadata": {},
   "outputs": [
    {
     "name": "stdout",
     "output_type": "stream",
     "text": [
      "{} <class 'dict'>\n"
     ]
    }
   ],
   "source": [
    "d= {}\n",
    "print ( d, type(d))"
   ]
  },
  {
   "cell_type": "code",
   "execution_count": 5,
   "metadata": {},
   "outputs": [
    {
     "name": "stdout",
     "output_type": "stream",
     "text": [
      "3\n"
     ]
    }
   ],
   "source": [
    "d={ 101 :\"Angelin\" , 102: \"Nive\" , 104 : \"Kevin\"}\n",
    "print (len(d))  # Length of dictionary"
   ]
  },
  {
   "cell_type": "markdown",
   "metadata": {},
   "source": [
    "dict[key] = values"
   ]
  },
  {
   "cell_type": "code",
   "execution_count": 13,
   "metadata": {},
   "outputs": [
    {
     "name": "stdout",
     "output_type": "stream",
     "text": [
      "102 Nive\n"
     ]
    }
   ],
   "source": [
    "d={ 101 :\"Angelin\" , 102: \"Nive\" , 104 : \"Kevin\"}\n",
    "print ( 102 , d[102] )"
   ]
  },
  {
   "cell_type": "markdown",
   "metadata": {},
   "source": [
    "Method to identify keys:\n",
    "    - dict.keys()\n",
    " All Values:\n",
    "     - dict.values()"
   ]
  },
  {
   "cell_type": "code",
   "execution_count": 20,
   "metadata": {},
   "outputs": [
    {
     "name": "stdout",
     "output_type": "stream",
     "text": [
      "dict_keys([101, 102, 104]) <class 'dict_keys'>\n",
      "[101, 102, 104]\n",
      "(101, 102, 104)\n"
     ]
    }
   ],
   "source": [
    "keys = d.keys()\n",
    "print (keys, type(keys))\n",
    "list1=list(keys)  # To List\n",
    "print(list1)\n",
    "tup1 = tuple(keys)\n",
    "print(tup1) # To Tuple"
   ]
  },
  {
   "cell_type": "code",
   "execution_count": 25,
   "metadata": {},
   "outputs": [
    {
     "name": "stdout",
     "output_type": "stream",
     "text": [
      "dict_values(['Angelin', 'Nive', 'Kevin'])\n",
      "dict_items([(101, 'Angelin'), (102, 'Nive'), (104, 'Kevin')]) <class 'dict_items'>\n",
      "{101: 'Angelin', 102: 'Nive', 104: 'Kevin'}\n"
     ]
    }
   ],
   "source": [
    "print(d.values())\n",
    "print(d.items(), type (d.items())) # Returns a sequence of Tubles\n",
    "print(d)"
   ]
  },
  {
   "cell_type": "markdown",
   "metadata": {},
   "source": [
    "#### dict.fromkeys()\n",
    "- Called on class name\n",
    "- It can create a new dict , from the sequence we are passsing\n",
    "- It will take the keys from the sequence e are passing and create a new dictionary\n",
    "- Default value for ll keys in None\n",
    "- We can change the default Values"
   ]
  },
  {
   "cell_type": "code",
   "execution_count": 30,
   "metadata": {},
   "outputs": [
    {
     "name": "stdout",
     "output_type": "stream",
     "text": [
      "{101: None, 102: None, 104: None}\n",
      "{1: None, 2: None, 3: None}\n",
      "{'a': 10, 'b': 10, 'c': 10}\n"
     ]
    }
   ],
   "source": [
    "d1=dict.fromkeys(d)\n",
    "print(d1)\n",
    "\n",
    "d2=dict.fromkeys((1,2,3))\n",
    "print(d2)\n",
    "\n",
    "d3=dict.fromkeys((\"a\",\"b\",\"c\"),10)\n",
    "print(d3)"
   ]
  },
  {
   "cell_type": "markdown",
   "metadata": {},
   "source": [
    "<b> WAP to create a dictionary consisting of  country as key and its currency as value.\n",
    "Take a country name as input from user and return its currency </b>"
   ]
  },
  {
   "cell_type": "code",
   "execution_count": 32,
   "metadata": {},
   "outputs": [
    {
     "name": "stdout",
     "output_type": "stream",
     "text": [
      "Enter Country: India\n",
      "Currency is  Rupee\n"
     ]
    }
   ],
   "source": [
    "d = { \"India\": \"Rupee\" , \"USA\": \"Dollars\" , \"UK\": \"GBP\"}\n",
    "country=input(\"Enter Country: \")\n",
    "print(\"Currency is \", d[country])"
   ]
  },
  {
   "cell_type": "markdown",
   "metadata": {},
   "source": [
    "##### get() method\n",
    "- Two parameters\n",
    "- get (key) , if key does not exist returns \"None\"\n",
    "- get (key, message) , intead of None t will return the message\n"
   ]
  },
  {
   "cell_type": "code",
   "execution_count": 36,
   "metadata": {},
   "outputs": [
    {
     "name": "stdout",
     "output_type": "stream",
     "text": [
      "Enter Country: k\n",
      "None\n",
      "Does not Exists in Dictionary\n"
     ]
    }
   ],
   "source": [
    "d = { \"India\": \"Rupee\" , \"USA\": \"Dollars\" , \"UK\": \"GBP\"}\n",
    "country=input(\"Enter Country: \")\n",
    "print( d.get(country))\n",
    "\n",
    "print( d.get(country,\"Does not Exists in Dictionary\"))"
   ]
  },
  {
   "cell_type": "markdown",
   "metadata": {},
   "source": [
    "- If a Key exits, it ill change its value\n",
    "- If it does not exsits it will create a new key:value pair"
   ]
  },
  {
   "cell_type": "code",
   "execution_count": 40,
   "metadata": {},
   "outputs": [
    {
     "name": "stdout",
     "output_type": "stream",
     "text": [
      "{101: 'Swetha', 102: 'Nive', 104: 'Kevin', 103: 'Ammu'}\n",
      "{101: 'Ammu', 102: 'Nive', 104: 'Kevin', 103: 'Ammu'}\n"
     ]
    }
   ],
   "source": [
    "d={ 101 :\"Angelin\" , 102: \"Nive\" , 104 : \"Kevin\"}\n",
    "d[103]=\"Ammu\"\n",
    "d[101]=\"Swetha\"\n",
    "print (d)\n",
    "\n",
    "d[101]=d[103]\n",
    "print(d)"
   ]
  },
  {
   "cell_type": "markdown",
   "metadata": {},
   "source": [
    "#### update(d)\n",
    "\n",
    "- When we update a dictionary ith another dictionary, if the key exists then value gets updated .\n",
    "- if it is new key then the key:value pair gets inserted"
   ]
  },
  {
   "cell_type": "code",
   "execution_count": 42,
   "metadata": {},
   "outputs": [
    {
     "data": {
      "text/plain": [
       "{'India': 'Rupee',\n",
       " 'USA': 'Dollars',\n",
       " 'UK': 'GBP',\n",
       " 'France': 'Euro',\n",
       " 'Italy': 'Euro',\n",
       " 'Japan': 'Yen',\n",
       " 'Thailand': 'Bath'}"
      ]
     },
     "execution_count": 42,
     "metadata": {},
     "output_type": "execute_result"
    }
   ],
   "source": [
    "d1={ \"India\": \"Rupee\" , \"USA\": \"Dollars\" , \"UK\": \"GBP\", \"France\": \"Euro\", \"Italy\" : \"Euro\"}\n",
    "d2={\"Japan\": \"Yen\", \"Thailand\": \"Bath\"}\n",
    "\n",
    "d1.update(d2)\n",
    "d1"
   ]
  },
  {
   "cell_type": "markdown",
   "metadata": {},
   "source": [
    "## Dictionary within Dictionary"
   ]
  },
  {
   "cell_type": "markdown",
   "metadata": {},
   "source": [
    "Dictinary with R.no as keys and name,moblie number as value in the form of sub dictionary"
   ]
  },
  {
   "cell_type": "code",
   "execution_count": 48,
   "metadata": {},
   "outputs": [
    {
     "name": "stdout",
     "output_type": "stream",
     "text": [
      "dict_keys([101, 102])\n",
      "dict_values([{9965606599: 'Swetha'}, {9442812818: 'Nive'}])\n",
      "Swetha\n",
      "Enter Roll Number: 101\n",
      "dict_values(['Swetha'])\n"
     ]
    }
   ],
   "source": [
    "d = { 101: {9965606599:\"Swetha\"},  102 : {9442812818 : \"Nive\"}}\n",
    "print (d.keys())\n",
    "print (d.values())\n",
    "print( d[101][9965606599])\n",
    "\n",
    "r_no=int(input(\"Enter Roll Number: \"))\n",
    "temp=d[r_no]\n",
    "print(temp.values())\n"
   ]
  },
  {
   "cell_type": "code",
   "execution_count": 52,
   "metadata": {},
   "outputs": [
    {
     "data": {
      "text/plain": [
       "{101: {'name': 'Swetha', 'mob': 9965606599},\n",
       " 102: {'name': 'Nive', 'mob': 9442812818}}"
      ]
     },
     "execution_count": 52,
     "metadata": {},
     "output_type": "execute_result"
    }
   ],
   "source": [
    "d = { \n",
    "        101 : { \"name\" : \"Swetha\",\n",
    "                      \"mob\" : 9965606599} , \n",
    "         102 : { \"name\" : \"Nive\" , \n",
    "                     \"mob\" :  9442812818  }\n",
    "        }\n",
    "d"
   ]
  },
  {
   "cell_type": "code",
   "execution_count": 55,
   "metadata": {},
   "outputs": [
    {
     "name": "stdout",
     "output_type": "stream",
     "text": [
      "Enter Roll Number: 102\n",
      "{'name': 'Nive', 'mob': 9442812818}\n"
     ]
    }
   ],
   "source": [
    "r_no=int(input(\"Enter Roll Number: \"))\n",
    "print ( d[r_no])\n",
    "#print(d[r_no][\"name\"]) "
   ]
  },
  {
   "cell_type": "markdown",
   "metadata": {},
   "source": [
    "# Decision making"
   ]
  },
  {
   "cell_type": "markdown",
   "metadata": {},
   "source": [
    "if (cond):\n",
    "    #code\n",
    "else:\n",
    "    #code"
   ]
  },
  {
   "cell_type": "code",
   "execution_count": 59,
   "metadata": {},
   "outputs": [
    {
     "name": "stdout",
     "output_type": "stream",
     "text": [
      "Enter Roll Number: 5\n",
      "Invalid Roll no\n",
      "Invalid Roll no\n"
     ]
    }
   ],
   "source": [
    "d = { \n",
    "        101 : { \"name\" : \"Swetha\",\n",
    "                      \"mob\" : 9965606599} , \n",
    "         102 : { \"name\" : \"Nive\" , \n",
    "                     \"mob\" :  9442812818  }\n",
    "        }\n",
    "r_no=int(input(\"Enter Roll Number: \"))\n",
    "\n",
    "if (r_no in d.keys()):\n",
    "    print ( d[r_no])\n",
    "    print(d[r_no][\"name\"]) \n",
    "else:\n",
    "    print(\"Invalid Roll no\")\n",
    "    \n",
    "if r_no in d:   # It checks in Keys. Not applicable for Values\n",
    "    print ( d[r_no])\n",
    "    print(d[r_no][\"name\"]) \n",
    "else:\n",
    "    print(\"Invalid Roll no\")"
   ]
  },
  {
   "cell_type": "markdown",
   "metadata": {},
   "source": [
    "<b> WAP tp check if num is odd or even </b>"
   ]
  },
  {
   "cell_type": "code",
   "execution_count": 63,
   "metadata": {},
   "outputs": [
    {
     "name": "stdout",
     "output_type": "stream",
     "text": [
      "Enter Number: 25\n",
      "Odd\n",
      "Odd\n"
     ]
    }
   ],
   "source": [
    "num=int(input(\"Enter Number: \"))\n",
    "if(num%2==0):\n",
    "    print(\"Even\")\n",
    "else:\n",
    "    print(\"Odd\")\n",
    "    \n",
    "if  num % 2  :\n",
    "    print(\"Odd\")\n",
    "else:\n",
    "    print(\"Even\")"
   ]
  },
  {
   "cell_type": "markdown",
   "metadata": {},
   "source": [
    "<b> WAP to print largest of 3 numbers </b>"
   ]
  },
  {
   "cell_type": "code",
   "execution_count": 66,
   "metadata": {},
   "outputs": [
    {
     "name": "stdout",
     "output_type": "stream",
     "text": [
      "Enter Number: 4\n",
      "Enter Number: 93\n",
      "Enter Number: 0\n",
      "93\n"
     ]
    }
   ],
   "source": [
    "a=int(input(\"Enter Number: \"))\n",
    "b=int(input(\"Enter Number: \"))\n",
    "c=int(input(\"Enter Number: \"))\n",
    "if ( a > b and a > c ):\n",
    "    print(a)\n",
    "elif b>c:\n",
    "    print(b)\n",
    "else:\n",
    "    print(c)"
   ]
  },
  {
   "cell_type": "markdown",
   "metadata": {},
   "source": [
    "### Modules\n",
    "- Random ,Math Modules .\n",
    "- Modules hold functions\n",
    "- 3 ways to import them\n",
    "         - import math\n",
    "             math.sqrt(64)\n",
    "         - import math as m\n",
    "             m.sqrt(64)\n",
    "         - from math import *  # Not advisable\n",
    "             sqrt()"
   ]
  },
  {
   "cell_type": "markdown",
   "metadata": {},
   "source": [
    "##### Random Module"
   ]
  },
  {
   "cell_type": "code",
   "execution_count": 87,
   "metadata": {},
   "outputs": [
    {
     "name": "stdout",
     "output_type": "stream",
     "text": [
      "1\n",
      "0.9999539685706433\n",
      "tails\n"
     ]
    }
   ],
   "source": [
    "import random as r\n",
    "\n",
    "print ( r.randint(1,5) ) # Any number between 1 and 5\n",
    "\n",
    "print ( r.random() ) # Any Float number between 0 and 1\n",
    "\n",
    "print ( r.choice( [\"head\",'tails','flower','hi'] ) )   #Choice takes a List "
   ]
  },
  {
   "cell_type": "markdown",
   "metadata": {},
   "source": [
    "<b> Random outcome of heads ot tails, requet user the outcome . Print Won or Lost by comparing the outcome and guess </b>"
   ]
  },
  {
   "cell_type": "code",
   "execution_count": 90,
   "metadata": {},
   "outputs": [
    {
     "name": "stdout",
     "output_type": "stream",
     "text": [
      "Enter heads or tails :ka\n",
      "Invalid Input\n"
     ]
    }
   ],
   "source": [
    "import random\n",
    "list1=[\"heads\",'tails']\n",
    "str1= random.choice(list1 )\n",
    "str2 = input (\"Enter heads or tails :\")\n",
    "\n",
    "#str2=str2.lower()\n",
    "#if str2=='h':\n",
    "#    str2=\"heads\"\n",
    "#elif str2=='t':\n",
    " #   str2='tails'\n",
    "if str2 in list1:\n",
    "    if str1 ==str2:\n",
    "        print(\"Won\")\n",
    "    else:\n",
    "        print(\"Lost\")\n",
    "else:\n",
    "    print(\"Invalid Input\")\n"
   ]
  },
  {
   "cell_type": "markdown",
   "metadata": {},
   "source": [
    "#### 7up and 7down\n",
    "- Player staerts with amount 1000\n",
    "- A random number btw 1-14 is generated\n",
    "- n=7 (hits jackpot of 1,00,000)\n",
    "- n<7 (Losses n*100)\n",
    "- n>7 (Earns n*100)\n",
    "- Print the amunt at the end of the game"
   ]
  },
  {
   "cell_type": "code",
   "execution_count": 107,
   "metadata": {},
   "outputs": [
    {
     "name": "stdout",
     "output_type": "stream",
     "text": [
      "100000 7\n"
     ]
    }
   ],
   "source": [
    "import random as r\n",
    "amt=1000\n",
    "n=r.randint(1,14)\n",
    "if (n==7):\n",
    "    amt=100000\n",
    "elif (n<7):\n",
    "    amt=amt-(n*100)\n",
    "else:\n",
    "    amt=amt+(n*100)\n",
    "\n",
    "print(amt,n)"
   ]
  },
  {
   "cell_type": "markdown",
   "metadata": {},
   "source": [
    "Create a dict of country and currency\n",
    "Accept country  and display currency\n",
    "if not available then ask user if a ne entry needs to be addeds\n",
    "If yes accept and add it .\n",
    "If no terminate it"
   ]
  },
  {
   "cell_type": "code",
   "execution_count": 128,
   "metadata": {},
   "outputs": [
    {
     "name": "stdout",
     "output_type": "stream",
     "text": [
      "Enter country : japan\n",
      "Country does not exists in Dictionary. Do yo want to add it ? y/ n y\n",
      "Enter the currency yen\n",
      " Currency of  Japan is Yen\n"
     ]
    }
   ],
   "source": [
    "d={ \"India\": \"Rupee\" , \"USA\": \"Dollars\" , \"UK\": \"GBP\", \"France\": \"Euro\", \"Italy\" : \"Euro\", \"Thailand\": \"Bath\",}\n",
    "\n",
    "c=input(\"Enter country : \")\n",
    "country=c.title()\n",
    "if country in d:\n",
    "    print(\"Currency is : \" , d[country])\n",
    "else:\n",
    "    ch = input(\"Country does not exists in Dictionary. Do yo want to add it ? y/ n \")\n",
    "    if ch == \"y\":\n",
    "        new_currency = input (\"Enter the currency \" )\n",
    "        d[country] = new_currency.title()\n",
    "        print(\"Currency of \", country , \"is\", d[country])"
   ]
  },
  {
   "cell_type": "markdown",
   "metadata": {},
   "source": [
    "## Iteration"
   ]
  },
  {
   "cell_type": "markdown",
   "metadata": {},
   "source": [
    "Continue the 7up 7down game till user doesen't quit"
   ]
  },
  {
   "cell_type": "code",
   "execution_count": 110,
   "metadata": {},
   "outputs": [
    {
     "name": "stdout",
     "output_type": "stream",
     "text": [
      "1900 9\n",
      "Do you wan to continue? y/n : y\n",
      "2900 10\n",
      "Do you wan to continue? y/n : y\n",
      "2700 2\n",
      "Do you wan to continue? y/n : y\n",
      "2500 2\n",
      "Do you wan to continue? y/n : y\n",
      "3700 12\n",
      "Do you wan to continue? y/n : y\n",
      "3300 4\n",
      "Do you wan to continue? y/n : y\n",
      "3100 2\n",
      "Do you wan to continue? y/n : y\n",
      "4400 13\n",
      "Do you wan to continue? y/n : n\n",
      "Final Amount 4400 13\n"
     ]
    }
   ],
   "source": [
    "import random as r\n",
    "\n",
    "user = \"y\" \n",
    "amt=1000\n",
    "while user == \"y\" :\n",
    "    n=r.randint(1,14)\n",
    "    if (n==7):\n",
    "        amt=100000\n",
    "    elif (n<7):\n",
    "        amt=amt-(n*100)\n",
    "    else:\n",
    "        amt=amt+(n*100)\n",
    "    print(amt,n)\n",
    "    user=input(\"Do you wan to continue? y/n : \")\n",
    "    \n",
    "print(\"Final Amount\", amt,n)"
   ]
  },
  {
   "cell_type": "code",
   "execution_count": 119,
   "metadata": {},
   "outputs": [
    {
     "name": "stdout",
     "output_type": "stream",
     "text": [
      "Enter a character : rkq\n",
      "Enter a character: l\n",
      "Enter a character: q\n",
      "rkql\n"
     ]
    }
   ],
   "source": [
    "user=input(\"Enter a character : \")\n",
    "str1=\"\" #declaring a new string\n",
    "\n",
    "while user != \"q\" :\n",
    "    str1+=user\n",
    "    user=input(\"Enter a character: \")\n",
    "print(str1)"
   ]
  },
  {
   "cell_type": "markdown",
   "metadata": {},
   "source": [
    "##### For Loop"
   ]
  },
  {
   "cell_type": "code",
   "execution_count": 133,
   "metadata": {},
   "outputs": [
    {
     "name": "stdout",
     "output_type": "stream",
     "text": [
      "white,red,blue,green,blue,yellow,black,"
     ]
    }
   ],
   "source": [
    "colors = ['white','red', 'blue', 'green','blue','yellow', 'black']\n",
    "\n",
    "for c in colors:\n",
    "    print(c, end= \",\")"
   ]
  },
  {
   "cell_type": "markdown",
   "metadata": {},
   "source": [
    "#### Print\n",
    " - print() has a paramter end\n",
    " - default value is \\n"
   ]
  },
  {
   "cell_type": "code",
   "execution_count": 136,
   "metadata": {},
   "outputs": [
    {
     "name": "stdout",
     "output_type": "stream",
     "text": [
      "white:red:blue:green:blue:yellow:black:New Line 1\n",
      "New Line 2\n",
      "white - 5\n",
      "red - 3\n",
      "blue - 4\n",
      "green - 5\n",
      "blue - 4\n",
      "yellow - 6\n",
      "black - 5\n"
     ]
    }
   ],
   "source": [
    "colors = ['white','red', 'blue', 'green','blue','yellow', 'black']\n",
    "\n",
    "for c in colors:\n",
    "    print(c, end= \":\") # There is no new line\n",
    "print(\"New Line 1\") \n",
    "print(\"New Line 2\")\n",
    "\n",
    "for c in colors:\n",
    "    print(c,\"-\", len(c) ) \n"
   ]
  },
  {
   "cell_type": "markdown",
   "metadata": {},
   "source": [
    "#### Range()\n",
    "- Range will give a sequence. It can be converrted to list,tuble or any sequence\n",
    "- range (s,e+1,step count)"
   ]
  },
  {
   "cell_type": "code",
   "execution_count": 137,
   "metadata": {},
   "outputs": [
    {
     "data": {
      "text/plain": [
       "[1, 2, 3, 4]"
      ]
     },
     "execution_count": 137,
     "metadata": {},
     "output_type": "execute_result"
    }
   ],
   "source": [
    "list(range(1,5))"
   ]
  },
  {
   "cell_type": "code",
   "execution_count": 138,
   "metadata": {},
   "outputs": [
    {
     "name": "stdout",
     "output_type": "stream",
     "text": [
      "1\n",
      "2\n",
      "3\n"
     ]
    }
   ],
   "source": [
    "for i in range(1,4):\n",
    "    print(i)"
   ]
  },
  {
   "cell_type": "code",
   "execution_count": 147,
   "metadata": {},
   "outputs": [
    {
     "name": "stdout",
     "output_type": "stream",
     "text": [
      "0 \n",
      "1 16 \n",
      "hi\n",
      "hi\n",
      "hi\n"
     ]
    }
   ],
   "source": [
    "for i in range(0,5,15):\n",
    "    print(i,end=\" \")\n",
    "print()\n",
    "for i in range(1,19,15):\n",
    "    print(i,end=\" \")\n",
    "print()\n",
    "for i in range(3):  # when i use it just for counting\n",
    "    print(\"hi\")\n"
   ]
  },
  {
   "cell_type": "code",
   "execution_count": 146,
   "metadata": {},
   "outputs": [
    {
     "name": "stdout",
     "output_type": "stream",
     "text": [
      "5\n",
      "4\n",
      "3\n",
      "2\n",
      "1\n"
     ]
    }
   ],
   "source": [
    "#Reversed Range\n",
    "for i in range (5,0,-1):\n",
    "    print(i)"
   ]
  },
  {
   "cell_type": "markdown",
   "metadata": {},
   "source": [
    "###### WAP to create a list of 3 names entered by user"
   ]
  },
  {
   "cell_type": "code",
   "execution_count": 150,
   "metadata": {},
   "outputs": [
    {
     "name": "stdout",
     "output_type": "stream",
     "text": [
      "Enter name: ammu\n",
      "Enter name: anu\n",
      "Enter name: nive\n",
      "['ammu', 'anu', 'nive']\n"
     ]
    }
   ],
   "source": [
    "list1=list()\n",
    "for i in range(3):\n",
    "    str1=input(\"Enter name: \")\n",
    "    list1.append(str1)\n",
    "\n",
    "print(list1)"
   ]
  },
  {
   "cell_type": "markdown",
   "metadata": {},
   "source": [
    "###### WAP to accept a word and print unique vowels"
   ]
  },
  {
   "cell_type": "code",
   "execution_count": 187,
   "metadata": {},
   "outputs": [
    {
     "name": "stdout",
     "output_type": "stream",
     "text": [
      "Enter name: areoplane\n",
      "{'l', 'n', 'o', 'r', 'e', 'a', 'p'}\n",
      "o\n",
      "e\n",
      "a\n"
     ]
    }
   ],
   "source": [
    "#Method1:\n",
    "str1=input(\"Enter name: \")\n",
    "\n",
    "#converting to set so that we will get unique\n",
    "set1=set(str1)\n",
    "print(set1)\n",
    "for s in set1:\n",
    "    if (s==\"a\" or s ==\"e\" or s==\"i\" or s==\"o\" or s==\"u\"):  \n",
    "        print(s)"
   ]
  },
  {
   "cell_type": "code",
   "execution_count": 1,
   "metadata": {},
   "outputs": [
    {
     "name": "stdout",
     "output_type": "stream",
     "text": [
      "Enter name: aeroplane\n",
      "{'l', 'r', 'n', 'p', 'o', 'e', 'a'}\n",
      "o\n",
      "e\n",
      "a\n"
     ]
    }
   ],
   "source": [
    "#Method 2:\n",
    "str1=input(\"Enter name: \")\n",
    "set1=set(str1)\n",
    "print(set1)\n",
    "for s in set1:\n",
    "    if s in \"aeiou\":\n",
    "        print(s)\n"
   ]
  },
  {
   "cell_type": "markdown",
   "metadata": {},
   "source": [
    "###### WAP to print the product of first 10 natural numbers"
   ]
  },
  {
   "cell_type": "code",
   "execution_count": 157,
   "metadata": {},
   "outputs": [
    {
     "name": "stdout",
     "output_type": "stream",
     "text": [
      "3628800\n"
     ]
    }
   ],
   "source": [
    "product = 1\n",
    "for i in range (1,11):\n",
    "    product*=i   \n",
    "print (product)"
   ]
  },
  {
   "cell_type": "markdown",
   "metadata": {},
   "source": [
    "#### Key()"
   ]
  },
  {
   "cell_type": "code",
   "execution_count": 172,
   "metadata": {},
   "outputs": [
    {
     "data": {
      "text/plain": [
       "['Sam', 'Mary', \"'Jane\", 'George', 'Marias']"
      ]
     },
     "execution_count": 172,
     "metadata": {},
     "output_type": "execute_result"
    }
   ],
   "source": [
    "names = [\"'Jane\", \"Sam\", \"George\", \"Mary\", \"Marias\"]\n",
    "names.sort(key = len)\n",
    "names"
   ]
  },
  {
   "cell_type": "code",
   "execution_count": 173,
   "metadata": {},
   "outputs": [
    {
     "data": {
      "text/plain": [
       "['Sam', 'Mary', \"'Jane\", 'Marias', 'George']"
      ]
     },
     "execution_count": 173,
     "metadata": {},
     "output_type": "execute_result"
    }
   ],
   "source": [
    "names = [\"'Jane\", \"Sam\", \"Mary\", \"Marias\", \"George\"]\n",
    "names.sort(key = len)\n",
    "names"
   ]
  },
  {
   "cell_type": "code",
   "execution_count": 174,
   "metadata": {},
   "outputs": [
    {
     "data": {
      "text/plain": [
       "'Marias'"
      ]
     },
     "execution_count": 174,
     "metadata": {},
     "output_type": "execute_result"
    }
   ],
   "source": [
    "names = [\"'Jane\", \"Sam\", \"Mary\", \"Marias\", \"George\"]\n",
    "max(names, key = len)\n"
   ]
  },
  {
   "cell_type": "code",
   "execution_count": 175,
   "metadata": {},
   "outputs": [
    {
     "data": {
      "text/plain": [
       "'George'"
      ]
     },
     "execution_count": 175,
     "metadata": {},
     "output_type": "execute_result"
    }
   ],
   "source": [
    "names = [\"'Jane\", \"Sam\", \"Mary\", \"George\", \"Marias\"]\n",
    "max(names, key = len)"
   ]
  },
  {
   "cell_type": "markdown",
   "metadata": {},
   "source": [
    "###### Sort the below list on basis of sum of tuple inside the list"
   ]
  },
  {
   "cell_type": "code",
   "execution_count": 181,
   "metadata": {},
   "outputs": [
    {
     "name": "stdout",
     "output_type": "stream",
     "text": [
      "[(1, 2, 3), (1, 7), (2, 3), (4, 5)]\n",
      "[(2, 3), (1, 2, 3), (1, 7), (4, 5)]\n",
      "[(4, 5), (1, 7), (1, 2, 3), (2, 3)]\n"
     ]
    }
   ],
   "source": [
    "l=[ (1,2,3) , (4,5) , (2,3) ,(1,7)]\n",
    "l.sort () \n",
    "print(l)\n",
    "\n",
    "l.sort (key = sum )\n",
    "print (l)\n",
    "\n",
    "l.sort (key = sum , reverse = True )\n",
    "print (l)"
   ]
  },
  {
   "cell_type": "code",
   "execution_count": null,
   "metadata": {},
   "outputs": [],
   "source": []
  }
 ],
 "metadata": {
  "kernelspec": {
   "display_name": "Python 3",
   "language": "python",
   "name": "python3"
  },
  "language_info": {
   "codemirror_mode": {
    "name": "ipython",
    "version": 3
   },
   "file_extension": ".py",
   "mimetype": "text/x-python",
   "name": "python",
   "nbconvert_exporter": "python",
   "pygments_lexer": "ipython3",
   "version": "3.7.3"
  }
 },
 "nbformat": 4,
 "nbformat_minor": 2
}
