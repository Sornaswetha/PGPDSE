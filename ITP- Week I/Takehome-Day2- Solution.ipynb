{
 "cells": [
  {
   "cell_type": "markdown",
   "metadata": {},
   "source": [
    "# Python List"
   ]
  },
  {
   "cell_type": "markdown",
   "metadata": {},
   "source": [
    "### 1. Create your own lists otherwise use the List1 = ['a','b','c']  to operate the below Python list  Operations?"
   ]
  },
  {
   "cell_type": "markdown",
   "metadata": {},
   "source": [
    "### 1. List Operations\n",
    "    A. Repetition (*)\n",
    "    B. Concatenation (+)\n",
    "    C. Membership\n",
    "    D. Length\n",
    "    E. Iteration"
   ]
  },
  {
   "cell_type": "markdown",
   "metadata": {},
   "source": [
    "##### 1.A. Repetition:"
   ]
  },
  {
   "cell_type": "code",
   "execution_count": 6,
   "metadata": {},
   "outputs": [
    {
     "name": "stdout",
     "output_type": "stream",
     "text": [
      "Enter the number of Repetitions:3\n",
      "Repetition of  3 times :  ['a', 'b', 'c', 'a', 'b', 'c', 'a', 'b', 'c']\n"
     ]
    }
   ],
   "source": [
    "list1 = ['a','b','c'] \n",
    "n=int(input(\"Enter the number of Repetitions:\"))\n",
    "print(\"Repetition of \",n,\"times : \" , list1*n)"
   ]
  },
  {
   "cell_type": "markdown",
   "metadata": {},
   "source": [
    "#### 1.B. Concatenation (+):"
   ]
  },
  {
   "cell_type": "code",
   "execution_count": 35,
   "metadata": {},
   "outputs": [
    {
     "name": "stdout",
     "output_type": "stream",
     "text": [
      "Concatenation of both List:  [1, 2, 4, 5, 54, 23, 54, 789, 9876, 876, 532, 56]\n"
     ]
    }
   ],
   "source": [
    "list1 = [1, 2, 4, 5, 54]\n",
    "list2 = [23,54,789,9876,876,532,56]\n",
    "print(\"Concatenation of both List: \", list1+list2)"
   ]
  },
  {
   "cell_type": "markdown",
   "metadata": {},
   "source": [
    "#### 1.C. Membership:"
   ]
  },
  {
   "cell_type": "code",
   "execution_count": 9,
   "metadata": {},
   "outputs": [
    {
     "name": "stdout",
     "output_type": "stream",
     "text": [
      "True\n"
     ]
    }
   ],
   "source": [
    "#To identify if the list contains \"5\"\n",
    "list1=[1,2,3,7,5,8]\n",
    "print(5 in list1)"
   ]
  },
  {
   "cell_type": "markdown",
   "metadata": {},
   "source": [
    "#### 1.D. Length:"
   ]
  },
  {
   "cell_type": "code",
   "execution_count": 12,
   "metadata": {},
   "outputs": [
    {
     "name": "stdout",
     "output_type": "stream",
     "text": [
      "Length of the list [1, 2, 3, 7, 5, 8] is 6\n"
     ]
    }
   ],
   "source": [
    "list1=[1,2,3,7,5,8]\n",
    "print (\"Length of the list\", list1, \"is\",len(list1))"
   ]
  },
  {
   "cell_type": "markdown",
   "metadata": {},
   "source": [
    "#### 1.E. Iteration:"
   ]
  },
  {
   "cell_type": "code",
   "execution_count": 11,
   "metadata": {},
   "outputs": [
    {
     "name": "stdout",
     "output_type": "stream",
     "text": [
      "1\n",
      "2\n",
      "3\n",
      "7\n",
      "5\n",
      "8\n"
     ]
    }
   ],
   "source": [
    "#To print every element in a list using for loop\n",
    "\n",
    "list1=[1,2,3,7,5,8]\n",
    "\n",
    "for l in list1:\n",
    "    print (l)"
   ]
  },
  {
   "cell_type": "markdown",
   "metadata": {},
   "source": [
    "### 2.1. Create your own lists to operate the below Python List Built-in functions?\n",
    "##### otherwise use the\n",
    "            List1 = [1, 2, 4, 5, 54]\n",
    "            List2 = [23,54,789,9876,876,532,56]\n",
    "            List3 = [1, 2,76543,289,87654,33,456789876,5432,45678]"
   ]
  },
  {
   "cell_type": "markdown",
   "metadata": {},
   "source": [
    "    A.\tmax(list)\t   \n",
    "    B.\tmin(list)\t   \n",
    "    C.\tlist(seq)\t     "
   ]
  },
  {
   "cell_type": "markdown",
   "metadata": {},
   "source": [
    "#### 2.C. max(list):"
   ]
  },
  {
   "cell_type": "code",
   "execution_count": 40,
   "metadata": {},
   "outputs": [
    {
     "name": "stdout",
     "output_type": "stream",
     "text": [
      "Maximum of the list [1, 2, 3, 7, 5, 8] is 8\n"
     ]
    }
   ],
   "source": [
    "list1=[1,2,3,7,5,8]\n",
    "print (\"Maximum of the list\", list1, \"is\",max(list1))"
   ]
  },
  {
   "cell_type": "markdown",
   "metadata": {},
   "source": [
    "#### 2.D. min():"
   ]
  },
  {
   "cell_type": "code",
   "execution_count": 18,
   "metadata": {},
   "outputs": [
    {
     "name": "stdout",
     "output_type": "stream",
     "text": [
      "Minimum of the list [1, 2, 3, -7, 5, 8] is -7\n"
     ]
    }
   ],
   "source": [
    "list1=[1,2,3,-7,5,8]\n",
    "print (\"Minimum of the list\", list1, \"is\",min(list1))"
   ]
  },
  {
   "cell_type": "markdown",
   "metadata": {},
   "source": [
    "#### 2.E.list:"
   ]
  },
  {
   "cell_type": "code",
   "execution_count": 1,
   "metadata": {},
   "outputs": [
    {
     "name": "stdout",
     "output_type": "stream",
     "text": [
      "List is : ['G', 'r', 'e', 'a', 't', ' ', 'L', 'e', 'a', 'r', 'n', 'i', 'n', 'g']\n",
      "[1, 2, 4]\n"
     ]
    }
   ],
   "source": [
    "#Converting a String to List\n",
    "str1 = \"Great Learning\"\n",
    "list1=list(str1)\n",
    "print(\"List is :\", list1)\n",
    "\n",
    "tub1=(1,2,4)\n",
    "list2=list(tub1)\n",
    "print(list2)"
   ]
  },
  {
   "cell_type": "markdown",
   "metadata": {},
   "source": [
    "### 3. Create your own lists to operate the below  thePython List built-in methods?\n",
    "##### otherwise use below list:\n",
    "           List = ['white','red', 'blue', 'green','blue','yellow', 'black']\n"
   ]
  },
  {
   "cell_type": "markdown",
   "metadata": {},
   "source": [
    "    A.\tlist.append()\n",
    "    B.\tlist.clear()\t \n",
    "    C.\tList.copy()\t           \n",
    "    D.\tlist.count()\t       \n",
    "    E.\tlist.extend()\t  \n",
    "    F.\tlist.index()\n",
    "    G.\tlist.insert()\t\n",
    "    H.\tlist.pop()\t\n",
    "    I.\tlist.remove()\t  \n",
    "    J.\tlist.reverse()\t        \n",
    "    K.\tlist.sort()\t  "
   ]
  },
  {
   "cell_type": "markdown",
   "metadata": {},
   "source": [
    "#### 3.A) append:"
   ]
  },
  {
   "cell_type": "code",
   "execution_count": 22,
   "metadata": {},
   "outputs": [
    {
     "name": "stdout",
     "output_type": "stream",
     "text": [
      "List is : ['white', 'red', 'blue', 'green', 'blue', 'yellow', 'black']\n",
      "After Appending List is : ['white', 'red', 'blue', 'green', 'blue', 'yellow', 'black', 'brown']\n"
     ]
    }
   ],
   "source": [
    "list1 = ['white','red', 'blue', 'green','blue','yellow', 'black']\n",
    "print(\"List is :\", list1)\n",
    "list1.append('brown')\n",
    "print(\"After Appending List is :\", list1)"
   ]
  },
  {
   "cell_type": "markdown",
   "metadata": {},
   "source": [
    "#### 3.B) list.clear():"
   ]
  },
  {
   "cell_type": "code",
   "execution_count": 23,
   "metadata": {},
   "outputs": [
    {
     "name": "stdout",
     "output_type": "stream",
     "text": [
      "List is : ['white', 'red', 'blue', 'green', 'blue', 'yellow', 'black']\n",
      "After clearing List is : []\n"
     ]
    }
   ],
   "source": [
    "list1 = ['white','red', 'blue', 'green','blue','yellow', 'black']\n",
    "print(\"List is :\", list1)\n",
    "list1.clear()\n",
    "print(\"After clearing List is :\", list1)"
   ]
  },
  {
   "cell_type": "markdown",
   "metadata": {},
   "source": [
    "#### 3.C) List.copy()"
   ]
  },
  {
   "cell_type": "code",
   "execution_count": 24,
   "metadata": {},
   "outputs": [
    {
     "name": "stdout",
     "output_type": "stream",
     "text": [
      "List 1 is : ['white', 'red', 'blue', 'green', 'blue', 'yellow', 'black']\n",
      "List2 is : ['white', 'red', 'blue', 'green', 'blue', 'yellow', 'black']\n"
     ]
    }
   ],
   "source": [
    "list1 = ['white','red', 'blue', 'green','blue','yellow', 'black']\n",
    "print(\"List 1 is :\", list1)\n",
    "list2=list1.copy()\n",
    "print(\"List2 is :\", list2)"
   ]
  },
  {
   "cell_type": "markdown",
   "metadata": {},
   "source": [
    "#### 3. D) list.count(obj):"
   ]
  },
  {
   "cell_type": "code",
   "execution_count": 26,
   "metadata": {},
   "outputs": [
    {
     "name": "stdout",
     "output_type": "stream",
     "text": [
      "List  is : ['white', 'red', 'blue', 'green', 'red,blue', 'yellow', 'black', 'red', 'blue', 'green', 'red']\n",
      "Count of red is: 3\n"
     ]
    }
   ],
   "source": [
    "list1 = ['white','red', 'blue', 'green','red,''blue','yellow', 'black','red', 'blue', 'green','red']\n",
    "print(\"List  is :\", list1)\n",
    "print(\"Count of red is:\",list1.count(\"red\"))"
   ]
  },
  {
   "cell_type": "markdown",
   "metadata": {},
   "source": [
    "#### 3.E) list.extend(seq):"
   ]
  },
  {
   "cell_type": "code",
   "execution_count": 27,
   "metadata": {},
   "outputs": [
    {
     "name": "stdout",
     "output_type": "stream",
     "text": [
      "List 1 is : ['white', 'red', 'blue', 'green', 'blue', 'yellow', 'black']\n",
      "After extending List is : ['white', 'red', 'blue', 'green', 'blue', 'yellow', 'black', 'brown', 'orange', 'purple']\n"
     ]
    }
   ],
   "source": [
    "list1 = ['white','red', 'blue', 'green','blue','yellow', 'black']\n",
    "print(\"List 1 is :\", list1)\n",
    "list1.extend((\"brown\",\"orange\",\"purple\"))\n",
    "print(\"After extending List is :\", list1)\n"
   ]
  },
  {
   "cell_type": "markdown",
   "metadata": {},
   "source": [
    "#### 3.F) list.index(obj):"
   ]
  },
  {
   "cell_type": "code",
   "execution_count": 28,
   "metadata": {},
   "outputs": [
    {
     "name": "stdout",
     "output_type": "stream",
     "text": [
      "List  is : ['white', 'red', 'blue', 'green', 'red,blue', 'yellow', 'black', 'red', 'blue', 'green', 'red']\n",
      "Index of red is: 1\n"
     ]
    }
   ],
   "source": [
    "list1 = ['white','red', 'blue', 'green','red,''blue','yellow', 'black','red', 'blue', 'green','red']\n",
    "print(\"List  is :\", list1)\n",
    "print(\"Index of red is:\",list1.index(\"red\"))"
   ]
  },
  {
   "cell_type": "markdown",
   "metadata": {},
   "source": [
    "#### 3.G) list.insert(index, obj):"
   ]
  },
  {
   "cell_type": "code",
   "execution_count": 32,
   "metadata": {},
   "outputs": [
    {
     "name": "stdout",
     "output_type": "stream",
     "text": [
      "List 1 is : ['white', 'red', 'blue', 'green', 'blue', 'yellow', 'black']\n",
      "After inserting purple in 5th position List is : ['white', 'red', 'blue', 'green', 'purple', 'blue', 'yellow', 'black']\n"
     ]
    }
   ],
   "source": [
    "list1 = ['white','red', 'blue', 'green','blue','yellow', 'black']\n",
    "print(\"List 1 is :\", list1)\n",
    "list1.insert(4,\"purple\")\n",
    "print(\"After inserting purple in 5th position List is :\", list1)"
   ]
  },
  {
   "cell_type": "markdown",
   "metadata": {},
   "source": [
    "#### 3.H) list.pop(obj=list[-1]):"
   ]
  },
  {
   "cell_type": "code",
   "execution_count": 6,
   "metadata": {},
   "outputs": [
    {
     "name": "stdout",
     "output_type": "stream",
     "text": [
      "black\n",
      "['white', 'red', 'blue', 'green', 'blue', 'yellow']\n"
     ]
    }
   ],
   "source": [
    "list1 = ['white','red', 'blue', 'green','blue','yellow', 'black']\n",
    "print(list1.pop(len(list1)-1)) # To Pop the last elemrnt\n",
    "print(list1)"
   ]
  },
  {
   "cell_type": "markdown",
   "metadata": {},
   "source": [
    "#### 3.I) list.remove(obj):"
   ]
  },
  {
   "cell_type": "code",
   "execution_count": 9,
   "metadata": {},
   "outputs": [
    {
     "name": "stdout",
     "output_type": "stream",
     "text": [
      "['white', 'red', 'blue', 'green', 'blue', 'yellow', 'black']\n",
      "['white', 'red', 'blue', 'blue', 'yellow', 'black']\n"
     ]
    }
   ],
   "source": [
    "list1 = ['white','red', 'blue', 'green','blue','yellow', 'black']\n",
    "print(list1) \n",
    "list1.remove(\"green\") # To Pop the last elemrnt\n",
    "print(list1) # After Removing"
   ]
  },
  {
   "cell_type": "markdown",
   "metadata": {},
   "source": [
    "#### 3.j) list.reverse():"
   ]
  },
  {
   "cell_type": "code",
   "execution_count": 2,
   "metadata": {},
   "outputs": [
    {
     "name": "stdout",
     "output_type": "stream",
     "text": [
      "List : ['white', 'red', 'blue', 'green', 'blue', 'yellow', 'black']\n",
      "Reversed List : ['black', 'yellow', 'blue', 'green', 'blue', 'red', 'white']\n",
      "['black', 'yellow', 'blue', 'green', 'blue', 'red', 'white']\n"
     ]
    }
   ],
   "source": [
    "list1 = ['white','red', 'blue', 'green','blue','yellow', 'black']\n",
    "print(\"List :\" ,list1)\n",
    "print(\"Reversed List :\", list(reversed(list1)))\n",
    "list1.reverse()\n",
    "print(list1)"
   ]
  },
  {
   "cell_type": "markdown",
   "metadata": {},
   "source": [
    "#### 3.K) list.sort([func]):"
   ]
  },
  {
   "cell_type": "code",
   "execution_count": 18,
   "metadata": {},
   "outputs": [
    {
     "name": "stdout",
     "output_type": "stream",
     "text": [
      "List : ['white', 'red', 'blue', 'green', 'blue', 'yellow', 'black']\n",
      "Sorted List : ['black', 'blue', 'blue', 'green', 'red', 'white', 'yellow']\n"
     ]
    }
   ],
   "source": [
    "list1 = ['white','red', 'blue', 'green','blue','yellow', 'black']\n",
    "print(\"List :\" ,list1)\n",
    "list1.sort()\n",
    "print(\"Sorted List :\", list1)"
   ]
  },
  {
   "cell_type": "markdown",
   "metadata": {},
   "source": [
    "# Python Tuple"
   ]
  },
  {
   "cell_type": "markdown",
   "metadata": {},
   "source": [
    "### Create your own Tuple to operate the below Python tuple Operations ?\n",
    "##### otherwise use the\n",
    "                Tuple1 = ('white','red', 'blue', 'green','blue','yellow', 'black')\n",
    "                Tuple2 = (1,4,1,3,4,5,65)"
   ]
  },
  {
   "cell_type": "markdown",
   "metadata": {},
   "source": [
    "### 1. Tuple Operations\n",
    "    A. Repetition (*)\n",
    "    B. Concatenation (+)\n",
    "    C. Membership\n",
    "    D. Length\n",
    "    E. Iteration"
   ]
  },
  {
   "cell_type": "markdown",
   "metadata": {},
   "source": [
    "##### 1.A. Repetition:\n"
   ]
  },
  {
   "cell_type": "code",
   "execution_count": 34,
   "metadata": {},
   "outputs": [
    {
     "name": "stdout",
     "output_type": "stream",
     "text": [
      "Enter the number of Repetitions:5\n",
      "Repetition of  5 times :  ('white', 'red', 'blue', 'green', 'blue', 'yellow', 'black', 'white', 'red', 'blue', 'green', 'blue', 'yellow', 'black', 'white', 'red', 'blue', 'green', 'blue', 'yellow', 'black', 'white', 'red', 'blue', 'green', 'blue', 'yellow', 'black', 'white', 'red', 'blue', 'green', 'blue', 'yellow', 'black')\n"
     ]
    }
   ],
   "source": [
    "tup1 = ('white','red', 'blue', 'green','blue','yellow', 'black')\n",
    "n=int(input(\"Enter the number of Repetitions:\"))\n",
    "print(\"Repetition of \",n,\"times : \" , tup1*n)"
   ]
  },
  {
   "cell_type": "markdown",
   "metadata": {},
   "source": [
    "#### 1.B. Concatenation (+):"
   ]
  },
  {
   "cell_type": "code",
   "execution_count": 36,
   "metadata": {},
   "outputs": [
    {
     "name": "stdout",
     "output_type": "stream",
     "text": [
      "Concatenation of both Tuples:  (1, 2, 4, 5, 54, 23, 54, 789, 9876, 876, 532, 56)\n"
     ]
    }
   ],
   "source": [
    "tup1 = (1, 2, 4, 5, 54)\n",
    "tup2 = (23,54,789,9876,876,532,56)\n",
    "print(\"Concatenation of both Tuples: \", tup1+tup2)"
   ]
  },
  {
   "cell_type": "markdown",
   "metadata": {},
   "source": [
    "#### 1.C) Membership:"
   ]
  },
  {
   "cell_type": "code",
   "execution_count": 37,
   "metadata": {},
   "outputs": [
    {
     "name": "stdout",
     "output_type": "stream",
     "text": [
      "True\n"
     ]
    }
   ],
   "source": [
    "#To identify if the list contains \"5\"\n",
    "tup1=(1,2,3,7,5,8)\n",
    "print(5 in tup1)"
   ]
  },
  {
   "cell_type": "markdown",
   "metadata": {},
   "source": [
    "#### 1.D) Length:"
   ]
  },
  {
   "cell_type": "code",
   "execution_count": 38,
   "metadata": {},
   "outputs": [
    {
     "name": "stdout",
     "output_type": "stream",
     "text": [
      "Length of the Tuple (1, 2, 3, 7, 5, 8) is 6\n"
     ]
    }
   ],
   "source": [
    "tup1=(1,2,3,7,5,8)\n",
    "print (\"Length of the Tuple\", tup1, \"is\",len(tup1))"
   ]
  },
  {
   "cell_type": "markdown",
   "metadata": {},
   "source": [
    "#### 1.E) Iteration:"
   ]
  },
  {
   "cell_type": "code",
   "execution_count": 39,
   "metadata": {},
   "outputs": [
    {
     "name": "stdout",
     "output_type": "stream",
     "text": [
      "1\n",
      "2\n",
      "3\n",
      "7\n",
      "5\n",
      "8\n"
     ]
    }
   ],
   "source": [
    "#To print every element in a tuple using for loop\n",
    "\n",
    "tup1=(1,2,3,7,5,8)\n",
    "\n",
    "for l in tup1:\n",
    "    print (l)"
   ]
  },
  {
   "cell_type": "markdown",
   "metadata": {},
   "source": [
    "### 2.Create your own Tuple to operate the below Python tuple inbuilt functions ?\n",
    "##### otherwise use the\n",
    "            Tuple1 = (11,4,21,4,115,6,13,51,4,16,77,8,17,17,876,89,8765,14,51,11,876,9,3456,4234)\n",
    "         "
   ]
  },
  {
   "cell_type": "markdown",
   "metadata": {},
   "source": [
    "         A.\tmax(Tuple)\t   \n",
    "         B.\tmin(Tuple)\t    \n",
    "         C.\tTuple(seq)\t    "
   ]
  },
  {
   "cell_type": "markdown",
   "metadata": {},
   "source": [
    "#### 2.A) max():"
   ]
  },
  {
   "cell_type": "code",
   "execution_count": 43,
   "metadata": {},
   "outputs": [
    {
     "name": "stdout",
     "output_type": "stream",
     "text": [
      "Maximum of the tuple (11, 4, 21, 4, 115, 6, 13, 51, 4, 16, 77, 8, 17, 17, 876, 89, 8765, 14, 51, 11, 876, 9, 3456, 4234) is 8765\n"
     ]
    }
   ],
   "source": [
    "tup1 = (11,4,21,4,115,6,13,51,4,16,77,8,17,17,876,89,8765,14,51,11,876,9,3456,4234)\n",
    "print (\"Maximum of the tuple\", tup1, \"is\",max(tup1))"
   ]
  },
  {
   "cell_type": "markdown",
   "metadata": {},
   "source": [
    "#### 2.D) min():"
   ]
  },
  {
   "cell_type": "code",
   "execution_count": 44,
   "metadata": {},
   "outputs": [
    {
     "name": "stdout",
     "output_type": "stream",
     "text": [
      "Minimum of the tuple (11, 4, 21, 4, 115, 6, 13, 51, 4, 16, 77, 8, 17, 17, 876, 89, 8765, 14, 51, 11, 876, 9, 3456, 4234) is 4\n"
     ]
    }
   ],
   "source": [
    "tup1 = (11,4,21,4,115,6,13,51,4,16,77,8,17,17,876,89,8765,14,51,11,876,9,3456,4234)\n",
    "print (\"Minimum of the tuple\", tup1, \"is\",min(tup1))"
   ]
  },
  {
   "cell_type": "markdown",
   "metadata": {},
   "source": [
    "#### 2.E) Tuple:"
   ]
  },
  {
   "cell_type": "code",
   "execution_count": 46,
   "metadata": {},
   "outputs": [
    {
     "name": "stdout",
     "output_type": "stream",
     "text": [
      "Tuple is : ('G', 'r', 'e', 'a', 't', ' ', 'L', 'e', 'a', 'r', 'n', 'i', 'n', 'g')\n"
     ]
    }
   ],
   "source": [
    "#Converting a String to Tuple\n",
    "str1 = \"Great Learning\"\n",
    "tup1=tuple(str1)\n",
    "print(\"Tuple is :\", tup1)"
   ]
  },
  {
   "cell_type": "markdown",
   "metadata": {},
   "source": [
    "# Python Set"
   ]
  },
  {
   "cell_type": "code",
   "execution_count": null,
   "metadata": {},
   "outputs": [],
   "source": [
    "#### Create your own Set to operate the below Python Set Operations ?\n",
    "#### otherwise use the below set:\n",
    "        Set1 = {1,4,3,4,4,3,5,6,7,8,9,6,8,5,436,54,876,9876,87654,787654,56}\n",
    "        Set2 = {9,8,9,5,7,4,6,57,88,7654,8,876,678,8765,45,6789,8765,467,887,65}\n",
    "    "
   ]
  },
  {
   "cell_type": "markdown",
   "metadata": {},
   "source": [
    "### 1. Set Operations\n",
    "     A. Union \n",
    "     B. Intersection\n",
    "     C. Difference\n",
    "     D. Symmetric difference"
   ]
  },
  {
   "cell_type": "markdown",
   "metadata": {},
   "source": [
    "#### 1.A) Union:"
   ]
  },
  {
   "cell_type": "code",
   "execution_count": 3,
   "metadata": {},
   "outputs": [
    {
     "name": "stdout",
     "output_type": "stream",
     "text": [
      "Union is {1, 3, 4, 5, 6, 7, 8, 9, 6789, 9876, 678, 45, 436, 54, 56, 57, 8765, 65, 787654, 467, 88, 87654, 7654, 876, 887}\n",
      "Union is {1, 3, 4, 5, 6, 7, 8, 9, 6789, 9876, 678, 45, 436, 54, 56, 57, 8765, 65, 787654, 467, 88, 87654, 7654, 876, 887}\n"
     ]
    }
   ],
   "source": [
    "set1 = {1,4,3,4,4,3,5,6,7,8,9,6,8,5,436,54,876,9876,87654,787654,56}\n",
    "set2 = {9,8,9,5,7,4,6,57,88,7654,8,876,678,8765,45,6789,8765,467,887,65}\n",
    "print(\"Union is\", set1 | set2 )\n",
    "print(\"Union is\", set1.union(set2) )\n",
    "        "
   ]
  },
  {
   "cell_type": "markdown",
   "metadata": {},
   "source": [
    "#### 1.B. Intersection"
   ]
  },
  {
   "cell_type": "code",
   "execution_count": 4,
   "metadata": {},
   "outputs": [
    {
     "name": "stdout",
     "output_type": "stream",
     "text": [
      "Intersection is {4, 5, 6, 7, 8, 9, 876}\n",
      "Intersection is {4, 5, 6, 7, 8, 9, 876}\n"
     ]
    }
   ],
   "source": [
    "print(\"Intersection is\", set1 & set2 )\n",
    "print(\"Intersection is\", set1.intersection(set2) )\n"
   ]
  },
  {
   "cell_type": "markdown",
   "metadata": {},
   "source": [
    "#### 1.C. Difference"
   ]
  },
  {
   "cell_type": "code",
   "execution_count": 7,
   "metadata": {},
   "outputs": [
    {
     "name": "stdout",
     "output_type": "stream",
     "text": [
      "Difference between set 1 and set 2 {1, 3, 787654, 87654, 436, 9876, 54, 56}\n",
      "{1, 3, 787654, 87654, 436, 9876, 54, 56}\n",
      "Difference between set 2 and set 1 {65, 6789, 678, 7654, 45, 467, 887, 88, 57, 8765}\n",
      "{65, 6789, 678, 7654, 45, 467, 887, 88, 57, 8765}\n"
     ]
    }
   ],
   "source": [
    "print(\"Difference between set 1 and set 2\", set1 - set2)\n",
    "print ( set1.difference(set2))\n",
    "\n",
    "print(\"Difference between set 2 and set 1\", set2 - set1)\n",
    "print ( set2.difference(set1))"
   ]
  },
  {
   "cell_type": "markdown",
   "metadata": {},
   "source": [
    "####  1.D. Symmetric difference:"
   ]
  },
  {
   "cell_type": "code",
   "execution_count": 5,
   "metadata": {},
   "outputs": [
    {
     "name": "stdout",
     "output_type": "stream",
     "text": [
      "{65, 1, 3, 787654, 6789, 467, 9876, 88, 7654, 678, 87654, 45, 436, 54, 887, 56, 57, 8765}\n",
      "{65, 1, 3, 787654, 6789, 467, 9876, 88, 7654, 678, 87654, 45, 436, 54, 887, 56, 57, 8765}\n"
     ]
    }
   ],
   "source": [
    "#equal to the union of set 1 and set 2. But without the intersection between the two.\n",
    "\n",
    "print ( set1.symmetric_difference(set2))\n",
    "\n",
    "print(set1^set2)"
   ]
  },
  {
   "cell_type": "markdown",
   "metadata": {},
   "source": [
    "# Python Dictionary"
   ]
  },
  {
   "cell_type": "markdown",
   "metadata": {},
   "source": [
    "#### Create your own Dictionary to operate the below Python Built-in Dictionary functions\n",
    "#### otherwise use the below Dictionary:\n",
    "                           Dictionary = {'a': 'alpha', 'o': 'omega', 'g': 'gamma'}"
   ]
  },
  {
   "cell_type": "markdown",
   "metadata": {},
   "source": [
    "    A.\tlen(dict)     \n",
    "    B.\tstr(dict)     \n",
    "    C.\ttype(variable)"
   ]
  },
  {
   "cell_type": "markdown",
   "metadata": {},
   "source": [
    "#### 1.A) len(dict):"
   ]
  },
  {
   "cell_type": "code",
   "execution_count": 19,
   "metadata": {},
   "outputs": [
    {
     "name": "stdout",
     "output_type": "stream",
     "text": [
      "3\n"
     ]
    }
   ],
   "source": [
    "dictionary = {'a': 'alpha', 'o': 'omega', 'g': 'gamma'}\n",
    "print(len(dictionary))"
   ]
  },
  {
   "cell_type": "markdown",
   "metadata": {},
   "source": [
    "#### 2.B) str(dict):"
   ]
  },
  {
   "cell_type": "code",
   "execution_count": 20,
   "metadata": {},
   "outputs": [
    {
     "name": "stdout",
     "output_type": "stream",
     "text": [
      "{'a': 'alpha', 'o': 'omega', 'g': 'gamma'}\n"
     ]
    }
   ],
   "source": [
    "dictionary = {'a': 'alpha', 'o': 'omega', 'g': 'gamma'}\n",
    "print(str(dictionary)) "
   ]
  },
  {
   "cell_type": "markdown",
   "metadata": {},
   "source": [
    "#### 1.C) type(variable):"
   ]
  },
  {
   "cell_type": "code",
   "execution_count": 2,
   "metadata": {
    "scrolled": false
   },
   "outputs": [
    {
     "name": "stdout",
     "output_type": "stream",
     "text": [
      "alpha <class 'str'>\n"
     ]
    }
   ],
   "source": [
    "dictionary = {'a': 'alpha', 'o': 'omega', 'g': 'gamma'}\n",
    "\n",
    "print ( dictionary ['a'] , type (dictionary ['a']))\n"
   ]
  },
  {
   "cell_type": "markdown",
   "metadata": {},
   "source": [
    "### 2.Create your own Dictionary to operate the below Python Built-in Dictionary methods\n",
    "#### otherwise use the below Dictionary:\n",
    "\n",
    "                            dictionaries = {'a': 'alpha', 'o': 'omega', 'g': 'gamma'}"
   ]
  },
  {
   "cell_type": "markdown",
   "metadata": {},
   "source": [
    "    A.\tdic.clear()\t\n",
    "    B.\tdict.copy()\t   \n",
    "    C.\tdict.fromkeys()\n",
    "    D.  dict.get(key[, value])    \t\n",
    "    E.\tdict.items()\t\n",
    "    F.\tdict.keys() \t\n",
    "    G.\tdict.setdefault()\t\n",
    "    H.\tdict.update()\t\n",
    "    I.\tdict.values()\t"
   ]
  },
  {
   "cell_type": "markdown",
   "metadata": {},
   "source": [
    "#### 2.A) dic.clear():"
   ]
  },
  {
   "cell_type": "code",
   "execution_count": 2,
   "metadata": {},
   "outputs": [
    {
     "name": "stdout",
     "output_type": "stream",
     "text": [
      "{'India': 'Rupee', 'USA': 'Dollars', 'UK': 'GBP', 'France': 'Euro', 'Italy': 'Euro'}\n",
      "{}\n"
     ]
    }
   ],
   "source": [
    "d1={ \"India\": \"Rupee\" , \"USA\": \"Dollars\" , \"UK\": \"GBP\", \"France\": \"Euro\", \"Italy\" : \"Euro\"}\n",
    "print(d1)\n",
    "d1.clear()\n",
    "print(d1)"
   ]
  },
  {
   "cell_type": "markdown",
   "metadata": {},
   "source": [
    "#### 2.B) dict.copy():"
   ]
  },
  {
   "cell_type": "code",
   "execution_count": 3,
   "metadata": {},
   "outputs": [
    {
     "name": "stdout",
     "output_type": "stream",
     "text": [
      "{'India': 'Rupee', 'USA': 'Dollars', 'UK': 'GBP', 'France': 'Euro', 'Italy': 'Euro'}\n"
     ]
    }
   ],
   "source": [
    "d1={ \"India\": \"Rupee\" , \"USA\": \"Dollars\" , \"UK\": \"GBP\", \"France\": \"Euro\", \"Italy\" : \"Euro\"}\n",
    "d2=d1.copy()\n",
    "print(d2)"
   ]
  },
  {
   "cell_type": "markdown",
   "metadata": {},
   "source": [
    "#### 2.C) dict.fromkeys():"
   ]
  },
  {
   "cell_type": "code",
   "execution_count": 4,
   "metadata": {},
   "outputs": [
    {
     "name": "stdout",
     "output_type": "stream",
     "text": [
      "{101: None, 102: None, 104: None}\n",
      "{1: None, 2: None, 3: None}\n",
      "{'a': 10, 'b': 10, 'c': 10}\n"
     ]
    }
   ],
   "source": [
    "d={ 101 :\"Angelin\" , 102: \"Nive\" , 104 : \"Kevin\"}\n",
    "d1=dict.fromkeys(d)\n",
    "print(d1)\n",
    "\n",
    "d2=dict.fromkeys((1,2,3))\n",
    "print(d2)\n",
    "\n",
    "d3=dict.fromkeys((\"a\",\"b\",\"c\"),10)\n",
    "print(d3)"
   ]
  },
  {
   "cell_type": "markdown",
   "metadata": {},
   "source": [
    "#### 2.D) dict.get(key[, value]) :"
   ]
  },
  {
   "cell_type": "code",
   "execution_count": 5,
   "metadata": {},
   "outputs": [
    {
     "name": "stdout",
     "output_type": "stream",
     "text": [
      "Enter Country: india\n",
      "None\n",
      "Does not Exists in Dictionary\n"
     ]
    }
   ],
   "source": [
    "d = { \"India\": \"Rupee\" , \"USA\": \"Dollars\" , \"UK\": \"GBP\"}\n",
    "country=input(\"Enter Country: \")\n",
    "print( d.get(country))\n",
    "print( d.get(country,\"Does not Exists in Dictionary\"))"
   ]
  },
  {
   "cell_type": "markdown",
   "metadata": {},
   "source": [
    "#### 2.E) dict.items()"
   ]
  },
  {
   "cell_type": "code",
   "execution_count": 6,
   "metadata": {},
   "outputs": [
    {
     "name": "stdout",
     "output_type": "stream",
     "text": [
      "dict_values(['Angelin', 'Nive', 'Kevin'])\n",
      "dict_items([(101, 'Angelin'), (102, 'Nive'), (104, 'Kevin')]) <class 'dict_items'>\n",
      "{101: 'Angelin', 102: 'Nive', 104: 'Kevin'}\n"
     ]
    }
   ],
   "source": [
    "d={ 101 :\"Angelin\" , 102: \"Nive\" , 104 : \"Kevin\"}\n",
    "print(d.items(), type (d.items())) # Returns a sequence of Tubles"
   ]
  },
  {
   "cell_type": "markdown",
   "metadata": {},
   "source": [
    "#### 2.F) dict.keys() :"
   ]
  },
  {
   "cell_type": "code",
   "execution_count": 7,
   "metadata": {},
   "outputs": [
    {
     "name": "stdout",
     "output_type": "stream",
     "text": [
      "dict_keys([101, 102, 104]) <class 'dict_keys'>\n"
     ]
    }
   ],
   "source": [
    "d={ 101 :\"Angelin\" , 102: \"Nive\" , 104 : \"Kevin\"}\n",
    "print(d.keys(), type (d.keys()))"
   ]
  },
  {
   "cell_type": "markdown",
   "metadata": {},
   "source": [
    "#### 2.G) dict.setdefault():"
   ]
  },
  {
   "cell_type": "code",
   "execution_count": 16,
   "metadata": {},
   "outputs": [
    {
     "name": "stdout",
     "output_type": "stream",
     "text": [
      "{1: 'red', 2: 'blue', 3: 'yellow', 4: 'orange'}\n",
      "yellow orange\n"
     ]
    }
   ],
   "source": [
    "d= { 1: \"red\", 2 : \"blue\", 3 : \"yellow\"}\n",
    "default1 = d.setdefault(3)  # returns the value of a key .If key is not present not, it inserts key with a value\n",
    "default2 = d.setdefault(4, \"orange\")\n",
    "\n",
    "print (d)\n",
    "print (default1, default2)"
   ]
  },
  {
   "cell_type": "markdown",
   "metadata": {},
   "source": [
    "#### 2.H) dict.update():"
   ]
  },
  {
   "cell_type": "code",
   "execution_count": null,
   "metadata": {},
   "outputs": [],
   "source": [
    "d1={ \"India\": \"Rupee\" , \"USA\": \"Dollars\" , \"UK\": \"GBP\", \"France\": \"Euro\", \"Italy\" : \"Euro\"}\n",
    "d2={\"Japan\": \"Yen\", \"Thailand\": \"Bath\"}\n",
    "\n",
    "d1.update(d2)\n",
    "d1"
   ]
  },
  {
   "cell_type": "markdown",
   "metadata": {},
   "source": [
    " #### 2.L)  dict.values():"
   ]
  },
  {
   "cell_type": "code",
   "execution_count": 9,
   "metadata": {},
   "outputs": [
    {
     "name": "stdout",
     "output_type": "stream",
     "text": [
      "dict_values(['Angelin', 'Nive', 'Kevin']) <class 'dict_values'>\n"
     ]
    }
   ],
   "source": [
    "d={ 101 :\"Angelin\" , 102: \"Nive\" , 104 : \"Kevin\"}\n",
    "print(d.values(), type (d.values()))"
   ]
  },
  {
   "cell_type": "markdown",
   "metadata": {},
   "source": [
    "# Conditional Statements"
   ]
  },
  {
   "cell_type": "markdown",
   "metadata": {},
   "source": [
    "    1. IF \n",
    "    2. IF-ELSE\n",
    "    3. If...Elif...Else\n",
    "   "
   ]
  },
  {
   "cell_type": "markdown",
   "metadata": {},
   "source": [
    "#### 1. Store a number in a variable and check if that variable is equal to 10, If yes, print \"Hello\""
   ]
  },
  {
   "cell_type": "code",
   "execution_count": 61,
   "metadata": {},
   "outputs": [
    {
     "name": "stdout",
     "output_type": "stream",
     "text": [
      "Enter a number:10\n",
      "Hello\n"
     ]
    }
   ],
   "source": [
    "i=int(input(\"Enter a number:\"))\n",
    "if(i==10):\n",
    "    print(\"Hello\")"
   ]
  },
  {
   "cell_type": "markdown",
   "metadata": {},
   "source": [
    "#### 2. Store a number in a variable and check if that variable is equal to 10, If yes, print \"Hello\", else print \"Good Bye\""
   ]
  },
  {
   "cell_type": "code",
   "execution_count": 60,
   "metadata": {},
   "outputs": [
    {
     "name": "stdout",
     "output_type": "stream",
     "text": [
      "Enter a number:16\n",
      "Good Bye\n"
     ]
    }
   ],
   "source": [
    "i=int(input(\"Enter a number:\"))\n",
    "if(i==10):\n",
    "    print(\"Hello\")\n",
    "else:\n",
    "    print(\"Good Bye\")"
   ]
  },
  {
   "cell_type": "markdown",
   "metadata": {},
   "source": [
    "# While Loop"
   ]
  },
  {
   "cell_type": "markdown",
   "metadata": {},
   "source": [
    "#### 1. Print Hello World 5 times"
   ]
  },
  {
   "cell_type": "code",
   "execution_count": 51,
   "metadata": {},
   "outputs": [
    {
     "name": "stdout",
     "output_type": "stream",
     "text": [
      "Hello World\n",
      "Hello World\n",
      "Hello World\n",
      "Hello World\n",
      "Hello World\n"
     ]
    }
   ],
   "source": [
    "i = 1\n",
    "while i < 6:\n",
    "  print(\"Hello World\")\n",
    "  i += 1"
   ]
  },
  {
   "cell_type": "markdown",
   "metadata": {},
   "source": [
    "# For Loop"
   ]
  },
  {
   "cell_type": "markdown",
   "metadata": {},
   "source": [
    "#### 1. Take a list [23,1,0,12,45,-1,46], loop through each element and print it"
   ]
  },
  {
   "cell_type": "code",
   "execution_count": 50,
   "metadata": {},
   "outputs": [
    {
     "name": "stdout",
     "output_type": "stream",
     "text": [
      "23\n",
      "1\n",
      "0\n",
      "12\n",
      "45\n",
      "-1\n",
      "46\n"
     ]
    }
   ],
   "source": [
    "list1=[23,1,0,12,45,-1,46]\n",
    "for l in list1:\n",
    "    print(l)"
   ]
  },
  {
   "cell_type": "markdown",
   "metadata": {},
   "source": [
    "#### 2. Take a list [1,2,3,4,5,6,7,8], loop through each element and print it. But, use break to come out of the loop after printing the second element"
   ]
  },
  {
   "cell_type": "code",
   "execution_count": 55,
   "metadata": {},
   "outputs": [
    {
     "name": "stdout",
     "output_type": "stream",
     "text": [
      "1\n",
      "2\n"
     ]
    }
   ],
   "source": [
    "list1=[1,2,3,4,5,6,7,8]\n",
    "i=1\n",
    "for l in list1:\n",
    "  print(l)\n",
    "  if i == 2:\n",
    "    break\n",
    "  i += 1"
   ]
  }
 ],
 "metadata": {
  "kernelspec": {
   "display_name": "Python 3",
   "language": "python",
   "name": "python3"
  },
  "language_info": {
   "codemirror_mode": {
    "name": "ipython",
    "version": 3
   },
   "file_extension": ".py",
   "mimetype": "text/x-python",
   "name": "python",
   "nbconvert_exporter": "python",
   "pygments_lexer": "ipython3",
   "version": "3.7.3"
  }
 },
 "nbformat": 4,
 "nbformat_minor": 2
}
