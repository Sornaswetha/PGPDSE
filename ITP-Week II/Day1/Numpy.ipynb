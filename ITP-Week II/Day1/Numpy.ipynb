{
 "cells": [
  {
   "cell_type": "markdown",
   "metadata": {},
   "source": [
    "### Numpy\n",
    "- Numerical Python\n",
    "- all Mathematical operations\n",
    "- Array comes under Numpy"
   ]
  },
  {
   "cell_type": "markdown",
   "metadata": {},
   "source": [
    "https://numpy.org/"
   ]
  },
  {
   "cell_type": "code",
   "execution_count": 1,
   "metadata": {},
   "outputs": [],
   "source": [
    "import numpy as np"
   ]
  },
  {
   "cell_type": "markdown",
   "metadata": {},
   "source": [
    "### Converting List to Array"
   ]
  },
  {
   "cell_type": "code",
   "execution_count": 6,
   "metadata": {},
   "outputs": [
    {
     "data": {
      "text/plain": [
       "array([1, 2, 3, 6])"
      ]
     },
     "execution_count": 6,
     "metadata": {},
     "output_type": "execute_result"
    }
   ],
   "source": [
    "arr = np.array( [1,2,3,6])\n",
    "arr"
   ]
  },
  {
   "cell_type": "markdown",
   "metadata": {},
   "source": [
    "#### To check the dimension of an array"
   ]
  },
  {
   "cell_type": "code",
   "execution_count": 15,
   "metadata": {},
   "outputs": [
    {
     "data": {
      "text/plain": [
       "1"
      ]
     },
     "execution_count": 15,
     "metadata": {},
     "output_type": "execute_result"
    }
   ],
   "source": [
    "arr.ndim"
   ]
  },
  {
   "cell_type": "markdown",
   "metadata": {},
   "source": [
    "#### Number of elements in an array"
   ]
  },
  {
   "cell_type": "code",
   "execution_count": 17,
   "metadata": {},
   "outputs": [
    {
     "data": {
      "text/plain": [
       "7"
      ]
     },
     "execution_count": 17,
     "metadata": {},
     "output_type": "execute_result"
    }
   ],
   "source": [
    "arr.size  # No. of elements "
   ]
  },
  {
   "cell_type": "markdown",
   "metadata": {},
   "source": [
    "#### Shape"
   ]
  },
  {
   "cell_type": "code",
   "execution_count": 7,
   "metadata": {},
   "outputs": [
    {
     "data": {
      "text/plain": [
       "(4,)"
      ]
     },
     "execution_count": 7,
     "metadata": {},
     "output_type": "execute_result"
    }
   ],
   "source": [
    "  arr.shape  # Only count of elements or number of columns/ Rows is alays 1"
   ]
  },
  {
   "cell_type": "markdown",
   "metadata": {},
   "source": [
    "### Converting Tuple to Array"
   ]
  },
  {
   "cell_type": "code",
   "execution_count": 48,
   "metadata": {},
   "outputs": [
    {
     "name": "stdout",
     "output_type": "stream",
     "text": [
      "[1 2 3 6 2 8 9] <class 'numpy.ndarray'> 1 7\n"
     ]
    },
    {
     "data": {
      "text/plain": [
       "array([1, 2, 3, 6, 2, 8, 9])"
      ]
     },
     "execution_count": 48,
     "metadata": {},
     "output_type": "execute_result"
    }
   ],
   "source": [
    "arr = np.array( (1,2,3,6,2,8,9))\n",
    "print(arr, type (arr) , arr.ndim, arr.size)\n",
    "arr"
   ]
  },
  {
   "cell_type": "markdown",
   "metadata": {},
   "source": [
    "#### Mixed Data\n",
    "\n",
    "Array are sequence of elements of same datatype  i.e they get converted\n",
    "- int , float --> float\n",
    "- int , str --> str\n",
    "- int ,float , str --> str"
   ]
  },
  {
   "cell_type": "code",
   "execution_count": 30,
   "metadata": {},
   "outputs": [
    {
     "name": "stdout",
     "output_type": "stream",
     "text": [
      "['1' '4' '7' 'f' 'i '] <class 'numpy.ndarray'>\n",
      "1 <class 'numpy.str_'>\n"
     ]
    },
    {
     "data": {
      "text/plain": [
       "array(['1', '4', '7', 'f', 'i '], dtype='<U11')"
      ]
     },
     "execution_count": 30,
     "metadata": {},
     "output_type": "execute_result"
    }
   ],
   "source": [
    "arr = np.array ( [ 1,4,7, 'f' , 'i '])\n",
    "print(arr, type (arr))\n",
    "print ( arr[0], type (arr[0]))\n",
    "arr"
   ]
  },
  {
   "cell_type": "code",
   "execution_count": 29,
   "metadata": {},
   "outputs": [
    {
     "name": "stdout",
     "output_type": "stream",
     "text": [
      "[1.  4.  5.  8.  4.5] <class 'numpy.ndarray'>\n",
      "1.0 <class 'numpy.float64'>\n"
     ]
    }
   ],
   "source": [
    "arr = np.array ( [ 1,4,5,8.0,4.5])\n",
    "print(arr, type (arr))\n",
    "print ( arr[0], type (arr[0]))"
   ]
  },
  {
   "cell_type": "code",
   "execution_count": 32,
   "metadata": {},
   "outputs": [
    {
     "name": "stdout",
     "output_type": "stream",
     "text": [
      "['1' '4' '7' 'f' 'i ' '8.45' '4.5'] <class 'numpy.ndarray'>\n",
      "1 <class 'numpy.str_'> 4.5 <class 'numpy.str_'>\n"
     ]
    }
   ],
   "source": [
    "arr = np.array ( [ 1,4,7, 'f' , 'i ', 8.45,4.5])\n",
    "print(arr, type (arr))\n",
    "print ( arr[0], type (arr[0]), arr[6], type (arr[6]) )"
   ]
  },
  {
   "cell_type": "markdown",
   "metadata": {},
   "source": [
    "#### create an array with specific datatype"
   ]
  },
  {
   "cell_type": "code",
   "execution_count": 35,
   "metadata": {},
   "outputs": [
    {
     "name": "stdout",
     "output_type": "stream",
     "text": [
      "[1. 3. 5. 6. 8.] <class 'numpy.float64'>\n"
     ]
    }
   ],
   "source": [
    "data = np.array ( [ 1,3,5,6,8] , dtype = np.float ) # creating float\n",
    "print(data, type (data[1]) )"
   ]
  },
  {
   "cell_type": "code",
   "execution_count": 38,
   "metadata": {},
   "outputs": [
    {
     "name": "stdout",
     "output_type": "stream",
     "text": [
      "[2 8] <class 'numpy.int32'>\n"
     ]
    }
   ],
   "source": [
    "data = np.array ([ '2', '8' ], dtype = np.int)     # creating int\n",
    "print(data, type (data[1]) )"
   ]
  },
  {
   "cell_type": "code",
   "execution_count": 42,
   "metadata": {},
   "outputs": [
    {
     "name": "stdout",
     "output_type": "stream",
     "text": [
      "[3 5 6 8] <class 'numpy.int32'>\n"
     ]
    }
   ],
   "source": [
    "data = np.array ([  3.4, 5.6, 6.0, 8.4], dtype = np.int) # converting to int\n",
    "print(data, type (data[1]) )"
   ]
  },
  {
   "cell_type": "code",
   "execution_count": 52,
   "metadata": {},
   "outputs": [
    {
     "name": "stdout",
     "output_type": "stream",
     "text": [
      "['r' 'ty' '9' '0'] <class 'numpy.str_'>\n"
     ]
    }
   ],
   "source": [
    "data = np.array ( ['r' , 'ty' ,9, 0 ],dtype = np.str)  #np.str / str  both works. But it is advisable to use np.str\n",
    "print(data, type (data[1]) )"
   ]
  },
  {
   "cell_type": "markdown",
   "metadata": {},
   "source": [
    "#### np.asarray"
   ]
  },
  {
   "cell_type": "code",
   "execution_count": 8,
   "metadata": {},
   "outputs": [
    {
     "name": "stdout",
     "output_type": "stream",
     "text": [
      "[1 2 3 6 2 8 9] <class 'numpy.ndarray'> 1 7 (7,)\n"
     ]
    }
   ],
   "source": [
    "arr = np.asarray( [ 1,2,3,6,2,8,9 ] )\n",
    "print(arr, type (arr) , arr.ndim, arr.size,arr.shape)\n"
   ]
  },
  {
   "cell_type": "markdown",
   "metadata": {},
   "source": [
    "#### arange()"
   ]
  },
  {
   "cell_type": "code",
   "execution_count": 9,
   "metadata": {},
   "outputs": [
    {
     "name": "stdout",
     "output_type": "stream",
     "text": [
      "[1 3 5 7 9]\t1\t5\t(5,)\n"
     ]
    }
   ],
   "source": [
    "arr = np.arange ( 1,10,2) \n",
    "print(arr , arr.ndim , arr.size, arr.shape , sep =\"\\t\")"
   ]
  },
  {
   "cell_type": "code",
   "execution_count": 10,
   "metadata": {},
   "outputs": [
    {
     "name": "stdout",
     "output_type": "stream",
     "text": [
      "[-10  -9  -8  -7  -6  -5  -4  -3]\n",
      "[-10  -7  -4]\t1\t3\t(3,)\n"
     ]
    }
   ],
   "source": [
    "arr = np.array ( np.arange ( -10 , -2 ) )\n",
    "print(arr )\n",
    "arr = np.arange ( -10 , -2 , 3) \n",
    "print(arr , arr.ndim , arr.size, arr.shape , sep =\"\\t\")\n"
   ]
  },
  {
   "cell_type": "code",
   "execution_count": 71,
   "metadata": {},
   "outputs": [
    {
     "name": "stdout",
     "output_type": "stream",
     "text": [
      "[ 2  4  6  8 10 12 14 16 18 20 22 24]\n"
     ]
    }
   ],
   "source": [
    "a = range (2,25,2)\n",
    "arr = np.array(a)\n",
    "print (arr)"
   ]
  },
  {
   "cell_type": "code",
   "execution_count": 3,
   "metadata": {},
   "outputs": [
    {
     "data": {
      "text/plain": [
       "array([ 2,  4,  6,  8, 10, 12, 14, 16, 18, 20, 22, 24])"
      ]
     },
     "execution_count": 3,
     "metadata": {},
     "output_type": "execute_result"
    }
   ],
   "source": [
    "a=np.array(range (2,25,2))\n",
    "a"
   ]
  },
  {
   "cell_type": "code",
   "execution_count": 4,
   "metadata": {},
   "outputs": [
    {
     "data": {
      "text/plain": [
       "(12,)"
      ]
     },
     "execution_count": 4,
     "metadata": {},
     "output_type": "execute_result"
    }
   ],
   "source": [
    "a.shape"
   ]
  },
  {
   "cell_type": "code",
   "execution_count": null,
   "metadata": {},
   "outputs": [],
   "source": []
  }
 ],
 "metadata": {
  "kernelspec": {
   "display_name": "Python 3",
   "language": "python",
   "name": "python3"
  },
  "language_info": {
   "codemirror_mode": {
    "name": "ipython",
    "version": 3
   },
   "file_extension": ".py",
   "mimetype": "text/x-python",
   "name": "python",
   "nbconvert_exporter": "python",
   "pygments_lexer": "ipython3",
   "version": "3.7.3"
  }
 },
 "nbformat": 4,
 "nbformat_minor": 2
}
