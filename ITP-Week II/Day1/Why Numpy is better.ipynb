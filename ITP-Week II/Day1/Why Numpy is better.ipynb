{
 "cells": [
  {
   "cell_type": "markdown",
   "metadata": {},
   "source": [
    "- Less space , more computational time\n",
    "- built based on C , so int in 4 in numpy"
   ]
  },
  {
   "cell_type": "code",
   "execution_count": 28,
   "metadata": {},
   "outputs": [],
   "source": [
    "import numpy as np\n",
    "import sys\n",
    "import time"
   ]
  },
  {
   "cell_type": "markdown",
   "metadata": {},
   "source": [
    "sys.getsize()  will get the size of an element"
   ]
  },
  {
   "cell_type": "code",
   "execution_count": 23,
   "metadata": {},
   "outputs": [
    {
     "name": "stdout",
     "output_type": "stream",
     "text": [
      "28 280\n"
     ]
    }
   ],
   "source": [
    "s = list(range (10))\n",
    "print (sys.getsizeof(s[1]), sys.getsizeof(s[1]) * len (s) )"
   ]
  },
  {
   "cell_type": "code",
   "execution_count": 24,
   "metadata": {},
   "outputs": [
    {
     "name": "stdout",
     "output_type": "stream",
     "text": [
      "4 40\n"
     ]
    }
   ],
   "source": [
    "arr = np.arange(10)\n",
    "print ( arr[1].itemsize, arr[1].itemsize * arr.size )"
   ]
  },
  {
   "cell_type": "code",
   "execution_count": 33,
   "metadata": {},
   "outputs": [
    {
     "name": "stdout",
     "output_type": "stream",
     "text": [
      "1.995086669921875\n"
     ]
    }
   ],
   "source": [
    "size = 100000\n",
    "l1 = list(range(size) )\n",
    "l2 =list(range (size))\n",
    "\n",
    "\n",
    "start = time.time()\n",
    "result = l1 + l2\n",
    "end = time.time()\n",
    "\n",
    "print((end-start) * 1000)"
   ]
  },
  {
   "cell_type": "code",
   "execution_count": 34,
   "metadata": {},
   "outputs": [
    {
     "name": "stdout",
     "output_type": "stream",
     "text": [
      "0.3542900085449219\n"
     ]
    }
   ],
   "source": [
    "a1 = np.arange(size)\n",
    "a2 = np.arange(size)\n",
    "\n",
    "start = time.time()\n",
    "result = a1+a2\n",
    "end = time.time()\n",
    "\n",
    "print((end-start) * 1000)"
   ]
  },
  {
   "cell_type": "code",
   "execution_count": null,
   "metadata": {},
   "outputs": [],
   "source": []
  }
 ],
 "metadata": {
  "kernelspec": {
   "display_name": "Python 3",
   "language": "python",
   "name": "python3"
  },
  "language_info": {
   "codemirror_mode": {
    "name": "ipython",
    "version": 3
   },
   "file_extension": ".py",
   "mimetype": "text/x-python",
   "name": "python",
   "nbconvert_exporter": "python",
   "pygments_lexer": "ipython3",
   "version": "3.7.3"
  }
 },
 "nbformat": 4,
 "nbformat_minor": 2
}
