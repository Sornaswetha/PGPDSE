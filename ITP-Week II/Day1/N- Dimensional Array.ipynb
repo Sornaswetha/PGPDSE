{
 "cells": [
  {
   "cell_type": "markdown",
   "metadata": {},
   "source": [
    "1D- List\n",
    "2D - List of List\n",
    "3D - List of List of lists"
   ]
  },
  {
   "cell_type": "markdown",
   "metadata": {},
   "source": [
    "#### 1- D"
   ]
  },
  {
   "cell_type": "code",
   "execution_count": 13,
   "metadata": {},
   "outputs": [
    {
     "name": "stdout",
     "output_type": "stream",
     "text": [
      "[1 7 4]\n",
      "Shape : (3,)\n",
      "Data Type : int32\n",
      "Dim :  1\n",
      "Size: 3\n",
      "Item Size: 4\n"
     ]
    }
   ],
   "source": [
    "import numpy as np\n",
    "a = np.array([1,7,4])\n",
    "print(a)\n",
    "print( \"Shape :\"  ,a.shape)\n",
    "print( \"Data Type :\"  ,a.dtype) \n",
    "print(\"Dim : \" , a.ndim)\n",
    "print( \"Size:\" , a.size)\n",
    "print( \"Item Size:\" , a.itemsize)"
   ]
  },
  {
   "cell_type": "markdown",
   "metadata": {},
   "source": [
    "#### 2 - D"
   ]
  },
  {
   "cell_type": "code",
   "execution_count": 12,
   "metadata": {},
   "outputs": [
    {
     "name": "stdout",
     "output_type": "stream",
     "text": [
      "[[1 2 3]\n",
      " [6 7 8]]\n",
      "Shape : (2, 3)\n",
      "Data Type : int32\n",
      "Dim :  2\n",
      "Size: 6\n",
      "Item Size: 4\n"
     ]
    }
   ],
   "source": [
    "a = np.array ( [[ 1,2,3] , [6,7,8]])\n",
    "print(a)\n",
    "print( \"Shape :\"  ,a.shape)\n",
    "print( \"Data Type :\"  ,a.dtype) \n",
    "print(\"Dim : \" , a.ndim)\n",
    "print( \"Size:\" , a.size)\n",
    "print( \"Item Size:\" , a.itemsize)"
   ]
  },
  {
   "cell_type": "code",
   "execution_count": 15,
   "metadata": {},
   "outputs": [
    {
     "name": "stdout",
     "output_type": "stream",
     "text": [
      "[[1 2 3 3]\n",
      " [6 7 8 8]\n",
      " [4 6 7 8]\n",
      " [3 7 0 4]\n",
      " [4 5 8 2]]\n",
      "Shape : (5, 4)\n",
      "Data Type : int32\n",
      "Dim :  2\n",
      "Size: 20\n",
      "Item Size: 4\n"
     ]
    }
   ],
   "source": [
    "  #row 5 column 4\n",
    "a = np.array ( [ [ 1,2,3,3] , [6,7,8,8] ,[4,6,7,8] , [3,7,0,4] , [4,5,8,2] ] )\n",
    "print(a)\n",
    "print( \"Shape :\"  ,a.shape)\n",
    "print( \"Data Type :\"  ,a.dtype) \n",
    "print(\"Dim : \" , a.ndim)\n",
    "print( \"Size:\" , a.size)\n",
    "print( \"Item Size:\" , a.itemsize)"
   ]
  },
  {
   "cell_type": "code",
   "execution_count": 17,
   "metadata": {},
   "outputs": [
    {
     "name": "stdout",
     "output_type": "stream",
     "text": [
      "[[1]\n",
      " [5]\n",
      " [7]]\n",
      "Shape : (3, 1)\n",
      "Data Type : int32\n",
      "Dim :  2\n",
      "Size: 3\n",
      "Item Size: 4\n"
     ]
    }
   ],
   "source": [
    "  # 3 x 1\n",
    "a = np.array ( [ [1],[5],[7] ] )\n",
    "print(a)\n",
    "print( \"Shape :\"  ,a.shape)\n",
    "print( \"Data Type :\"  ,a.dtype) \n",
    "print(\"Dim : \" , a.ndim)\n",
    "print( \"Size:\" , a.size)\n",
    "print( \"Item Size:\" , a.itemsize)"
   ]
  },
  {
   "cell_type": "markdown",
   "metadata": {},
   "source": [
    "#### 3 - D"
   ]
  },
  {
   "cell_type": "code",
   "execution_count": 18,
   "metadata": {},
   "outputs": [
    {
     "name": "stdout",
     "output_type": "stream",
     "text": [
      "[[[1 2 3 3]\n",
      "  [6 7 8 8]\n",
      "  [4 6 7 8]\n",
      "  [3 7 0 4]\n",
      "  [4 5 8 2]]\n",
      "\n",
      " [[1 2 3 3]\n",
      "  [6 7 8 8]\n",
      "  [4 6 7 8]\n",
      "  [3 7 0 4]\n",
      "  [4 5 8 2]]]\n",
      "Shape : (2, 5, 4)\n",
      "Data Type : int32\n",
      "Dim :  3\n",
      "Size: 40\n",
      "Item Size: 4\n"
     ]
    }
   ],
   "source": [
    "a= [[ [ 1,2,3,3] , [6,7,8,8] ,[4,6,7,8] , [3,7,0,4] , [4,5,8,2] ] , [ [ 1,2,3,3] , [6,7,8,8] ,[4,6,7,8] , [3,7,0,4] , [4,5,8,2] ]]\n",
    "a = np.array ( a )\n",
    "print(a)\n",
    "print( \"Shape :\"  ,a.shape)\n",
    "print( \"Data Type :\"  ,a.dtype) \n",
    "print(\"Dim : \" , a.ndim)\n",
    "print( \"Size:\" , a.size)\n",
    "print( \"Item Size:\" , a.itemsize)"
   ]
  },
  {
   "cell_type": "markdown",
   "metadata": {},
   "source": [
    "#### Reshape()\n",
    "\n",
    "- Sum of elements should match the product of rows and columns"
   ]
  },
  {
   "cell_type": "code",
   "execution_count": 21,
   "metadata": {},
   "outputs": [
    {
     "name": "stdout",
     "output_type": "stream",
     "text": [
      "[1 7 4 6]\n",
      "Shape : (4,)\n",
      "Data Type : int32\n",
      "Dim :  1\n",
      "Size: 4\n",
      "Item Size: 4\n",
      "\n",
      "[[1 7]\n",
      " [4 6]]\n",
      "Shape : (2, 2)\n",
      "Data Type : int32\n",
      "Dim :  2\n",
      "Size: 4\n",
      "Item Size: 4\n"
     ]
    }
   ],
   "source": [
    "a = np.array([1,7,4,6])\n",
    "print(a)\n",
    "print( \"Shape :\"  ,a.shape)\n",
    "print( \"Data Type :\"  ,a.dtype) \n",
    "print(\"Dim : \" , a.ndim)\n",
    "print( \"Size:\" , a.size)\n",
    "print( \"Item Size:\" , a.itemsize)\n",
    "print()\n",
    "a = a.reshape(2,2)\n",
    "print(a)\n",
    "print( \"Shape :\"  ,a.shape)\n",
    "print( \"Data Type :\"  ,a.dtype) \n",
    "print(\"Dim : \" , a.ndim)\n",
    "print( \"Size:\" , a.size)\n",
    "print( \"Item Size:\" , a.itemsize)"
   ]
  },
  {
   "cell_type": "markdown",
   "metadata": {},
   "source": [
    "##### Convert a range of 27 to 3 D"
   ]
  },
  {
   "cell_type": "code",
   "execution_count": 27,
   "metadata": {},
   "outputs": [
    {
     "name": "stdout",
     "output_type": "stream",
     "text": [
      "[[[ 0  1  2]\n",
      "  [ 3  4  5]\n",
      "  [ 6  7  8]]\n",
      "\n",
      " [[ 9 10 11]\n",
      "  [12 13 14]\n",
      "  [15 16 17]]\n",
      "\n",
      " [[18 19 20]\n",
      "  [21 22 23]\n",
      "  [24 25 26]]]\n",
      "Shape : (3, 3, 3)\n",
      "Data Type : int32\n",
      "Dim :  3\n",
      "Size: 27\n",
      "Item Size: 4\n"
     ]
    }
   ],
   "source": [
    "a =np.arange(27)\n",
    "a=a.reshape(3,3,3)\n",
    "print(a)\n",
    "print( \"Shape :\"  ,a.shape)\n",
    "print( \"Data Type :\"  ,a.dtype) \n",
    "print(\"Dim : \" , a.ndim)\n",
    "print( \"Size:\" , a.size)\n",
    "print( \"Item Size:\" , a.itemsize)"
   ]
  },
  {
   "cell_type": "code",
   "execution_count": 34,
   "metadata": {},
   "outputs": [
    {
     "name": "stdout",
     "output_type": "stream",
     "text": [
      "[[[ 0  1  2  3]\n",
      "  [ 4  5  6  7]\n",
      "  [ 8  9 10 11]]\n",
      "\n",
      " [[12 13 14 15]\n",
      "  [16 17 18 19]\n",
      "  [20 21 22 23]]]\n",
      "==================\n",
      "[[[ 0  1  2]\n",
      "  [ 3  4  5]\n",
      "  [ 6  7  8]\n",
      "  [ 9 10 11]]\n",
      "\n",
      " [[12 13 14]\n",
      "  [15 16 17]\n",
      "  [18 19 20]\n",
      "  [21 22 23]]]\n",
      "==================\n",
      "[[[ 0  1  2  3]\n",
      "  [ 4  5  6  7]]\n",
      "\n",
      " [[ 8  9 10 11]\n",
      "  [12 13 14 15]]\n",
      "\n",
      " [[16 17 18 19]\n",
      "  [20 21 22 23]]]\n",
      "==================\n",
      "[[[ 0  1]\n",
      "  [ 2  3]\n",
      "  [ 4  5]\n",
      "  [ 6  7]]\n",
      "\n",
      " [[ 8  9]\n",
      "  [10 11]\n",
      "  [12 13]\n",
      "  [14 15]]\n",
      "\n",
      " [[16 17]\n",
      "  [18 19]\n",
      "  [20 21]\n",
      "  [22 23]]]\n",
      "==================\n",
      "[[[ 0  1]\n",
      "  [ 2  3]\n",
      "  [ 4  5]]\n",
      "\n",
      " [[ 6  7]\n",
      "  [ 8  9]\n",
      "  [10 11]]\n",
      "\n",
      " [[12 13]\n",
      "  [14 15]\n",
      "  [16 17]]\n",
      "\n",
      " [[18 19]\n",
      "  [20 21]\n",
      "  [22 23]]]\n",
      "==================\n",
      "[[[ 0  1  2]\n",
      "  [ 3  4  5]]\n",
      "\n",
      " [[ 6  7  8]\n",
      "  [ 9 10 11]]\n",
      "\n",
      " [[12 13 14]\n",
      "  [15 16 17]]\n",
      "\n",
      " [[18 19 20]\n",
      "  [21 22 23]]]\n"
     ]
    }
   ],
   "source": [
    "a= np.arange(24)\n",
    "print(a.reshape(2,3,4))\n",
    "print(\"==================\")\n",
    "print(a.reshape(2,4,3))\n",
    "print(\"==================\")\n",
    "print(a.reshape(3,2,4))\n",
    "print(\"==================\")\n",
    "print(a.reshape(3,4,2))\n",
    "print(\"==================\")\n",
    "print(a.reshape(4,3,2))\n",
    "print(\"==================\")\n",
    "print(a.reshape(4,2,3))"
   ]
  },
  {
   "cell_type": "markdown",
   "metadata": {},
   "source": [
    "#### Data Slicing"
   ]
  },
  {
   "cell_type": "code",
   "execution_count": 61,
   "metadata": {},
   "outputs": [
    {
     "name": "stdout",
     "output_type": "stream",
     "text": [
      "[[ 0  1  2  3  4]\n",
      " [ 5  6  7  8  9]\n",
      " [10 11 12 13 14]]\n",
      "\n",
      "[0 1 2 3 4]\n",
      "1\n",
      "First Column:\n",
      "[ 0  5 10]\n",
      "First two Rows: \n",
      "[[0 1 2 3 4]\n",
      " [5 6 7 8 9]]\n",
      "First two Rows: \n",
      "[[0 1 2 3 4]\n",
      " [5 6 7 8 9]]\n",
      "First two Rows and two columns: \n",
      "[[0 1]\n",
      " [5 6]]\n",
      "First two Rows and two columns: \n",
      "[[0 1]\n",
      " [5 6]]\n",
      "4th columns: \n",
      "[ 3  8 13]\n"
     ]
    }
   ],
   "source": [
    "a= np.arange(15).reshape(3,5)\n",
    "print(a)\n",
    "print()\n",
    "print(a[0])\n",
    "print(a[0,1])\n",
    "print(\"First Column:\")\n",
    "print(a[:,0])\n",
    "print(\"First two Rows: \")\n",
    "print(a[0:2:1])\n",
    "print(\"First two Rows: \")\n",
    "print(a[:2])\n",
    "print(\"First two Rows and two columns: \")\n",
    "print(a[0:2:1,0:2:1])\n",
    "print(\"First two Rows and two columns: \")\n",
    "print(a[:2,:2])\n",
    "print(\"4th columns: \")\n",
    "print(a[:,3])"
   ]
  },
  {
   "cell_type": "code",
   "execution_count": 74,
   "metadata": {},
   "outputs": [
    {
     "name": "stdout",
     "output_type": "stream",
     "text": [
      "[[1 2 3]\n",
      " [4 5 6]\n",
      " [7 8 9]]\n",
      "[[4 5]\n",
      " [7 8]]\n",
      "[[5 6]\n",
      " [8 9]]\n",
      "[[2]\n",
      " [5]\n",
      " [8]]\n",
      "[[4]\n",
      " [7]]\n"
     ]
    }
   ],
   "source": [
    "a=np.arange(1,10).reshape(3,3)\n",
    "print(a)\n",
    "print( a[ 1:3 ,0:2])\n",
    "print ( a [ 1:3 , 1:3])\n",
    "print( a [ : , 1:2])\n",
    "print(a[1:3,0:1])"
   ]
  },
  {
   "cell_type": "code",
   "execution_count": 77,
   "metadata": {},
   "outputs": [
    {
     "name": "stdout",
     "output_type": "stream",
     "text": [
      "[[1 3]\n",
      " [4 6]\n",
      " [7 9]]\n",
      "[[1 3]\n",
      " [4 6]\n",
      " [7 9]]\n",
      "[[1 2 3]\n",
      " [7 8 9]]\n"
     ]
    }
   ],
   "source": [
    "print( a [0:3 , 0:3:2])\n",
    "\n",
    "print( a [: ,::2] )\n",
    "\n",
    "print (a[::2 ])"
   ]
  },
  {
   "cell_type": "code",
   "execution_count": null,
   "metadata": {},
   "outputs": [],
   "source": []
  }
 ],
 "metadata": {
  "kernelspec": {
   "display_name": "Python 3",
   "language": "python",
   "name": "python3"
  },
  "language_info": {
   "codemirror_mode": {
    "name": "ipython",
    "version": 3
   },
   "file_extension": ".py",
   "mimetype": "text/x-python",
   "name": "python",
   "nbconvert_exporter": "python",
   "pygments_lexer": "ipython3",
   "version": "3.7.3"
  }
 },
 "nbformat": 4,
 "nbformat_minor": 2
}
