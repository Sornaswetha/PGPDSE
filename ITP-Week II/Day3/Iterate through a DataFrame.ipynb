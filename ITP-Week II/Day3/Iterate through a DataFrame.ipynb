{
 "cells": [
  {
   "cell_type": "code",
   "execution_count": 1,
   "metadata": {},
   "outputs": [],
   "source": [
    "import pandas as pd"
   ]
  },
  {
   "cell_type": "code",
   "execution_count": 2,
   "metadata": {},
   "outputs": [
    {
     "data": {
      "text/html": [
       "<div>\n",
       "<style scoped>\n",
       "    .dataframe tbody tr th:only-of-type {\n",
       "        vertical-align: middle;\n",
       "    }\n",
       "\n",
       "    .dataframe tbody tr th {\n",
       "        vertical-align: top;\n",
       "    }\n",
       "\n",
       "    .dataframe thead th {\n",
       "        text-align: right;\n",
       "    }\n",
       "</style>\n",
       "<table border=\"1\" class=\"dataframe\">\n",
       "  <thead>\n",
       "    <tr style=\"text-align: right;\">\n",
       "      <th></th>\n",
       "      <th>Fruit</th>\n",
       "      <th>Color</th>\n",
       "      <th>Cost</th>\n",
       "    </tr>\n",
       "  </thead>\n",
       "  <tbody>\n",
       "    <tr>\n",
       "      <th>0</th>\n",
       "      <td>Apple</td>\n",
       "      <td>Red</td>\n",
       "      <td>50</td>\n",
       "    </tr>\n",
       "    <tr>\n",
       "      <th>1</th>\n",
       "      <td>Grapes</td>\n",
       "      <td>Green</td>\n",
       "      <td>70</td>\n",
       "    </tr>\n",
       "    <tr>\n",
       "      <th>2</th>\n",
       "      <td>Apple</td>\n",
       "      <td>Green</td>\n",
       "      <td>80</td>\n",
       "    </tr>\n",
       "    <tr>\n",
       "      <th>3</th>\n",
       "      <td>Grapes</td>\n",
       "      <td>Black</td>\n",
       "      <td>50</td>\n",
       "    </tr>\n",
       "    <tr>\n",
       "      <th>4</th>\n",
       "      <td>Gauva</td>\n",
       "      <td>Green</td>\n",
       "      <td>65</td>\n",
       "    </tr>\n",
       "    <tr>\n",
       "      <th>5</th>\n",
       "      <td>Gauva</td>\n",
       "      <td>Red</td>\n",
       "      <td>70</td>\n",
       "    </tr>\n",
       "    <tr>\n",
       "      <th>6</th>\n",
       "      <td>Berry</td>\n",
       "      <td>Black</td>\n",
       "      <td>80</td>\n",
       "    </tr>\n",
       "    <tr>\n",
       "      <th>7</th>\n",
       "      <td>Berry</td>\n",
       "      <td>Red</td>\n",
       "      <td>90</td>\n",
       "    </tr>\n",
       "    <tr>\n",
       "      <th>8</th>\n",
       "      <td>Mango</td>\n",
       "      <td>Yellow</td>\n",
       "      <td>100</td>\n",
       "    </tr>\n",
       "  </tbody>\n",
       "</table>\n",
       "</div>"
      ],
      "text/plain": [
       "    Fruit   Color  Cost\n",
       "0   Apple     Red    50\n",
       "1  Grapes   Green    70\n",
       "2   Apple   Green    80\n",
       "3  Grapes   Black    50\n",
       "4   Gauva   Green    65\n",
       "5   Gauva     Red    70\n",
       "6   Berry   Black    80\n",
       "7   Berry     Red    90\n",
       "8   Mango  Yellow   100"
      ]
     },
     "execution_count": 2,
     "metadata": {},
     "output_type": "execute_result"
    }
   ],
   "source": [
    "df = pd.DataFrame ( {\"Fruit\" : [ \"Apple\",\"Grapes\",\"Apple\",\"Grapes\",\"Gauva\", \"Gauva\",\"Berry\",\"Berry\",\"Mango\"],\n",
    "\"Color\" : [\"Red\",\"Green\",\"Green\", \"Black\",\"Green\",\"Red\",\"Black\",\"Red\",\"Yellow\"],\n",
    "\"Cost\" : [50,70,80,50,65,70,80,90,100]} )\n",
    "df"
   ]
  },
  {
   "cell_type": "code",
   "execution_count": 5,
   "metadata": {},
   "outputs": [
    {
     "name": "stdout",
     "output_type": "stream",
     "text": [
      "8\n",
      "8\n",
      "8\n"
     ]
    }
   ],
   "source": [
    "for column in df:\n",
    "    print (column)"
   ]
  },
  {
   "cell_type": "code",
   "execution_count": 6,
   "metadata": {},
   "outputs": [
    {
     "name": "stdout",
     "output_type": "stream",
     "text": [
      "0\n",
      "1\n",
      "2\n",
      "3\n",
      "4\n",
      "5\n",
      "6\n",
      "7\n",
      "8\n"
     ]
    }
   ],
   "source": [
    "for index in df.index:\n",
    "    print(index)"
   ]
  },
  {
   "cell_type": "code",
   "execution_count": 9,
   "metadata": {},
   "outputs": [
    {
     "name": "stdout",
     "output_type": "stream",
     "text": [
      "0\n",
      "Fruit    Apple\n",
      "Color      Red\n",
      "Cost        50\n",
      "Name: 0, dtype: object\n",
      "\n",
      "1\n",
      "Fruit    Grapes\n",
      "Color     Green\n",
      "Cost         70\n",
      "Name: 1, dtype: object\n",
      "\n",
      "2\n",
      "Fruit    Apple\n",
      "Color    Green\n",
      "Cost        80\n",
      "Name: 2, dtype: object\n",
      "\n",
      "3\n",
      "Fruit    Grapes\n",
      "Color     Black\n",
      "Cost         50\n",
      "Name: 3, dtype: object\n",
      "\n",
      "4\n",
      "Fruit    Gauva\n",
      "Color    Green\n",
      "Cost        65\n",
      "Name: 4, dtype: object\n",
      "\n",
      "5\n",
      "Fruit    Gauva\n",
      "Color      Red\n",
      "Cost        70\n",
      "Name: 5, dtype: object\n",
      "\n",
      "6\n",
      "Fruit    Berry\n",
      "Color    Black\n",
      "Cost        80\n",
      "Name: 6, dtype: object\n",
      "\n",
      "7\n",
      "Fruit    Berry\n",
      "Color      Red\n",
      "Cost        90\n",
      "Name: 7, dtype: object\n",
      "\n",
      "8\n",
      "Fruit     Mango\n",
      "Color    Yellow\n",
      "Cost        100\n",
      "Name: 8, dtype: object\n",
      "\n"
     ]
    }
   ],
   "source": [
    "for index,values in df.iterrows():\n",
    "    print( index, values,sep=\"\\n\")\n",
    "    print()"
   ]
  },
  {
   "cell_type": "code",
   "execution_count": 13,
   "metadata": {},
   "outputs": [
    {
     "name": "stdout",
     "output_type": "stream",
     "text": [
      "0 : Color    Red\n",
      "Cost      50\n",
      "Name: 0, dtype: object\n",
      "\n",
      "1 : Color    Green\n",
      "Cost        70\n",
      "Name: 1, dtype: object\n",
      "\n",
      "2 : Color    Green\n",
      "Cost        80\n",
      "Name: 2, dtype: object\n",
      "\n",
      "3 : Color    Black\n",
      "Cost        50\n",
      "Name: 3, dtype: object\n",
      "\n",
      "4 : Color    Green\n",
      "Cost        65\n",
      "Name: 4, dtype: object\n",
      "\n",
      "5 : Color    Red\n",
      "Cost      70\n",
      "Name: 5, dtype: object\n",
      "\n",
      "6 : Color    Black\n",
      "Cost        80\n",
      "Name: 6, dtype: object\n",
      "\n",
      "7 : Color    Red\n",
      "Cost      90\n",
      "Name: 7, dtype: object\n",
      "\n",
      "8 : Color    Yellow\n",
      "Cost        100\n",
      "Name: 8, dtype: object\n",
      "\n"
     ]
    }
   ],
   "source": [
    "for index,values in df.iterrows():\n",
    "    print( index, values[[\"Color\", \"Cost\"]],sep=\" : \")\n",
    "    print()"
   ]
  },
  {
   "cell_type": "code",
   "execution_count": 23,
   "metadata": {},
   "outputs": [
    {
     "name": "stdout",
     "output_type": "stream",
     "text": [
      "0 : Red : R\n",
      "\n",
      "1 : Green : G\n",
      "\n",
      "2 : Green : G\n",
      "\n",
      "3 : Black : B\n",
      "\n",
      "4 : Green : G\n",
      "\n",
      "5 : Red : R\n",
      "\n",
      "6 : Black : B\n",
      "\n",
      "7 : Red : R\n",
      "\n",
      "8 : Yellow : Y\n",
      "\n"
     ]
    }
   ],
   "source": [
    "for index,values in df.iterrows():\n",
    "    print( index,values[\"Color\"],values[\"Color\"][0] ,sep=\" : \")\n",
    "    print()"
   ]
  },
  {
   "cell_type": "code",
   "execution_count": 24,
   "metadata": {},
   "outputs": [
    {
     "name": "stdout",
     "output_type": "stream",
     "text": [
      "Red\n",
      "Green\n",
      "Green\n",
      "Black\n",
      "Green\n",
      "Red\n",
      "Black\n",
      "Red\n",
      "Yellow\n"
     ]
    }
   ],
   "source": [
    "for col in df[\"Color\"]:\n",
    "    print(col)"
   ]
  },
  {
   "cell_type": "code",
   "execution_count": null,
   "metadata": {},
   "outputs": [],
   "source": []
  }
 ],
 "metadata": {
  "kernelspec": {
   "display_name": "Python 3",
   "language": "python",
   "name": "python3"
  },
  "language_info": {
   "codemirror_mode": {
    "name": "ipython",
    "version": 3
   },
   "file_extension": ".py",
   "mimetype": "text/x-python",
   "name": "python",
   "nbconvert_exporter": "python",
   "pygments_lexer": "ipython3",
   "version": "3.7.3"
  }
 },
 "nbformat": 4,
 "nbformat_minor": 2
}
